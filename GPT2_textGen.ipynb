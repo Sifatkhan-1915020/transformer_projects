{
  "nbformat": 4,
  "nbformat_minor": 0,
  "metadata": {
    "colab": {
      "provenance": [],
      "gpuType": "T4"
    },
    "kernelspec": {
      "name": "python3",
      "display_name": "Python 3"
    },
    "language_info": {
      "name": "python"
    },
    "accelerator": "GPU",
    "widgets": {
      "application/vnd.jupyter.widget-state+json": {
        "fba07216e61640e38e6b0e8c44bd610f": {
          "model_module": "@jupyter-widgets/controls",
          "model_name": "HBoxModel",
          "model_module_version": "1.5.0",
          "state": {
            "_dom_classes": [],
            "_model_module": "@jupyter-widgets/controls",
            "_model_module_version": "1.5.0",
            "_model_name": "HBoxModel",
            "_view_count": null,
            "_view_module": "@jupyter-widgets/controls",
            "_view_module_version": "1.5.0",
            "_view_name": "HBoxView",
            "box_style": "",
            "children": [
              "IPY_MODEL_c6b1d1924e3a417b954aaadad6e5f5a7",
              "IPY_MODEL_c59461213ac5495e8fc05c330896d37b",
              "IPY_MODEL_3639580f0bfb42bcaf51839ac4855b69"
            ],
            "layout": "IPY_MODEL_d49944f2a5034636b8aa6cd0fafd00eb"
          }
        },
        "c6b1d1924e3a417b954aaadad6e5f5a7": {
          "model_module": "@jupyter-widgets/controls",
          "model_name": "HTMLModel",
          "model_module_version": "1.5.0",
          "state": {
            "_dom_classes": [],
            "_model_module": "@jupyter-widgets/controls",
            "_model_module_version": "1.5.0",
            "_model_name": "HTMLModel",
            "_view_count": null,
            "_view_module": "@jupyter-widgets/controls",
            "_view_module_version": "1.5.0",
            "_view_name": "HTMLView",
            "description": "",
            "description_tooltip": null,
            "layout": "IPY_MODEL_c494237e61ad46a4a39a5d895fbb37e9",
            "placeholder": "​",
            "style": "IPY_MODEL_79b5bfca1772432aa8ec6c0d5de2279c",
            "value": "README.md: 100%"
          }
        },
        "c59461213ac5495e8fc05c330896d37b": {
          "model_module": "@jupyter-widgets/controls",
          "model_name": "FloatProgressModel",
          "model_module_version": "1.5.0",
          "state": {
            "_dom_classes": [],
            "_model_module": "@jupyter-widgets/controls",
            "_model_module_version": "1.5.0",
            "_model_name": "FloatProgressModel",
            "_view_count": null,
            "_view_module": "@jupyter-widgets/controls",
            "_view_module_version": "1.5.0",
            "_view_name": "ProgressView",
            "bar_style": "success",
            "description": "",
            "description_tooltip": null,
            "layout": "IPY_MODEL_6bfcd639f14b41ed9da250d6bfb15a1a",
            "max": 683,
            "min": 0,
            "orientation": "horizontal",
            "style": "IPY_MODEL_e3d6e0e47f32484ca254d6cd13e80391",
            "value": 683
          }
        },
        "3639580f0bfb42bcaf51839ac4855b69": {
          "model_module": "@jupyter-widgets/controls",
          "model_name": "HTMLModel",
          "model_module_version": "1.5.0",
          "state": {
            "_dom_classes": [],
            "_model_module": "@jupyter-widgets/controls",
            "_model_module_version": "1.5.0",
            "_model_name": "HTMLModel",
            "_view_count": null,
            "_view_module": "@jupyter-widgets/controls",
            "_view_module_version": "1.5.0",
            "_view_name": "HTMLView",
            "description": "",
            "description_tooltip": null,
            "layout": "IPY_MODEL_e706c29682b0475c853479bb92217313",
            "placeholder": "​",
            "style": "IPY_MODEL_f593f5900b5b4230a64acc1b49ba298f",
            "value": " 683/683 [00:00&lt;00:00, 31.5kB/s]"
          }
        },
        "d49944f2a5034636b8aa6cd0fafd00eb": {
          "model_module": "@jupyter-widgets/base",
          "model_name": "LayoutModel",
          "model_module_version": "1.2.0",
          "state": {
            "_model_module": "@jupyter-widgets/base",
            "_model_module_version": "1.2.0",
            "_model_name": "LayoutModel",
            "_view_count": null,
            "_view_module": "@jupyter-widgets/base",
            "_view_module_version": "1.2.0",
            "_view_name": "LayoutView",
            "align_content": null,
            "align_items": null,
            "align_self": null,
            "border": null,
            "bottom": null,
            "display": null,
            "flex": null,
            "flex_flow": null,
            "grid_area": null,
            "grid_auto_columns": null,
            "grid_auto_flow": null,
            "grid_auto_rows": null,
            "grid_column": null,
            "grid_gap": null,
            "grid_row": null,
            "grid_template_areas": null,
            "grid_template_columns": null,
            "grid_template_rows": null,
            "height": null,
            "justify_content": null,
            "justify_items": null,
            "left": null,
            "margin": null,
            "max_height": null,
            "max_width": null,
            "min_height": null,
            "min_width": null,
            "object_fit": null,
            "object_position": null,
            "order": null,
            "overflow": null,
            "overflow_x": null,
            "overflow_y": null,
            "padding": null,
            "right": null,
            "top": null,
            "visibility": null,
            "width": null
          }
        },
        "c494237e61ad46a4a39a5d895fbb37e9": {
          "model_module": "@jupyter-widgets/base",
          "model_name": "LayoutModel",
          "model_module_version": "1.2.0",
          "state": {
            "_model_module": "@jupyter-widgets/base",
            "_model_module_version": "1.2.0",
            "_model_name": "LayoutModel",
            "_view_count": null,
            "_view_module": "@jupyter-widgets/base",
            "_view_module_version": "1.2.0",
            "_view_name": "LayoutView",
            "align_content": null,
            "align_items": null,
            "align_self": null,
            "border": null,
            "bottom": null,
            "display": null,
            "flex": null,
            "flex_flow": null,
            "grid_area": null,
            "grid_auto_columns": null,
            "grid_auto_flow": null,
            "grid_auto_rows": null,
            "grid_column": null,
            "grid_gap": null,
            "grid_row": null,
            "grid_template_areas": null,
            "grid_template_columns": null,
            "grid_template_rows": null,
            "height": null,
            "justify_content": null,
            "justify_items": null,
            "left": null,
            "margin": null,
            "max_height": null,
            "max_width": null,
            "min_height": null,
            "min_width": null,
            "object_fit": null,
            "object_position": null,
            "order": null,
            "overflow": null,
            "overflow_x": null,
            "overflow_y": null,
            "padding": null,
            "right": null,
            "top": null,
            "visibility": null,
            "width": null
          }
        },
        "79b5bfca1772432aa8ec6c0d5de2279c": {
          "model_module": "@jupyter-widgets/controls",
          "model_name": "DescriptionStyleModel",
          "model_module_version": "1.5.0",
          "state": {
            "_model_module": "@jupyter-widgets/controls",
            "_model_module_version": "1.5.0",
            "_model_name": "DescriptionStyleModel",
            "_view_count": null,
            "_view_module": "@jupyter-widgets/base",
            "_view_module_version": "1.2.0",
            "_view_name": "StyleView",
            "description_width": ""
          }
        },
        "6bfcd639f14b41ed9da250d6bfb15a1a": {
          "model_module": "@jupyter-widgets/base",
          "model_name": "LayoutModel",
          "model_module_version": "1.2.0",
          "state": {
            "_model_module": "@jupyter-widgets/base",
            "_model_module_version": "1.2.0",
            "_model_name": "LayoutModel",
            "_view_count": null,
            "_view_module": "@jupyter-widgets/base",
            "_view_module_version": "1.2.0",
            "_view_name": "LayoutView",
            "align_content": null,
            "align_items": null,
            "align_self": null,
            "border": null,
            "bottom": null,
            "display": null,
            "flex": null,
            "flex_flow": null,
            "grid_area": null,
            "grid_auto_columns": null,
            "grid_auto_flow": null,
            "grid_auto_rows": null,
            "grid_column": null,
            "grid_gap": null,
            "grid_row": null,
            "grid_template_areas": null,
            "grid_template_columns": null,
            "grid_template_rows": null,
            "height": null,
            "justify_content": null,
            "justify_items": null,
            "left": null,
            "margin": null,
            "max_height": null,
            "max_width": null,
            "min_height": null,
            "min_width": null,
            "object_fit": null,
            "object_position": null,
            "order": null,
            "overflow": null,
            "overflow_x": null,
            "overflow_y": null,
            "padding": null,
            "right": null,
            "top": null,
            "visibility": null,
            "width": null
          }
        },
        "e3d6e0e47f32484ca254d6cd13e80391": {
          "model_module": "@jupyter-widgets/controls",
          "model_name": "ProgressStyleModel",
          "model_module_version": "1.5.0",
          "state": {
            "_model_module": "@jupyter-widgets/controls",
            "_model_module_version": "1.5.0",
            "_model_name": "ProgressStyleModel",
            "_view_count": null,
            "_view_module": "@jupyter-widgets/base",
            "_view_module_version": "1.2.0",
            "_view_name": "StyleView",
            "bar_color": null,
            "description_width": ""
          }
        },
        "e706c29682b0475c853479bb92217313": {
          "model_module": "@jupyter-widgets/base",
          "model_name": "LayoutModel",
          "model_module_version": "1.2.0",
          "state": {
            "_model_module": "@jupyter-widgets/base",
            "_model_module_version": "1.2.0",
            "_model_name": "LayoutModel",
            "_view_count": null,
            "_view_module": "@jupyter-widgets/base",
            "_view_module_version": "1.2.0",
            "_view_name": "LayoutView",
            "align_content": null,
            "align_items": null,
            "align_self": null,
            "border": null,
            "bottom": null,
            "display": null,
            "flex": null,
            "flex_flow": null,
            "grid_area": null,
            "grid_auto_columns": null,
            "grid_auto_flow": null,
            "grid_auto_rows": null,
            "grid_column": null,
            "grid_gap": null,
            "grid_row": null,
            "grid_template_areas": null,
            "grid_template_columns": null,
            "grid_template_rows": null,
            "height": null,
            "justify_content": null,
            "justify_items": null,
            "left": null,
            "margin": null,
            "max_height": null,
            "max_width": null,
            "min_height": null,
            "min_width": null,
            "object_fit": null,
            "object_position": null,
            "order": null,
            "overflow": null,
            "overflow_x": null,
            "overflow_y": null,
            "padding": null,
            "right": null,
            "top": null,
            "visibility": null,
            "width": null
          }
        },
        "f593f5900b5b4230a64acc1b49ba298f": {
          "model_module": "@jupyter-widgets/controls",
          "model_name": "DescriptionStyleModel",
          "model_module_version": "1.5.0",
          "state": {
            "_model_module": "@jupyter-widgets/controls",
            "_model_module_version": "1.5.0",
            "_model_name": "DescriptionStyleModel",
            "_view_count": null,
            "_view_module": "@jupyter-widgets/base",
            "_view_module_version": "1.2.0",
            "_view_name": "StyleView",
            "description_width": ""
          }
        },
        "3d3ec9014fbb451aac18f4a2da027f60": {
          "model_module": "@jupyter-widgets/controls",
          "model_name": "HBoxModel",
          "model_module_version": "1.5.0",
          "state": {
            "_dom_classes": [],
            "_model_module": "@jupyter-widgets/controls",
            "_model_module_version": "1.5.0",
            "_model_name": "HBoxModel",
            "_view_count": null,
            "_view_module": "@jupyter-widgets/controls",
            "_view_module_version": "1.5.0",
            "_view_name": "HBoxView",
            "box_style": "",
            "children": [
              "IPY_MODEL_ebb6903876b6482e82541bbb1fa58de4",
              "IPY_MODEL_86de6b99eb0d4009a43d416e1d62691b",
              "IPY_MODEL_8c86f37f47cb467eba195d8950a977f4"
            ],
            "layout": "IPY_MODEL_3493f0e411304344ab2606586cbba43c"
          }
        },
        "ebb6903876b6482e82541bbb1fa58de4": {
          "model_module": "@jupyter-widgets/controls",
          "model_name": "HTMLModel",
          "model_module_version": "1.5.0",
          "state": {
            "_dom_classes": [],
            "_model_module": "@jupyter-widgets/controls",
            "_model_module_version": "1.5.0",
            "_model_name": "HTMLModel",
            "_view_count": null,
            "_view_module": "@jupyter-widgets/controls",
            "_view_module_version": "1.5.0",
            "_view_name": "HTMLView",
            "description": "",
            "description_tooltip": null,
            "layout": "IPY_MODEL_614a0e0c036c457c900f6665f17a8175",
            "placeholder": "​",
            "style": "IPY_MODEL_51443b9b05e544f0af5912efb3242c96",
            "value": "(…)-00000-of-00001-c35c348d686618cf.parquet: 100%"
          }
        },
        "86de6b99eb0d4009a43d416e1d62691b": {
          "model_module": "@jupyter-widgets/controls",
          "model_name": "FloatProgressModel",
          "model_module_version": "1.5.0",
          "state": {
            "_dom_classes": [],
            "_model_module": "@jupyter-widgets/controls",
            "_model_module_version": "1.5.0",
            "_model_name": "FloatProgressModel",
            "_view_count": null,
            "_view_module": "@jupyter-widgets/controls",
            "_view_module_version": "1.5.0",
            "_view_name": "ProgressView",
            "bar_style": "success",
            "description": "",
            "description_tooltip": null,
            "layout": "IPY_MODEL_c0b1b4e0a52b4284a000029e209bc58d",
            "max": 1672988,
            "min": 0,
            "orientation": "horizontal",
            "style": "IPY_MODEL_22fc0c4bc49b47fe98d774c492116db8",
            "value": 1672988
          }
        },
        "8c86f37f47cb467eba195d8950a977f4": {
          "model_module": "@jupyter-widgets/controls",
          "model_name": "HTMLModel",
          "model_module_version": "1.5.0",
          "state": {
            "_dom_classes": [],
            "_model_module": "@jupyter-widgets/controls",
            "_model_module_version": "1.5.0",
            "_model_name": "HTMLModel",
            "_view_count": null,
            "_view_module": "@jupyter-widgets/controls",
            "_view_module_version": "1.5.0",
            "_view_name": "HTMLView",
            "description": "",
            "description_tooltip": null,
            "layout": "IPY_MODEL_a5e67332e5d94e1fb0ba993e12c02a3d",
            "placeholder": "​",
            "style": "IPY_MODEL_c6ecd6ec4da948f99f5074ed99c5dfb0",
            "value": " 1.67M/1.67M [00:00&lt;00:00, 4.60MB/s]"
          }
        },
        "3493f0e411304344ab2606586cbba43c": {
          "model_module": "@jupyter-widgets/base",
          "model_name": "LayoutModel",
          "model_module_version": "1.2.0",
          "state": {
            "_model_module": "@jupyter-widgets/base",
            "_model_module_version": "1.2.0",
            "_model_name": "LayoutModel",
            "_view_count": null,
            "_view_module": "@jupyter-widgets/base",
            "_view_module_version": "1.2.0",
            "_view_name": "LayoutView",
            "align_content": null,
            "align_items": null,
            "align_self": null,
            "border": null,
            "bottom": null,
            "display": null,
            "flex": null,
            "flex_flow": null,
            "grid_area": null,
            "grid_auto_columns": null,
            "grid_auto_flow": null,
            "grid_auto_rows": null,
            "grid_column": null,
            "grid_gap": null,
            "grid_row": null,
            "grid_template_areas": null,
            "grid_template_columns": null,
            "grid_template_rows": null,
            "height": null,
            "justify_content": null,
            "justify_items": null,
            "left": null,
            "margin": null,
            "max_height": null,
            "max_width": null,
            "min_height": null,
            "min_width": null,
            "object_fit": null,
            "object_position": null,
            "order": null,
            "overflow": null,
            "overflow_x": null,
            "overflow_y": null,
            "padding": null,
            "right": null,
            "top": null,
            "visibility": null,
            "width": null
          }
        },
        "614a0e0c036c457c900f6665f17a8175": {
          "model_module": "@jupyter-widgets/base",
          "model_name": "LayoutModel",
          "model_module_version": "1.2.0",
          "state": {
            "_model_module": "@jupyter-widgets/base",
            "_model_module_version": "1.2.0",
            "_model_name": "LayoutModel",
            "_view_count": null,
            "_view_module": "@jupyter-widgets/base",
            "_view_module_version": "1.2.0",
            "_view_name": "LayoutView",
            "align_content": null,
            "align_items": null,
            "align_self": null,
            "border": null,
            "bottom": null,
            "display": null,
            "flex": null,
            "flex_flow": null,
            "grid_area": null,
            "grid_auto_columns": null,
            "grid_auto_flow": null,
            "grid_auto_rows": null,
            "grid_column": null,
            "grid_gap": null,
            "grid_row": null,
            "grid_template_areas": null,
            "grid_template_columns": null,
            "grid_template_rows": null,
            "height": null,
            "justify_content": null,
            "justify_items": null,
            "left": null,
            "margin": null,
            "max_height": null,
            "max_width": null,
            "min_height": null,
            "min_width": null,
            "object_fit": null,
            "object_position": null,
            "order": null,
            "overflow": null,
            "overflow_x": null,
            "overflow_y": null,
            "padding": null,
            "right": null,
            "top": null,
            "visibility": null,
            "width": null
          }
        },
        "51443b9b05e544f0af5912efb3242c96": {
          "model_module": "@jupyter-widgets/controls",
          "model_name": "DescriptionStyleModel",
          "model_module_version": "1.5.0",
          "state": {
            "_model_module": "@jupyter-widgets/controls",
            "_model_module_version": "1.5.0",
            "_model_name": "DescriptionStyleModel",
            "_view_count": null,
            "_view_module": "@jupyter-widgets/base",
            "_view_module_version": "1.2.0",
            "_view_name": "StyleView",
            "description_width": ""
          }
        },
        "c0b1b4e0a52b4284a000029e209bc58d": {
          "model_module": "@jupyter-widgets/base",
          "model_name": "LayoutModel",
          "model_module_version": "1.2.0",
          "state": {
            "_model_module": "@jupyter-widgets/base",
            "_model_module_version": "1.2.0",
            "_model_name": "LayoutModel",
            "_view_count": null,
            "_view_module": "@jupyter-widgets/base",
            "_view_module_version": "1.2.0",
            "_view_name": "LayoutView",
            "align_content": null,
            "align_items": null,
            "align_self": null,
            "border": null,
            "bottom": null,
            "display": null,
            "flex": null,
            "flex_flow": null,
            "grid_area": null,
            "grid_auto_columns": null,
            "grid_auto_flow": null,
            "grid_auto_rows": null,
            "grid_column": null,
            "grid_gap": null,
            "grid_row": null,
            "grid_template_areas": null,
            "grid_template_columns": null,
            "grid_template_rows": null,
            "height": null,
            "justify_content": null,
            "justify_items": null,
            "left": null,
            "margin": null,
            "max_height": null,
            "max_width": null,
            "min_height": null,
            "min_width": null,
            "object_fit": null,
            "object_position": null,
            "order": null,
            "overflow": null,
            "overflow_x": null,
            "overflow_y": null,
            "padding": null,
            "right": null,
            "top": null,
            "visibility": null,
            "width": null
          }
        },
        "22fc0c4bc49b47fe98d774c492116db8": {
          "model_module": "@jupyter-widgets/controls",
          "model_name": "ProgressStyleModel",
          "model_module_version": "1.5.0",
          "state": {
            "_model_module": "@jupyter-widgets/controls",
            "_model_module_version": "1.5.0",
            "_model_name": "ProgressStyleModel",
            "_view_count": null,
            "_view_module": "@jupyter-widgets/base",
            "_view_module_version": "1.2.0",
            "_view_name": "StyleView",
            "bar_color": null,
            "description_width": ""
          }
        },
        "a5e67332e5d94e1fb0ba993e12c02a3d": {
          "model_module": "@jupyter-widgets/base",
          "model_name": "LayoutModel",
          "model_module_version": "1.2.0",
          "state": {
            "_model_module": "@jupyter-widgets/base",
            "_model_module_version": "1.2.0",
            "_model_name": "LayoutModel",
            "_view_count": null,
            "_view_module": "@jupyter-widgets/base",
            "_view_module_version": "1.2.0",
            "_view_name": "LayoutView",
            "align_content": null,
            "align_items": null,
            "align_self": null,
            "border": null,
            "bottom": null,
            "display": null,
            "flex": null,
            "flex_flow": null,
            "grid_area": null,
            "grid_auto_columns": null,
            "grid_auto_flow": null,
            "grid_auto_rows": null,
            "grid_column": null,
            "grid_gap": null,
            "grid_row": null,
            "grid_template_areas": null,
            "grid_template_columns": null,
            "grid_template_rows": null,
            "height": null,
            "justify_content": null,
            "justify_items": null,
            "left": null,
            "margin": null,
            "max_height": null,
            "max_width": null,
            "min_height": null,
            "min_width": null,
            "object_fit": null,
            "object_position": null,
            "order": null,
            "overflow": null,
            "overflow_x": null,
            "overflow_y": null,
            "padding": null,
            "right": null,
            "top": null,
            "visibility": null,
            "width": null
          }
        },
        "c6ecd6ec4da948f99f5074ed99c5dfb0": {
          "model_module": "@jupyter-widgets/controls",
          "model_name": "DescriptionStyleModel",
          "model_module_version": "1.5.0",
          "state": {
            "_model_module": "@jupyter-widgets/controls",
            "_model_module_version": "1.5.0",
            "_model_name": "DescriptionStyleModel",
            "_view_count": null,
            "_view_module": "@jupyter-widgets/base",
            "_view_module_version": "1.2.0",
            "_view_name": "StyleView",
            "description_width": ""
          }
        },
        "ee2fbc553ab54ca397fd49632f8be617": {
          "model_module": "@jupyter-widgets/controls",
          "model_name": "HBoxModel",
          "model_module_version": "1.5.0",
          "state": {
            "_dom_classes": [],
            "_model_module": "@jupyter-widgets/controls",
            "_model_module_version": "1.5.0",
            "_model_name": "HBoxModel",
            "_view_count": null,
            "_view_module": "@jupyter-widgets/controls",
            "_view_module_version": "1.5.0",
            "_view_name": "HBoxView",
            "box_style": "",
            "children": [
              "IPY_MODEL_7159a5ef9eb94befa5ffef93068802ff",
              "IPY_MODEL_0d0ed647fe85462aba3e509da2a18ad5",
              "IPY_MODEL_2cdb428ed19944c49a073c44ed445d75"
            ],
            "layout": "IPY_MODEL_ec8c5b1571b243b9bef33696b36b532c"
          }
        },
        "7159a5ef9eb94befa5ffef93068802ff": {
          "model_module": "@jupyter-widgets/controls",
          "model_name": "HTMLModel",
          "model_module_version": "1.5.0",
          "state": {
            "_dom_classes": [],
            "_model_module": "@jupyter-widgets/controls",
            "_model_module_version": "1.5.0",
            "_model_name": "HTMLModel",
            "_view_count": null,
            "_view_module": "@jupyter-widgets/controls",
            "_view_module_version": "1.5.0",
            "_view_name": "HTMLView",
            "description": "",
            "description_tooltip": null,
            "layout": "IPY_MODEL_816504fad0c5422a841082046c3fdf22",
            "placeholder": "​",
            "style": "IPY_MODEL_d2b49cc21776487a8fc3a65971dfab73",
            "value": "Generating train split: 100%"
          }
        },
        "0d0ed647fe85462aba3e509da2a18ad5": {
          "model_module": "@jupyter-widgets/controls",
          "model_name": "FloatProgressModel",
          "model_module_version": "1.5.0",
          "state": {
            "_dom_classes": [],
            "_model_module": "@jupyter-widgets/controls",
            "_model_module_version": "1.5.0",
            "_model_name": "FloatProgressModel",
            "_view_count": null,
            "_view_module": "@jupyter-widgets/controls",
            "_view_module_version": "1.5.0",
            "_view_name": "ProgressView",
            "bar_style": "success",
            "description": "",
            "description_tooltip": null,
            "layout": "IPY_MODEL_cf40cba4ed0d4faab93713836ccb71cc",
            "max": 5705,
            "min": 0,
            "orientation": "horizontal",
            "style": "IPY_MODEL_d00a26fe51a34961b55964c2669a4895",
            "value": 5705
          }
        },
        "2cdb428ed19944c49a073c44ed445d75": {
          "model_module": "@jupyter-widgets/controls",
          "model_name": "HTMLModel",
          "model_module_version": "1.5.0",
          "state": {
            "_dom_classes": [],
            "_model_module": "@jupyter-widgets/controls",
            "_model_module_version": "1.5.0",
            "_model_name": "HTMLModel",
            "_view_count": null,
            "_view_module": "@jupyter-widgets/controls",
            "_view_module_version": "1.5.0",
            "_view_name": "HTMLView",
            "description": "",
            "description_tooltip": null,
            "layout": "IPY_MODEL_ed11b11cb2df4189a6a1ccd778b63f91",
            "placeholder": "​",
            "style": "IPY_MODEL_68e4b7b6a2334afc9de404b7b12bc0db",
            "value": " 5705/5705 [00:00&lt;00:00, 44620.42 examples/s]"
          }
        },
        "ec8c5b1571b243b9bef33696b36b532c": {
          "model_module": "@jupyter-widgets/base",
          "model_name": "LayoutModel",
          "model_module_version": "1.2.0",
          "state": {
            "_model_module": "@jupyter-widgets/base",
            "_model_module_version": "1.2.0",
            "_model_name": "LayoutModel",
            "_view_count": null,
            "_view_module": "@jupyter-widgets/base",
            "_view_module_version": "1.2.0",
            "_view_name": "LayoutView",
            "align_content": null,
            "align_items": null,
            "align_self": null,
            "border": null,
            "bottom": null,
            "display": null,
            "flex": null,
            "flex_flow": null,
            "grid_area": null,
            "grid_auto_columns": null,
            "grid_auto_flow": null,
            "grid_auto_rows": null,
            "grid_column": null,
            "grid_gap": null,
            "grid_row": null,
            "grid_template_areas": null,
            "grid_template_columns": null,
            "grid_template_rows": null,
            "height": null,
            "justify_content": null,
            "justify_items": null,
            "left": null,
            "margin": null,
            "max_height": null,
            "max_width": null,
            "min_height": null,
            "min_width": null,
            "object_fit": null,
            "object_position": null,
            "order": null,
            "overflow": null,
            "overflow_x": null,
            "overflow_y": null,
            "padding": null,
            "right": null,
            "top": null,
            "visibility": null,
            "width": null
          }
        },
        "816504fad0c5422a841082046c3fdf22": {
          "model_module": "@jupyter-widgets/base",
          "model_name": "LayoutModel",
          "model_module_version": "1.2.0",
          "state": {
            "_model_module": "@jupyter-widgets/base",
            "_model_module_version": "1.2.0",
            "_model_name": "LayoutModel",
            "_view_count": null,
            "_view_module": "@jupyter-widgets/base",
            "_view_module_version": "1.2.0",
            "_view_name": "LayoutView",
            "align_content": null,
            "align_items": null,
            "align_self": null,
            "border": null,
            "bottom": null,
            "display": null,
            "flex": null,
            "flex_flow": null,
            "grid_area": null,
            "grid_auto_columns": null,
            "grid_auto_flow": null,
            "grid_auto_rows": null,
            "grid_column": null,
            "grid_gap": null,
            "grid_row": null,
            "grid_template_areas": null,
            "grid_template_columns": null,
            "grid_template_rows": null,
            "height": null,
            "justify_content": null,
            "justify_items": null,
            "left": null,
            "margin": null,
            "max_height": null,
            "max_width": null,
            "min_height": null,
            "min_width": null,
            "object_fit": null,
            "object_position": null,
            "order": null,
            "overflow": null,
            "overflow_x": null,
            "overflow_y": null,
            "padding": null,
            "right": null,
            "top": null,
            "visibility": null,
            "width": null
          }
        },
        "d2b49cc21776487a8fc3a65971dfab73": {
          "model_module": "@jupyter-widgets/controls",
          "model_name": "DescriptionStyleModel",
          "model_module_version": "1.5.0",
          "state": {
            "_model_module": "@jupyter-widgets/controls",
            "_model_module_version": "1.5.0",
            "_model_name": "DescriptionStyleModel",
            "_view_count": null,
            "_view_module": "@jupyter-widgets/base",
            "_view_module_version": "1.2.0",
            "_view_name": "StyleView",
            "description_width": ""
          }
        },
        "cf40cba4ed0d4faab93713836ccb71cc": {
          "model_module": "@jupyter-widgets/base",
          "model_name": "LayoutModel",
          "model_module_version": "1.2.0",
          "state": {
            "_model_module": "@jupyter-widgets/base",
            "_model_module_version": "1.2.0",
            "_model_name": "LayoutModel",
            "_view_count": null,
            "_view_module": "@jupyter-widgets/base",
            "_view_module_version": "1.2.0",
            "_view_name": "LayoutView",
            "align_content": null,
            "align_items": null,
            "align_self": null,
            "border": null,
            "bottom": null,
            "display": null,
            "flex": null,
            "flex_flow": null,
            "grid_area": null,
            "grid_auto_columns": null,
            "grid_auto_flow": null,
            "grid_auto_rows": null,
            "grid_column": null,
            "grid_gap": null,
            "grid_row": null,
            "grid_template_areas": null,
            "grid_template_columns": null,
            "grid_template_rows": null,
            "height": null,
            "justify_content": null,
            "justify_items": null,
            "left": null,
            "margin": null,
            "max_height": null,
            "max_width": null,
            "min_height": null,
            "min_width": null,
            "object_fit": null,
            "object_position": null,
            "order": null,
            "overflow": null,
            "overflow_x": null,
            "overflow_y": null,
            "padding": null,
            "right": null,
            "top": null,
            "visibility": null,
            "width": null
          }
        },
        "d00a26fe51a34961b55964c2669a4895": {
          "model_module": "@jupyter-widgets/controls",
          "model_name": "ProgressStyleModel",
          "model_module_version": "1.5.0",
          "state": {
            "_model_module": "@jupyter-widgets/controls",
            "_model_module_version": "1.5.0",
            "_model_name": "ProgressStyleModel",
            "_view_count": null,
            "_view_module": "@jupyter-widgets/base",
            "_view_module_version": "1.2.0",
            "_view_name": "StyleView",
            "bar_color": null,
            "description_width": ""
          }
        },
        "ed11b11cb2df4189a6a1ccd778b63f91": {
          "model_module": "@jupyter-widgets/base",
          "model_name": "LayoutModel",
          "model_module_version": "1.2.0",
          "state": {
            "_model_module": "@jupyter-widgets/base",
            "_model_module_version": "1.2.0",
            "_model_name": "LayoutModel",
            "_view_count": null,
            "_view_module": "@jupyter-widgets/base",
            "_view_module_version": "1.2.0",
            "_view_name": "LayoutView",
            "align_content": null,
            "align_items": null,
            "align_self": null,
            "border": null,
            "bottom": null,
            "display": null,
            "flex": null,
            "flex_flow": null,
            "grid_area": null,
            "grid_auto_columns": null,
            "grid_auto_flow": null,
            "grid_auto_rows": null,
            "grid_column": null,
            "grid_gap": null,
            "grid_row": null,
            "grid_template_areas": null,
            "grid_template_columns": null,
            "grid_template_rows": null,
            "height": null,
            "justify_content": null,
            "justify_items": null,
            "left": null,
            "margin": null,
            "max_height": null,
            "max_width": null,
            "min_height": null,
            "min_width": null,
            "object_fit": null,
            "object_position": null,
            "order": null,
            "overflow": null,
            "overflow_x": null,
            "overflow_y": null,
            "padding": null,
            "right": null,
            "top": null,
            "visibility": null,
            "width": null
          }
        },
        "68e4b7b6a2334afc9de404b7b12bc0db": {
          "model_module": "@jupyter-widgets/controls",
          "model_name": "DescriptionStyleModel",
          "model_module_version": "1.5.0",
          "state": {
            "_model_module": "@jupyter-widgets/controls",
            "_model_module_version": "1.5.0",
            "_model_name": "DescriptionStyleModel",
            "_view_count": null,
            "_view_module": "@jupyter-widgets/base",
            "_view_module_version": "1.2.0",
            "_view_name": "StyleView",
            "description_width": ""
          }
        },
        "863043fbc4e34590a04d5bbcbcfd053f": {
          "model_module": "@jupyter-widgets/controls",
          "model_name": "HBoxModel",
          "model_module_version": "1.5.0",
          "state": {
            "_dom_classes": [],
            "_model_module": "@jupyter-widgets/controls",
            "_model_module_version": "1.5.0",
            "_model_name": "HBoxModel",
            "_view_count": null,
            "_view_module": "@jupyter-widgets/controls",
            "_view_module_version": "1.5.0",
            "_view_name": "HBoxView",
            "box_style": "",
            "children": [
              "IPY_MODEL_d9f0bbc8ba8e452f8244f5661f80ee2b",
              "IPY_MODEL_0113175b4a0b440f80bab003337bd837",
              "IPY_MODEL_6c5ef9406d844dd09a66d4056a168246"
            ],
            "layout": "IPY_MODEL_8488549bdce04dff8d9bdbd8c1cca38c"
          }
        },
        "d9f0bbc8ba8e452f8244f5661f80ee2b": {
          "model_module": "@jupyter-widgets/controls",
          "model_name": "HTMLModel",
          "model_module_version": "1.5.0",
          "state": {
            "_dom_classes": [],
            "_model_module": "@jupyter-widgets/controls",
            "_model_module_version": "1.5.0",
            "_model_name": "HTMLModel",
            "_view_count": null,
            "_view_module": "@jupyter-widgets/controls",
            "_view_module_version": "1.5.0",
            "_view_name": "HTMLView",
            "description": "",
            "description_tooltip": null,
            "layout": "IPY_MODEL_a1e10e4de240402f9ffe96572105bd41",
            "placeholder": "​",
            "style": "IPY_MODEL_bd1bc09894c344eabadb781e51288d5a",
            "value": "tokenizer_config.json: 100%"
          }
        },
        "0113175b4a0b440f80bab003337bd837": {
          "model_module": "@jupyter-widgets/controls",
          "model_name": "FloatProgressModel",
          "model_module_version": "1.5.0",
          "state": {
            "_dom_classes": [],
            "_model_module": "@jupyter-widgets/controls",
            "_model_module_version": "1.5.0",
            "_model_name": "FloatProgressModel",
            "_view_count": null,
            "_view_module": "@jupyter-widgets/controls",
            "_view_module_version": "1.5.0",
            "_view_name": "ProgressView",
            "bar_style": "success",
            "description": "",
            "description_tooltip": null,
            "layout": "IPY_MODEL_fc5a0a368c804a4bb7bd6beee8affdd9",
            "max": 26,
            "min": 0,
            "orientation": "horizontal",
            "style": "IPY_MODEL_62ce857a3c3946c789c104674b5e1bd4",
            "value": 26
          }
        },
        "6c5ef9406d844dd09a66d4056a168246": {
          "model_module": "@jupyter-widgets/controls",
          "model_name": "HTMLModel",
          "model_module_version": "1.5.0",
          "state": {
            "_dom_classes": [],
            "_model_module": "@jupyter-widgets/controls",
            "_model_module_version": "1.5.0",
            "_model_name": "HTMLModel",
            "_view_count": null,
            "_view_module": "@jupyter-widgets/controls",
            "_view_module_version": "1.5.0",
            "_view_name": "HTMLView",
            "description": "",
            "description_tooltip": null,
            "layout": "IPY_MODEL_473845af3295442f96086f8feb8c724d",
            "placeholder": "​",
            "style": "IPY_MODEL_6f475a6f79bc4a0a9ca7e477c6f5cf8f",
            "value": " 26.0/26.0 [00:00&lt;00:00, 2.66kB/s]"
          }
        },
        "8488549bdce04dff8d9bdbd8c1cca38c": {
          "model_module": "@jupyter-widgets/base",
          "model_name": "LayoutModel",
          "model_module_version": "1.2.0",
          "state": {
            "_model_module": "@jupyter-widgets/base",
            "_model_module_version": "1.2.0",
            "_model_name": "LayoutModel",
            "_view_count": null,
            "_view_module": "@jupyter-widgets/base",
            "_view_module_version": "1.2.0",
            "_view_name": "LayoutView",
            "align_content": null,
            "align_items": null,
            "align_self": null,
            "border": null,
            "bottom": null,
            "display": null,
            "flex": null,
            "flex_flow": null,
            "grid_area": null,
            "grid_auto_columns": null,
            "grid_auto_flow": null,
            "grid_auto_rows": null,
            "grid_column": null,
            "grid_gap": null,
            "grid_row": null,
            "grid_template_areas": null,
            "grid_template_columns": null,
            "grid_template_rows": null,
            "height": null,
            "justify_content": null,
            "justify_items": null,
            "left": null,
            "margin": null,
            "max_height": null,
            "max_width": null,
            "min_height": null,
            "min_width": null,
            "object_fit": null,
            "object_position": null,
            "order": null,
            "overflow": null,
            "overflow_x": null,
            "overflow_y": null,
            "padding": null,
            "right": null,
            "top": null,
            "visibility": null,
            "width": null
          }
        },
        "a1e10e4de240402f9ffe96572105bd41": {
          "model_module": "@jupyter-widgets/base",
          "model_name": "LayoutModel",
          "model_module_version": "1.2.0",
          "state": {
            "_model_module": "@jupyter-widgets/base",
            "_model_module_version": "1.2.0",
            "_model_name": "LayoutModel",
            "_view_count": null,
            "_view_module": "@jupyter-widgets/base",
            "_view_module_version": "1.2.0",
            "_view_name": "LayoutView",
            "align_content": null,
            "align_items": null,
            "align_self": null,
            "border": null,
            "bottom": null,
            "display": null,
            "flex": null,
            "flex_flow": null,
            "grid_area": null,
            "grid_auto_columns": null,
            "grid_auto_flow": null,
            "grid_auto_rows": null,
            "grid_column": null,
            "grid_gap": null,
            "grid_row": null,
            "grid_template_areas": null,
            "grid_template_columns": null,
            "grid_template_rows": null,
            "height": null,
            "justify_content": null,
            "justify_items": null,
            "left": null,
            "margin": null,
            "max_height": null,
            "max_width": null,
            "min_height": null,
            "min_width": null,
            "object_fit": null,
            "object_position": null,
            "order": null,
            "overflow": null,
            "overflow_x": null,
            "overflow_y": null,
            "padding": null,
            "right": null,
            "top": null,
            "visibility": null,
            "width": null
          }
        },
        "bd1bc09894c344eabadb781e51288d5a": {
          "model_module": "@jupyter-widgets/controls",
          "model_name": "DescriptionStyleModel",
          "model_module_version": "1.5.0",
          "state": {
            "_model_module": "@jupyter-widgets/controls",
            "_model_module_version": "1.5.0",
            "_model_name": "DescriptionStyleModel",
            "_view_count": null,
            "_view_module": "@jupyter-widgets/base",
            "_view_module_version": "1.2.0",
            "_view_name": "StyleView",
            "description_width": ""
          }
        },
        "fc5a0a368c804a4bb7bd6beee8affdd9": {
          "model_module": "@jupyter-widgets/base",
          "model_name": "LayoutModel",
          "model_module_version": "1.2.0",
          "state": {
            "_model_module": "@jupyter-widgets/base",
            "_model_module_version": "1.2.0",
            "_model_name": "LayoutModel",
            "_view_count": null,
            "_view_module": "@jupyter-widgets/base",
            "_view_module_version": "1.2.0",
            "_view_name": "LayoutView",
            "align_content": null,
            "align_items": null,
            "align_self": null,
            "border": null,
            "bottom": null,
            "display": null,
            "flex": null,
            "flex_flow": null,
            "grid_area": null,
            "grid_auto_columns": null,
            "grid_auto_flow": null,
            "grid_auto_rows": null,
            "grid_column": null,
            "grid_gap": null,
            "grid_row": null,
            "grid_template_areas": null,
            "grid_template_columns": null,
            "grid_template_rows": null,
            "height": null,
            "justify_content": null,
            "justify_items": null,
            "left": null,
            "margin": null,
            "max_height": null,
            "max_width": null,
            "min_height": null,
            "min_width": null,
            "object_fit": null,
            "object_position": null,
            "order": null,
            "overflow": null,
            "overflow_x": null,
            "overflow_y": null,
            "padding": null,
            "right": null,
            "top": null,
            "visibility": null,
            "width": null
          }
        },
        "62ce857a3c3946c789c104674b5e1bd4": {
          "model_module": "@jupyter-widgets/controls",
          "model_name": "ProgressStyleModel",
          "model_module_version": "1.5.0",
          "state": {
            "_model_module": "@jupyter-widgets/controls",
            "_model_module_version": "1.5.0",
            "_model_name": "ProgressStyleModel",
            "_view_count": null,
            "_view_module": "@jupyter-widgets/base",
            "_view_module_version": "1.2.0",
            "_view_name": "StyleView",
            "bar_color": null,
            "description_width": ""
          }
        },
        "473845af3295442f96086f8feb8c724d": {
          "model_module": "@jupyter-widgets/base",
          "model_name": "LayoutModel",
          "model_module_version": "1.2.0",
          "state": {
            "_model_module": "@jupyter-widgets/base",
            "_model_module_version": "1.2.0",
            "_model_name": "LayoutModel",
            "_view_count": null,
            "_view_module": "@jupyter-widgets/base",
            "_view_module_version": "1.2.0",
            "_view_name": "LayoutView",
            "align_content": null,
            "align_items": null,
            "align_self": null,
            "border": null,
            "bottom": null,
            "display": null,
            "flex": null,
            "flex_flow": null,
            "grid_area": null,
            "grid_auto_columns": null,
            "grid_auto_flow": null,
            "grid_auto_rows": null,
            "grid_column": null,
            "grid_gap": null,
            "grid_row": null,
            "grid_template_areas": null,
            "grid_template_columns": null,
            "grid_template_rows": null,
            "height": null,
            "justify_content": null,
            "justify_items": null,
            "left": null,
            "margin": null,
            "max_height": null,
            "max_width": null,
            "min_height": null,
            "min_width": null,
            "object_fit": null,
            "object_position": null,
            "order": null,
            "overflow": null,
            "overflow_x": null,
            "overflow_y": null,
            "padding": null,
            "right": null,
            "top": null,
            "visibility": null,
            "width": null
          }
        },
        "6f475a6f79bc4a0a9ca7e477c6f5cf8f": {
          "model_module": "@jupyter-widgets/controls",
          "model_name": "DescriptionStyleModel",
          "model_module_version": "1.5.0",
          "state": {
            "_model_module": "@jupyter-widgets/controls",
            "_model_module_version": "1.5.0",
            "_model_name": "DescriptionStyleModel",
            "_view_count": null,
            "_view_module": "@jupyter-widgets/base",
            "_view_module_version": "1.2.0",
            "_view_name": "StyleView",
            "description_width": ""
          }
        },
        "dea447a54fbf402aa00cc89320cce8e2": {
          "model_module": "@jupyter-widgets/controls",
          "model_name": "HBoxModel",
          "model_module_version": "1.5.0",
          "state": {
            "_dom_classes": [],
            "_model_module": "@jupyter-widgets/controls",
            "_model_module_version": "1.5.0",
            "_model_name": "HBoxModel",
            "_view_count": null,
            "_view_module": "@jupyter-widgets/controls",
            "_view_module_version": "1.5.0",
            "_view_name": "HBoxView",
            "box_style": "",
            "children": [
              "IPY_MODEL_31ad6101e4f043828e2afeba1aed059a",
              "IPY_MODEL_d9830d63842d47059ea0db91f2ef11b4",
              "IPY_MODEL_0803587d7979456785ae1503b097887b"
            ],
            "layout": "IPY_MODEL_4ac485432c4c4f609c277aeead7178e6"
          }
        },
        "31ad6101e4f043828e2afeba1aed059a": {
          "model_module": "@jupyter-widgets/controls",
          "model_name": "HTMLModel",
          "model_module_version": "1.5.0",
          "state": {
            "_dom_classes": [],
            "_model_module": "@jupyter-widgets/controls",
            "_model_module_version": "1.5.0",
            "_model_name": "HTMLModel",
            "_view_count": null,
            "_view_module": "@jupyter-widgets/controls",
            "_view_module_version": "1.5.0",
            "_view_name": "HTMLView",
            "description": "",
            "description_tooltip": null,
            "layout": "IPY_MODEL_02a8dc5333574559b9121df41c62d23d",
            "placeholder": "​",
            "style": "IPY_MODEL_2b66556b1b414e23a02472857922f58e",
            "value": "vocab.json: 100%"
          }
        },
        "d9830d63842d47059ea0db91f2ef11b4": {
          "model_module": "@jupyter-widgets/controls",
          "model_name": "FloatProgressModel",
          "model_module_version": "1.5.0",
          "state": {
            "_dom_classes": [],
            "_model_module": "@jupyter-widgets/controls",
            "_model_module_version": "1.5.0",
            "_model_name": "FloatProgressModel",
            "_view_count": null,
            "_view_module": "@jupyter-widgets/controls",
            "_view_module_version": "1.5.0",
            "_view_name": "ProgressView",
            "bar_style": "success",
            "description": "",
            "description_tooltip": null,
            "layout": "IPY_MODEL_27c682f11d5f4067932bff051e298cb0",
            "max": 1042301,
            "min": 0,
            "orientation": "horizontal",
            "style": "IPY_MODEL_f0996832ff2844b9a337bbfa60384738",
            "value": 1042301
          }
        },
        "0803587d7979456785ae1503b097887b": {
          "model_module": "@jupyter-widgets/controls",
          "model_name": "HTMLModel",
          "model_module_version": "1.5.0",
          "state": {
            "_dom_classes": [],
            "_model_module": "@jupyter-widgets/controls",
            "_model_module_version": "1.5.0",
            "_model_name": "HTMLModel",
            "_view_count": null,
            "_view_module": "@jupyter-widgets/controls",
            "_view_module_version": "1.5.0",
            "_view_name": "HTMLView",
            "description": "",
            "description_tooltip": null,
            "layout": "IPY_MODEL_9f4a5e2f0b4b4398952f34213f12c03b",
            "placeholder": "​",
            "style": "IPY_MODEL_9b6e9af681584b3a9da8c1bfe7019d8d",
            "value": " 1.04M/1.04M [00:00&lt;00:00, 5.30MB/s]"
          }
        },
        "4ac485432c4c4f609c277aeead7178e6": {
          "model_module": "@jupyter-widgets/base",
          "model_name": "LayoutModel",
          "model_module_version": "1.2.0",
          "state": {
            "_model_module": "@jupyter-widgets/base",
            "_model_module_version": "1.2.0",
            "_model_name": "LayoutModel",
            "_view_count": null,
            "_view_module": "@jupyter-widgets/base",
            "_view_module_version": "1.2.0",
            "_view_name": "LayoutView",
            "align_content": null,
            "align_items": null,
            "align_self": null,
            "border": null,
            "bottom": null,
            "display": null,
            "flex": null,
            "flex_flow": null,
            "grid_area": null,
            "grid_auto_columns": null,
            "grid_auto_flow": null,
            "grid_auto_rows": null,
            "grid_column": null,
            "grid_gap": null,
            "grid_row": null,
            "grid_template_areas": null,
            "grid_template_columns": null,
            "grid_template_rows": null,
            "height": null,
            "justify_content": null,
            "justify_items": null,
            "left": null,
            "margin": null,
            "max_height": null,
            "max_width": null,
            "min_height": null,
            "min_width": null,
            "object_fit": null,
            "object_position": null,
            "order": null,
            "overflow": null,
            "overflow_x": null,
            "overflow_y": null,
            "padding": null,
            "right": null,
            "top": null,
            "visibility": null,
            "width": null
          }
        },
        "02a8dc5333574559b9121df41c62d23d": {
          "model_module": "@jupyter-widgets/base",
          "model_name": "LayoutModel",
          "model_module_version": "1.2.0",
          "state": {
            "_model_module": "@jupyter-widgets/base",
            "_model_module_version": "1.2.0",
            "_model_name": "LayoutModel",
            "_view_count": null,
            "_view_module": "@jupyter-widgets/base",
            "_view_module_version": "1.2.0",
            "_view_name": "LayoutView",
            "align_content": null,
            "align_items": null,
            "align_self": null,
            "border": null,
            "bottom": null,
            "display": null,
            "flex": null,
            "flex_flow": null,
            "grid_area": null,
            "grid_auto_columns": null,
            "grid_auto_flow": null,
            "grid_auto_rows": null,
            "grid_column": null,
            "grid_gap": null,
            "grid_row": null,
            "grid_template_areas": null,
            "grid_template_columns": null,
            "grid_template_rows": null,
            "height": null,
            "justify_content": null,
            "justify_items": null,
            "left": null,
            "margin": null,
            "max_height": null,
            "max_width": null,
            "min_height": null,
            "min_width": null,
            "object_fit": null,
            "object_position": null,
            "order": null,
            "overflow": null,
            "overflow_x": null,
            "overflow_y": null,
            "padding": null,
            "right": null,
            "top": null,
            "visibility": null,
            "width": null
          }
        },
        "2b66556b1b414e23a02472857922f58e": {
          "model_module": "@jupyter-widgets/controls",
          "model_name": "DescriptionStyleModel",
          "model_module_version": "1.5.0",
          "state": {
            "_model_module": "@jupyter-widgets/controls",
            "_model_module_version": "1.5.0",
            "_model_name": "DescriptionStyleModel",
            "_view_count": null,
            "_view_module": "@jupyter-widgets/base",
            "_view_module_version": "1.2.0",
            "_view_name": "StyleView",
            "description_width": ""
          }
        },
        "27c682f11d5f4067932bff051e298cb0": {
          "model_module": "@jupyter-widgets/base",
          "model_name": "LayoutModel",
          "model_module_version": "1.2.0",
          "state": {
            "_model_module": "@jupyter-widgets/base",
            "_model_module_version": "1.2.0",
            "_model_name": "LayoutModel",
            "_view_count": null,
            "_view_module": "@jupyter-widgets/base",
            "_view_module_version": "1.2.0",
            "_view_name": "LayoutView",
            "align_content": null,
            "align_items": null,
            "align_self": null,
            "border": null,
            "bottom": null,
            "display": null,
            "flex": null,
            "flex_flow": null,
            "grid_area": null,
            "grid_auto_columns": null,
            "grid_auto_flow": null,
            "grid_auto_rows": null,
            "grid_column": null,
            "grid_gap": null,
            "grid_row": null,
            "grid_template_areas": null,
            "grid_template_columns": null,
            "grid_template_rows": null,
            "height": null,
            "justify_content": null,
            "justify_items": null,
            "left": null,
            "margin": null,
            "max_height": null,
            "max_width": null,
            "min_height": null,
            "min_width": null,
            "object_fit": null,
            "object_position": null,
            "order": null,
            "overflow": null,
            "overflow_x": null,
            "overflow_y": null,
            "padding": null,
            "right": null,
            "top": null,
            "visibility": null,
            "width": null
          }
        },
        "f0996832ff2844b9a337bbfa60384738": {
          "model_module": "@jupyter-widgets/controls",
          "model_name": "ProgressStyleModel",
          "model_module_version": "1.5.0",
          "state": {
            "_model_module": "@jupyter-widgets/controls",
            "_model_module_version": "1.5.0",
            "_model_name": "ProgressStyleModel",
            "_view_count": null,
            "_view_module": "@jupyter-widgets/base",
            "_view_module_version": "1.2.0",
            "_view_name": "StyleView",
            "bar_color": null,
            "description_width": ""
          }
        },
        "9f4a5e2f0b4b4398952f34213f12c03b": {
          "model_module": "@jupyter-widgets/base",
          "model_name": "LayoutModel",
          "model_module_version": "1.2.0",
          "state": {
            "_model_module": "@jupyter-widgets/base",
            "_model_module_version": "1.2.0",
            "_model_name": "LayoutModel",
            "_view_count": null,
            "_view_module": "@jupyter-widgets/base",
            "_view_module_version": "1.2.0",
            "_view_name": "LayoutView",
            "align_content": null,
            "align_items": null,
            "align_self": null,
            "border": null,
            "bottom": null,
            "display": null,
            "flex": null,
            "flex_flow": null,
            "grid_area": null,
            "grid_auto_columns": null,
            "grid_auto_flow": null,
            "grid_auto_rows": null,
            "grid_column": null,
            "grid_gap": null,
            "grid_row": null,
            "grid_template_areas": null,
            "grid_template_columns": null,
            "grid_template_rows": null,
            "height": null,
            "justify_content": null,
            "justify_items": null,
            "left": null,
            "margin": null,
            "max_height": null,
            "max_width": null,
            "min_height": null,
            "min_width": null,
            "object_fit": null,
            "object_position": null,
            "order": null,
            "overflow": null,
            "overflow_x": null,
            "overflow_y": null,
            "padding": null,
            "right": null,
            "top": null,
            "visibility": null,
            "width": null
          }
        },
        "9b6e9af681584b3a9da8c1bfe7019d8d": {
          "model_module": "@jupyter-widgets/controls",
          "model_name": "DescriptionStyleModel",
          "model_module_version": "1.5.0",
          "state": {
            "_model_module": "@jupyter-widgets/controls",
            "_model_module_version": "1.5.0",
            "_model_name": "DescriptionStyleModel",
            "_view_count": null,
            "_view_module": "@jupyter-widgets/base",
            "_view_module_version": "1.2.0",
            "_view_name": "StyleView",
            "description_width": ""
          }
        },
        "d6fd2814bac34deda1a33cb6645d3570": {
          "model_module": "@jupyter-widgets/controls",
          "model_name": "HBoxModel",
          "model_module_version": "1.5.0",
          "state": {
            "_dom_classes": [],
            "_model_module": "@jupyter-widgets/controls",
            "_model_module_version": "1.5.0",
            "_model_name": "HBoxModel",
            "_view_count": null,
            "_view_module": "@jupyter-widgets/controls",
            "_view_module_version": "1.5.0",
            "_view_name": "HBoxView",
            "box_style": "",
            "children": [
              "IPY_MODEL_d26251915bae4564b1ab9b2c18b74fdf",
              "IPY_MODEL_abdafe60197a41d3ba4f6a031df631ba",
              "IPY_MODEL_92e1c1a59cd14596a5d69be9b039dcdb"
            ],
            "layout": "IPY_MODEL_dd65827d071c4d459d16b144b931275c"
          }
        },
        "d26251915bae4564b1ab9b2c18b74fdf": {
          "model_module": "@jupyter-widgets/controls",
          "model_name": "HTMLModel",
          "model_module_version": "1.5.0",
          "state": {
            "_dom_classes": [],
            "_model_module": "@jupyter-widgets/controls",
            "_model_module_version": "1.5.0",
            "_model_name": "HTMLModel",
            "_view_count": null,
            "_view_module": "@jupyter-widgets/controls",
            "_view_module_version": "1.5.0",
            "_view_name": "HTMLView",
            "description": "",
            "description_tooltip": null,
            "layout": "IPY_MODEL_f63d9475c0434309bc756ffa52e3596e",
            "placeholder": "​",
            "style": "IPY_MODEL_a4c40bb79ecd47989f9ca037769d1e5a",
            "value": "merges.txt: 100%"
          }
        },
        "abdafe60197a41d3ba4f6a031df631ba": {
          "model_module": "@jupyter-widgets/controls",
          "model_name": "FloatProgressModel",
          "model_module_version": "1.5.0",
          "state": {
            "_dom_classes": [],
            "_model_module": "@jupyter-widgets/controls",
            "_model_module_version": "1.5.0",
            "_model_name": "FloatProgressModel",
            "_view_count": null,
            "_view_module": "@jupyter-widgets/controls",
            "_view_module_version": "1.5.0",
            "_view_name": "ProgressView",
            "bar_style": "success",
            "description": "",
            "description_tooltip": null,
            "layout": "IPY_MODEL_aa9540e3780d4e3ea449d13d0ab9a0d7",
            "max": 456318,
            "min": 0,
            "orientation": "horizontal",
            "style": "IPY_MODEL_9c457092442340bb9ec43a96a278c5be",
            "value": 456318
          }
        },
        "92e1c1a59cd14596a5d69be9b039dcdb": {
          "model_module": "@jupyter-widgets/controls",
          "model_name": "HTMLModel",
          "model_module_version": "1.5.0",
          "state": {
            "_dom_classes": [],
            "_model_module": "@jupyter-widgets/controls",
            "_model_module_version": "1.5.0",
            "_model_name": "HTMLModel",
            "_view_count": null,
            "_view_module": "@jupyter-widgets/controls",
            "_view_module_version": "1.5.0",
            "_view_name": "HTMLView",
            "description": "",
            "description_tooltip": null,
            "layout": "IPY_MODEL_9c51505126864a4db81d5dd8015d4714",
            "placeholder": "​",
            "style": "IPY_MODEL_b4dcc3c056904bd3a070b598c4cc2d7e",
            "value": " 456k/456k [00:00&lt;00:00, 7.01MB/s]"
          }
        },
        "dd65827d071c4d459d16b144b931275c": {
          "model_module": "@jupyter-widgets/base",
          "model_name": "LayoutModel",
          "model_module_version": "1.2.0",
          "state": {
            "_model_module": "@jupyter-widgets/base",
            "_model_module_version": "1.2.0",
            "_model_name": "LayoutModel",
            "_view_count": null,
            "_view_module": "@jupyter-widgets/base",
            "_view_module_version": "1.2.0",
            "_view_name": "LayoutView",
            "align_content": null,
            "align_items": null,
            "align_self": null,
            "border": null,
            "bottom": null,
            "display": null,
            "flex": null,
            "flex_flow": null,
            "grid_area": null,
            "grid_auto_columns": null,
            "grid_auto_flow": null,
            "grid_auto_rows": null,
            "grid_column": null,
            "grid_gap": null,
            "grid_row": null,
            "grid_template_areas": null,
            "grid_template_columns": null,
            "grid_template_rows": null,
            "height": null,
            "justify_content": null,
            "justify_items": null,
            "left": null,
            "margin": null,
            "max_height": null,
            "max_width": null,
            "min_height": null,
            "min_width": null,
            "object_fit": null,
            "object_position": null,
            "order": null,
            "overflow": null,
            "overflow_x": null,
            "overflow_y": null,
            "padding": null,
            "right": null,
            "top": null,
            "visibility": null,
            "width": null
          }
        },
        "f63d9475c0434309bc756ffa52e3596e": {
          "model_module": "@jupyter-widgets/base",
          "model_name": "LayoutModel",
          "model_module_version": "1.2.0",
          "state": {
            "_model_module": "@jupyter-widgets/base",
            "_model_module_version": "1.2.0",
            "_model_name": "LayoutModel",
            "_view_count": null,
            "_view_module": "@jupyter-widgets/base",
            "_view_module_version": "1.2.0",
            "_view_name": "LayoutView",
            "align_content": null,
            "align_items": null,
            "align_self": null,
            "border": null,
            "bottom": null,
            "display": null,
            "flex": null,
            "flex_flow": null,
            "grid_area": null,
            "grid_auto_columns": null,
            "grid_auto_flow": null,
            "grid_auto_rows": null,
            "grid_column": null,
            "grid_gap": null,
            "grid_row": null,
            "grid_template_areas": null,
            "grid_template_columns": null,
            "grid_template_rows": null,
            "height": null,
            "justify_content": null,
            "justify_items": null,
            "left": null,
            "margin": null,
            "max_height": null,
            "max_width": null,
            "min_height": null,
            "min_width": null,
            "object_fit": null,
            "object_position": null,
            "order": null,
            "overflow": null,
            "overflow_x": null,
            "overflow_y": null,
            "padding": null,
            "right": null,
            "top": null,
            "visibility": null,
            "width": null
          }
        },
        "a4c40bb79ecd47989f9ca037769d1e5a": {
          "model_module": "@jupyter-widgets/controls",
          "model_name": "DescriptionStyleModel",
          "model_module_version": "1.5.0",
          "state": {
            "_model_module": "@jupyter-widgets/controls",
            "_model_module_version": "1.5.0",
            "_model_name": "DescriptionStyleModel",
            "_view_count": null,
            "_view_module": "@jupyter-widgets/base",
            "_view_module_version": "1.2.0",
            "_view_name": "StyleView",
            "description_width": ""
          }
        },
        "aa9540e3780d4e3ea449d13d0ab9a0d7": {
          "model_module": "@jupyter-widgets/base",
          "model_name": "LayoutModel",
          "model_module_version": "1.2.0",
          "state": {
            "_model_module": "@jupyter-widgets/base",
            "_model_module_version": "1.2.0",
            "_model_name": "LayoutModel",
            "_view_count": null,
            "_view_module": "@jupyter-widgets/base",
            "_view_module_version": "1.2.0",
            "_view_name": "LayoutView",
            "align_content": null,
            "align_items": null,
            "align_self": null,
            "border": null,
            "bottom": null,
            "display": null,
            "flex": null,
            "flex_flow": null,
            "grid_area": null,
            "grid_auto_columns": null,
            "grid_auto_flow": null,
            "grid_auto_rows": null,
            "grid_column": null,
            "grid_gap": null,
            "grid_row": null,
            "grid_template_areas": null,
            "grid_template_columns": null,
            "grid_template_rows": null,
            "height": null,
            "justify_content": null,
            "justify_items": null,
            "left": null,
            "margin": null,
            "max_height": null,
            "max_width": null,
            "min_height": null,
            "min_width": null,
            "object_fit": null,
            "object_position": null,
            "order": null,
            "overflow": null,
            "overflow_x": null,
            "overflow_y": null,
            "padding": null,
            "right": null,
            "top": null,
            "visibility": null,
            "width": null
          }
        },
        "9c457092442340bb9ec43a96a278c5be": {
          "model_module": "@jupyter-widgets/controls",
          "model_name": "ProgressStyleModel",
          "model_module_version": "1.5.0",
          "state": {
            "_model_module": "@jupyter-widgets/controls",
            "_model_module_version": "1.5.0",
            "_model_name": "ProgressStyleModel",
            "_view_count": null,
            "_view_module": "@jupyter-widgets/base",
            "_view_module_version": "1.2.0",
            "_view_name": "StyleView",
            "bar_color": null,
            "description_width": ""
          }
        },
        "9c51505126864a4db81d5dd8015d4714": {
          "model_module": "@jupyter-widgets/base",
          "model_name": "LayoutModel",
          "model_module_version": "1.2.0",
          "state": {
            "_model_module": "@jupyter-widgets/base",
            "_model_module_version": "1.2.0",
            "_model_name": "LayoutModel",
            "_view_count": null,
            "_view_module": "@jupyter-widgets/base",
            "_view_module_version": "1.2.0",
            "_view_name": "LayoutView",
            "align_content": null,
            "align_items": null,
            "align_self": null,
            "border": null,
            "bottom": null,
            "display": null,
            "flex": null,
            "flex_flow": null,
            "grid_area": null,
            "grid_auto_columns": null,
            "grid_auto_flow": null,
            "grid_auto_rows": null,
            "grid_column": null,
            "grid_gap": null,
            "grid_row": null,
            "grid_template_areas": null,
            "grid_template_columns": null,
            "grid_template_rows": null,
            "height": null,
            "justify_content": null,
            "justify_items": null,
            "left": null,
            "margin": null,
            "max_height": null,
            "max_width": null,
            "min_height": null,
            "min_width": null,
            "object_fit": null,
            "object_position": null,
            "order": null,
            "overflow": null,
            "overflow_x": null,
            "overflow_y": null,
            "padding": null,
            "right": null,
            "top": null,
            "visibility": null,
            "width": null
          }
        },
        "b4dcc3c056904bd3a070b598c4cc2d7e": {
          "model_module": "@jupyter-widgets/controls",
          "model_name": "DescriptionStyleModel",
          "model_module_version": "1.5.0",
          "state": {
            "_model_module": "@jupyter-widgets/controls",
            "_model_module_version": "1.5.0",
            "_model_name": "DescriptionStyleModel",
            "_view_count": null,
            "_view_module": "@jupyter-widgets/base",
            "_view_module_version": "1.2.0",
            "_view_name": "StyleView",
            "description_width": ""
          }
        },
        "0ca5b51eb6614884b0c01cced6edf638": {
          "model_module": "@jupyter-widgets/controls",
          "model_name": "HBoxModel",
          "model_module_version": "1.5.0",
          "state": {
            "_dom_classes": [],
            "_model_module": "@jupyter-widgets/controls",
            "_model_module_version": "1.5.0",
            "_model_name": "HBoxModel",
            "_view_count": null,
            "_view_module": "@jupyter-widgets/controls",
            "_view_module_version": "1.5.0",
            "_view_name": "HBoxView",
            "box_style": "",
            "children": [
              "IPY_MODEL_70c9f2ad599c4bdfb7c7c4455c34f2cf",
              "IPY_MODEL_367cb14ca431494892b0054433b4a159",
              "IPY_MODEL_e4918f8d483441a49565ab5c5eb59d36"
            ],
            "layout": "IPY_MODEL_63317f8bfcf34207a9ea04258ee73b5b"
          }
        },
        "70c9f2ad599c4bdfb7c7c4455c34f2cf": {
          "model_module": "@jupyter-widgets/controls",
          "model_name": "HTMLModel",
          "model_module_version": "1.5.0",
          "state": {
            "_dom_classes": [],
            "_model_module": "@jupyter-widgets/controls",
            "_model_module_version": "1.5.0",
            "_model_name": "HTMLModel",
            "_view_count": null,
            "_view_module": "@jupyter-widgets/controls",
            "_view_module_version": "1.5.0",
            "_view_name": "HTMLView",
            "description": "",
            "description_tooltip": null,
            "layout": "IPY_MODEL_dd6a84c368c74064abf995e7bf33e358",
            "placeholder": "​",
            "style": "IPY_MODEL_b750918becc24c26bd675420ad5f6699",
            "value": "tokenizer.json: 100%"
          }
        },
        "367cb14ca431494892b0054433b4a159": {
          "model_module": "@jupyter-widgets/controls",
          "model_name": "FloatProgressModel",
          "model_module_version": "1.5.0",
          "state": {
            "_dom_classes": [],
            "_model_module": "@jupyter-widgets/controls",
            "_model_module_version": "1.5.0",
            "_model_name": "FloatProgressModel",
            "_view_count": null,
            "_view_module": "@jupyter-widgets/controls",
            "_view_module_version": "1.5.0",
            "_view_name": "ProgressView",
            "bar_style": "success",
            "description": "",
            "description_tooltip": null,
            "layout": "IPY_MODEL_548b10cc8c2248e7af29b40cdf869d74",
            "max": 1355256,
            "min": 0,
            "orientation": "horizontal",
            "style": "IPY_MODEL_7a8ded16d8894f6486caf67955da60a1",
            "value": 1355256
          }
        },
        "e4918f8d483441a49565ab5c5eb59d36": {
          "model_module": "@jupyter-widgets/controls",
          "model_name": "HTMLModel",
          "model_module_version": "1.5.0",
          "state": {
            "_dom_classes": [],
            "_model_module": "@jupyter-widgets/controls",
            "_model_module_version": "1.5.0",
            "_model_name": "HTMLModel",
            "_view_count": null,
            "_view_module": "@jupyter-widgets/controls",
            "_view_module_version": "1.5.0",
            "_view_name": "HTMLView",
            "description": "",
            "description_tooltip": null,
            "layout": "IPY_MODEL_f438af27d2d44f62b02472643a20209b",
            "placeholder": "​",
            "style": "IPY_MODEL_9dfa0cb6e10449d699f9ffec18ed20a1",
            "value": " 1.36M/1.36M [00:00&lt;00:00, 5.45MB/s]"
          }
        },
        "63317f8bfcf34207a9ea04258ee73b5b": {
          "model_module": "@jupyter-widgets/base",
          "model_name": "LayoutModel",
          "model_module_version": "1.2.0",
          "state": {
            "_model_module": "@jupyter-widgets/base",
            "_model_module_version": "1.2.0",
            "_model_name": "LayoutModel",
            "_view_count": null,
            "_view_module": "@jupyter-widgets/base",
            "_view_module_version": "1.2.0",
            "_view_name": "LayoutView",
            "align_content": null,
            "align_items": null,
            "align_self": null,
            "border": null,
            "bottom": null,
            "display": null,
            "flex": null,
            "flex_flow": null,
            "grid_area": null,
            "grid_auto_columns": null,
            "grid_auto_flow": null,
            "grid_auto_rows": null,
            "grid_column": null,
            "grid_gap": null,
            "grid_row": null,
            "grid_template_areas": null,
            "grid_template_columns": null,
            "grid_template_rows": null,
            "height": null,
            "justify_content": null,
            "justify_items": null,
            "left": null,
            "margin": null,
            "max_height": null,
            "max_width": null,
            "min_height": null,
            "min_width": null,
            "object_fit": null,
            "object_position": null,
            "order": null,
            "overflow": null,
            "overflow_x": null,
            "overflow_y": null,
            "padding": null,
            "right": null,
            "top": null,
            "visibility": null,
            "width": null
          }
        },
        "dd6a84c368c74064abf995e7bf33e358": {
          "model_module": "@jupyter-widgets/base",
          "model_name": "LayoutModel",
          "model_module_version": "1.2.0",
          "state": {
            "_model_module": "@jupyter-widgets/base",
            "_model_module_version": "1.2.0",
            "_model_name": "LayoutModel",
            "_view_count": null,
            "_view_module": "@jupyter-widgets/base",
            "_view_module_version": "1.2.0",
            "_view_name": "LayoutView",
            "align_content": null,
            "align_items": null,
            "align_self": null,
            "border": null,
            "bottom": null,
            "display": null,
            "flex": null,
            "flex_flow": null,
            "grid_area": null,
            "grid_auto_columns": null,
            "grid_auto_flow": null,
            "grid_auto_rows": null,
            "grid_column": null,
            "grid_gap": null,
            "grid_row": null,
            "grid_template_areas": null,
            "grid_template_columns": null,
            "grid_template_rows": null,
            "height": null,
            "justify_content": null,
            "justify_items": null,
            "left": null,
            "margin": null,
            "max_height": null,
            "max_width": null,
            "min_height": null,
            "min_width": null,
            "object_fit": null,
            "object_position": null,
            "order": null,
            "overflow": null,
            "overflow_x": null,
            "overflow_y": null,
            "padding": null,
            "right": null,
            "top": null,
            "visibility": null,
            "width": null
          }
        },
        "b750918becc24c26bd675420ad5f6699": {
          "model_module": "@jupyter-widgets/controls",
          "model_name": "DescriptionStyleModel",
          "model_module_version": "1.5.0",
          "state": {
            "_model_module": "@jupyter-widgets/controls",
            "_model_module_version": "1.5.0",
            "_model_name": "DescriptionStyleModel",
            "_view_count": null,
            "_view_module": "@jupyter-widgets/base",
            "_view_module_version": "1.2.0",
            "_view_name": "StyleView",
            "description_width": ""
          }
        },
        "548b10cc8c2248e7af29b40cdf869d74": {
          "model_module": "@jupyter-widgets/base",
          "model_name": "LayoutModel",
          "model_module_version": "1.2.0",
          "state": {
            "_model_module": "@jupyter-widgets/base",
            "_model_module_version": "1.2.0",
            "_model_name": "LayoutModel",
            "_view_count": null,
            "_view_module": "@jupyter-widgets/base",
            "_view_module_version": "1.2.0",
            "_view_name": "LayoutView",
            "align_content": null,
            "align_items": null,
            "align_self": null,
            "border": null,
            "bottom": null,
            "display": null,
            "flex": null,
            "flex_flow": null,
            "grid_area": null,
            "grid_auto_columns": null,
            "grid_auto_flow": null,
            "grid_auto_rows": null,
            "grid_column": null,
            "grid_gap": null,
            "grid_row": null,
            "grid_template_areas": null,
            "grid_template_columns": null,
            "grid_template_rows": null,
            "height": null,
            "justify_content": null,
            "justify_items": null,
            "left": null,
            "margin": null,
            "max_height": null,
            "max_width": null,
            "min_height": null,
            "min_width": null,
            "object_fit": null,
            "object_position": null,
            "order": null,
            "overflow": null,
            "overflow_x": null,
            "overflow_y": null,
            "padding": null,
            "right": null,
            "top": null,
            "visibility": null,
            "width": null
          }
        },
        "7a8ded16d8894f6486caf67955da60a1": {
          "model_module": "@jupyter-widgets/controls",
          "model_name": "ProgressStyleModel",
          "model_module_version": "1.5.0",
          "state": {
            "_model_module": "@jupyter-widgets/controls",
            "_model_module_version": "1.5.0",
            "_model_name": "ProgressStyleModel",
            "_view_count": null,
            "_view_module": "@jupyter-widgets/base",
            "_view_module_version": "1.2.0",
            "_view_name": "StyleView",
            "bar_color": null,
            "description_width": ""
          }
        },
        "f438af27d2d44f62b02472643a20209b": {
          "model_module": "@jupyter-widgets/base",
          "model_name": "LayoutModel",
          "model_module_version": "1.2.0",
          "state": {
            "_model_module": "@jupyter-widgets/base",
            "_model_module_version": "1.2.0",
            "_model_name": "LayoutModel",
            "_view_count": null,
            "_view_module": "@jupyter-widgets/base",
            "_view_module_version": "1.2.0",
            "_view_name": "LayoutView",
            "align_content": null,
            "align_items": null,
            "align_self": null,
            "border": null,
            "bottom": null,
            "display": null,
            "flex": null,
            "flex_flow": null,
            "grid_area": null,
            "grid_auto_columns": null,
            "grid_auto_flow": null,
            "grid_auto_rows": null,
            "grid_column": null,
            "grid_gap": null,
            "grid_row": null,
            "grid_template_areas": null,
            "grid_template_columns": null,
            "grid_template_rows": null,
            "height": null,
            "justify_content": null,
            "justify_items": null,
            "left": null,
            "margin": null,
            "max_height": null,
            "max_width": null,
            "min_height": null,
            "min_width": null,
            "object_fit": null,
            "object_position": null,
            "order": null,
            "overflow": null,
            "overflow_x": null,
            "overflow_y": null,
            "padding": null,
            "right": null,
            "top": null,
            "visibility": null,
            "width": null
          }
        },
        "9dfa0cb6e10449d699f9ffec18ed20a1": {
          "model_module": "@jupyter-widgets/controls",
          "model_name": "DescriptionStyleModel",
          "model_module_version": "1.5.0",
          "state": {
            "_model_module": "@jupyter-widgets/controls",
            "_model_module_version": "1.5.0",
            "_model_name": "DescriptionStyleModel",
            "_view_count": null,
            "_view_module": "@jupyter-widgets/base",
            "_view_module_version": "1.2.0",
            "_view_name": "StyleView",
            "description_width": ""
          }
        },
        "5030b1157921482db8723ceca96f8590": {
          "model_module": "@jupyter-widgets/controls",
          "model_name": "HBoxModel",
          "model_module_version": "1.5.0",
          "state": {
            "_dom_classes": [],
            "_model_module": "@jupyter-widgets/controls",
            "_model_module_version": "1.5.0",
            "_model_name": "HBoxModel",
            "_view_count": null,
            "_view_module": "@jupyter-widgets/controls",
            "_view_module_version": "1.5.0",
            "_view_name": "HBoxView",
            "box_style": "",
            "children": [
              "IPY_MODEL_81f3f9f00e9a47289abe08395ffc1c6c",
              "IPY_MODEL_86951f97e7a14b83a2e3af2f28485957",
              "IPY_MODEL_4af6158894e44b9f91861392bc1cc5fe"
            ],
            "layout": "IPY_MODEL_4d1f01dc46ae4792b8055c105ca28757"
          }
        },
        "81f3f9f00e9a47289abe08395ffc1c6c": {
          "model_module": "@jupyter-widgets/controls",
          "model_name": "HTMLModel",
          "model_module_version": "1.5.0",
          "state": {
            "_dom_classes": [],
            "_model_module": "@jupyter-widgets/controls",
            "_model_module_version": "1.5.0",
            "_model_name": "HTMLModel",
            "_view_count": null,
            "_view_module": "@jupyter-widgets/controls",
            "_view_module_version": "1.5.0",
            "_view_name": "HTMLView",
            "description": "",
            "description_tooltip": null,
            "layout": "IPY_MODEL_791443b89c014d2fb84a82b311156677",
            "placeholder": "​",
            "style": "IPY_MODEL_3192e4a641924004aa72335070a42599",
            "value": "config.json: 100%"
          }
        },
        "86951f97e7a14b83a2e3af2f28485957": {
          "model_module": "@jupyter-widgets/controls",
          "model_name": "FloatProgressModel",
          "model_module_version": "1.5.0",
          "state": {
            "_dom_classes": [],
            "_model_module": "@jupyter-widgets/controls",
            "_model_module_version": "1.5.0",
            "_model_name": "FloatProgressModel",
            "_view_count": null,
            "_view_module": "@jupyter-widgets/controls",
            "_view_module_version": "1.5.0",
            "_view_name": "ProgressView",
            "bar_style": "success",
            "description": "",
            "description_tooltip": null,
            "layout": "IPY_MODEL_8ba6d0d416e448ed850ec79c730ccef7",
            "max": 665,
            "min": 0,
            "orientation": "horizontal",
            "style": "IPY_MODEL_63c6327a5a034f849cc8c70f7ed541ca",
            "value": 665
          }
        },
        "4af6158894e44b9f91861392bc1cc5fe": {
          "model_module": "@jupyter-widgets/controls",
          "model_name": "HTMLModel",
          "model_module_version": "1.5.0",
          "state": {
            "_dom_classes": [],
            "_model_module": "@jupyter-widgets/controls",
            "_model_module_version": "1.5.0",
            "_model_name": "HTMLModel",
            "_view_count": null,
            "_view_module": "@jupyter-widgets/controls",
            "_view_module_version": "1.5.0",
            "_view_name": "HTMLView",
            "description": "",
            "description_tooltip": null,
            "layout": "IPY_MODEL_30d455dbece24ee8b12d41acef8ded95",
            "placeholder": "​",
            "style": "IPY_MODEL_c9d58163215042e89bb0c8ef6af8848d",
            "value": " 665/665 [00:00&lt;00:00, 47.0kB/s]"
          }
        },
        "4d1f01dc46ae4792b8055c105ca28757": {
          "model_module": "@jupyter-widgets/base",
          "model_name": "LayoutModel",
          "model_module_version": "1.2.0",
          "state": {
            "_model_module": "@jupyter-widgets/base",
            "_model_module_version": "1.2.0",
            "_model_name": "LayoutModel",
            "_view_count": null,
            "_view_module": "@jupyter-widgets/base",
            "_view_module_version": "1.2.0",
            "_view_name": "LayoutView",
            "align_content": null,
            "align_items": null,
            "align_self": null,
            "border": null,
            "bottom": null,
            "display": null,
            "flex": null,
            "flex_flow": null,
            "grid_area": null,
            "grid_auto_columns": null,
            "grid_auto_flow": null,
            "grid_auto_rows": null,
            "grid_column": null,
            "grid_gap": null,
            "grid_row": null,
            "grid_template_areas": null,
            "grid_template_columns": null,
            "grid_template_rows": null,
            "height": null,
            "justify_content": null,
            "justify_items": null,
            "left": null,
            "margin": null,
            "max_height": null,
            "max_width": null,
            "min_height": null,
            "min_width": null,
            "object_fit": null,
            "object_position": null,
            "order": null,
            "overflow": null,
            "overflow_x": null,
            "overflow_y": null,
            "padding": null,
            "right": null,
            "top": null,
            "visibility": null,
            "width": null
          }
        },
        "791443b89c014d2fb84a82b311156677": {
          "model_module": "@jupyter-widgets/base",
          "model_name": "LayoutModel",
          "model_module_version": "1.2.0",
          "state": {
            "_model_module": "@jupyter-widgets/base",
            "_model_module_version": "1.2.0",
            "_model_name": "LayoutModel",
            "_view_count": null,
            "_view_module": "@jupyter-widgets/base",
            "_view_module_version": "1.2.0",
            "_view_name": "LayoutView",
            "align_content": null,
            "align_items": null,
            "align_self": null,
            "border": null,
            "bottom": null,
            "display": null,
            "flex": null,
            "flex_flow": null,
            "grid_area": null,
            "grid_auto_columns": null,
            "grid_auto_flow": null,
            "grid_auto_rows": null,
            "grid_column": null,
            "grid_gap": null,
            "grid_row": null,
            "grid_template_areas": null,
            "grid_template_columns": null,
            "grid_template_rows": null,
            "height": null,
            "justify_content": null,
            "justify_items": null,
            "left": null,
            "margin": null,
            "max_height": null,
            "max_width": null,
            "min_height": null,
            "min_width": null,
            "object_fit": null,
            "object_position": null,
            "order": null,
            "overflow": null,
            "overflow_x": null,
            "overflow_y": null,
            "padding": null,
            "right": null,
            "top": null,
            "visibility": null,
            "width": null
          }
        },
        "3192e4a641924004aa72335070a42599": {
          "model_module": "@jupyter-widgets/controls",
          "model_name": "DescriptionStyleModel",
          "model_module_version": "1.5.0",
          "state": {
            "_model_module": "@jupyter-widgets/controls",
            "_model_module_version": "1.5.0",
            "_model_name": "DescriptionStyleModel",
            "_view_count": null,
            "_view_module": "@jupyter-widgets/base",
            "_view_module_version": "1.2.0",
            "_view_name": "StyleView",
            "description_width": ""
          }
        },
        "8ba6d0d416e448ed850ec79c730ccef7": {
          "model_module": "@jupyter-widgets/base",
          "model_name": "LayoutModel",
          "model_module_version": "1.2.0",
          "state": {
            "_model_module": "@jupyter-widgets/base",
            "_model_module_version": "1.2.0",
            "_model_name": "LayoutModel",
            "_view_count": null,
            "_view_module": "@jupyter-widgets/base",
            "_view_module_version": "1.2.0",
            "_view_name": "LayoutView",
            "align_content": null,
            "align_items": null,
            "align_self": null,
            "border": null,
            "bottom": null,
            "display": null,
            "flex": null,
            "flex_flow": null,
            "grid_area": null,
            "grid_auto_columns": null,
            "grid_auto_flow": null,
            "grid_auto_rows": null,
            "grid_column": null,
            "grid_gap": null,
            "grid_row": null,
            "grid_template_areas": null,
            "grid_template_columns": null,
            "grid_template_rows": null,
            "height": null,
            "justify_content": null,
            "justify_items": null,
            "left": null,
            "margin": null,
            "max_height": null,
            "max_width": null,
            "min_height": null,
            "min_width": null,
            "object_fit": null,
            "object_position": null,
            "order": null,
            "overflow": null,
            "overflow_x": null,
            "overflow_y": null,
            "padding": null,
            "right": null,
            "top": null,
            "visibility": null,
            "width": null
          }
        },
        "63c6327a5a034f849cc8c70f7ed541ca": {
          "model_module": "@jupyter-widgets/controls",
          "model_name": "ProgressStyleModel",
          "model_module_version": "1.5.0",
          "state": {
            "_model_module": "@jupyter-widgets/controls",
            "_model_module_version": "1.5.0",
            "_model_name": "ProgressStyleModel",
            "_view_count": null,
            "_view_module": "@jupyter-widgets/base",
            "_view_module_version": "1.2.0",
            "_view_name": "StyleView",
            "bar_color": null,
            "description_width": ""
          }
        },
        "30d455dbece24ee8b12d41acef8ded95": {
          "model_module": "@jupyter-widgets/base",
          "model_name": "LayoutModel",
          "model_module_version": "1.2.0",
          "state": {
            "_model_module": "@jupyter-widgets/base",
            "_model_module_version": "1.2.0",
            "_model_name": "LayoutModel",
            "_view_count": null,
            "_view_module": "@jupyter-widgets/base",
            "_view_module_version": "1.2.0",
            "_view_name": "LayoutView",
            "align_content": null,
            "align_items": null,
            "align_self": null,
            "border": null,
            "bottom": null,
            "display": null,
            "flex": null,
            "flex_flow": null,
            "grid_area": null,
            "grid_auto_columns": null,
            "grid_auto_flow": null,
            "grid_auto_rows": null,
            "grid_column": null,
            "grid_gap": null,
            "grid_row": null,
            "grid_template_areas": null,
            "grid_template_columns": null,
            "grid_template_rows": null,
            "height": null,
            "justify_content": null,
            "justify_items": null,
            "left": null,
            "margin": null,
            "max_height": null,
            "max_width": null,
            "min_height": null,
            "min_width": null,
            "object_fit": null,
            "object_position": null,
            "order": null,
            "overflow": null,
            "overflow_x": null,
            "overflow_y": null,
            "padding": null,
            "right": null,
            "top": null,
            "visibility": null,
            "width": null
          }
        },
        "c9d58163215042e89bb0c8ef6af8848d": {
          "model_module": "@jupyter-widgets/controls",
          "model_name": "DescriptionStyleModel",
          "model_module_version": "1.5.0",
          "state": {
            "_model_module": "@jupyter-widgets/controls",
            "_model_module_version": "1.5.0",
            "_model_name": "DescriptionStyleModel",
            "_view_count": null,
            "_view_module": "@jupyter-widgets/base",
            "_view_module_version": "1.2.0",
            "_view_name": "StyleView",
            "description_width": ""
          }
        },
        "1274c62f00d84b3992d5409ddbef3d2f": {
          "model_module": "@jupyter-widgets/controls",
          "model_name": "HBoxModel",
          "model_module_version": "1.5.0",
          "state": {
            "_dom_classes": [],
            "_model_module": "@jupyter-widgets/controls",
            "_model_module_version": "1.5.0",
            "_model_name": "HBoxModel",
            "_view_count": null,
            "_view_module": "@jupyter-widgets/controls",
            "_view_module_version": "1.5.0",
            "_view_name": "HBoxView",
            "box_style": "",
            "children": [
              "IPY_MODEL_aaecf463e3a34b569d505ef6ba01e9c3",
              "IPY_MODEL_062a6dfa249d47dc847ca28a72565d40",
              "IPY_MODEL_3d4816cbe4c24358888619e5aed8de72"
            ],
            "layout": "IPY_MODEL_8630d86e71d240349f1198df2602ae45"
          }
        },
        "aaecf463e3a34b569d505ef6ba01e9c3": {
          "model_module": "@jupyter-widgets/controls",
          "model_name": "HTMLModel",
          "model_module_version": "1.5.0",
          "state": {
            "_dom_classes": [],
            "_model_module": "@jupyter-widgets/controls",
            "_model_module_version": "1.5.0",
            "_model_name": "HTMLModel",
            "_view_count": null,
            "_view_module": "@jupyter-widgets/controls",
            "_view_module_version": "1.5.0",
            "_view_name": "HTMLView",
            "description": "",
            "description_tooltip": null,
            "layout": "IPY_MODEL_13a34c3740644579a2ac79f15a18c450",
            "placeholder": "​",
            "style": "IPY_MODEL_dcc0baaf0b7d49428223dee2246502ae",
            "value": "model.safetensors: 100%"
          }
        },
        "062a6dfa249d47dc847ca28a72565d40": {
          "model_module": "@jupyter-widgets/controls",
          "model_name": "FloatProgressModel",
          "model_module_version": "1.5.0",
          "state": {
            "_dom_classes": [],
            "_model_module": "@jupyter-widgets/controls",
            "_model_module_version": "1.5.0",
            "_model_name": "FloatProgressModel",
            "_view_count": null,
            "_view_module": "@jupyter-widgets/controls",
            "_view_module_version": "1.5.0",
            "_view_name": "ProgressView",
            "bar_style": "success",
            "description": "",
            "description_tooltip": null,
            "layout": "IPY_MODEL_81de6fd0e5474eb4901996ed71d226dd",
            "max": 548105171,
            "min": 0,
            "orientation": "horizontal",
            "style": "IPY_MODEL_e527d1eec5ee41abbed783254b9947df",
            "value": 548105171
          }
        },
        "3d4816cbe4c24358888619e5aed8de72": {
          "model_module": "@jupyter-widgets/controls",
          "model_name": "HTMLModel",
          "model_module_version": "1.5.0",
          "state": {
            "_dom_classes": [],
            "_model_module": "@jupyter-widgets/controls",
            "_model_module_version": "1.5.0",
            "_model_name": "HTMLModel",
            "_view_count": null,
            "_view_module": "@jupyter-widgets/controls",
            "_view_module_version": "1.5.0",
            "_view_name": "HTMLView",
            "description": "",
            "description_tooltip": null,
            "layout": "IPY_MODEL_6d1dbb9cb41d4820a06b1727210a85b5",
            "placeholder": "​",
            "style": "IPY_MODEL_f664572bcc6a4c02b3c3b108be72034d",
            "value": " 548M/548M [00:03&lt;00:00, 182MB/s]"
          }
        },
        "8630d86e71d240349f1198df2602ae45": {
          "model_module": "@jupyter-widgets/base",
          "model_name": "LayoutModel",
          "model_module_version": "1.2.0",
          "state": {
            "_model_module": "@jupyter-widgets/base",
            "_model_module_version": "1.2.0",
            "_model_name": "LayoutModel",
            "_view_count": null,
            "_view_module": "@jupyter-widgets/base",
            "_view_module_version": "1.2.0",
            "_view_name": "LayoutView",
            "align_content": null,
            "align_items": null,
            "align_self": null,
            "border": null,
            "bottom": null,
            "display": null,
            "flex": null,
            "flex_flow": null,
            "grid_area": null,
            "grid_auto_columns": null,
            "grid_auto_flow": null,
            "grid_auto_rows": null,
            "grid_column": null,
            "grid_gap": null,
            "grid_row": null,
            "grid_template_areas": null,
            "grid_template_columns": null,
            "grid_template_rows": null,
            "height": null,
            "justify_content": null,
            "justify_items": null,
            "left": null,
            "margin": null,
            "max_height": null,
            "max_width": null,
            "min_height": null,
            "min_width": null,
            "object_fit": null,
            "object_position": null,
            "order": null,
            "overflow": null,
            "overflow_x": null,
            "overflow_y": null,
            "padding": null,
            "right": null,
            "top": null,
            "visibility": null,
            "width": null
          }
        },
        "13a34c3740644579a2ac79f15a18c450": {
          "model_module": "@jupyter-widgets/base",
          "model_name": "LayoutModel",
          "model_module_version": "1.2.0",
          "state": {
            "_model_module": "@jupyter-widgets/base",
            "_model_module_version": "1.2.0",
            "_model_name": "LayoutModel",
            "_view_count": null,
            "_view_module": "@jupyter-widgets/base",
            "_view_module_version": "1.2.0",
            "_view_name": "LayoutView",
            "align_content": null,
            "align_items": null,
            "align_self": null,
            "border": null,
            "bottom": null,
            "display": null,
            "flex": null,
            "flex_flow": null,
            "grid_area": null,
            "grid_auto_columns": null,
            "grid_auto_flow": null,
            "grid_auto_rows": null,
            "grid_column": null,
            "grid_gap": null,
            "grid_row": null,
            "grid_template_areas": null,
            "grid_template_columns": null,
            "grid_template_rows": null,
            "height": null,
            "justify_content": null,
            "justify_items": null,
            "left": null,
            "margin": null,
            "max_height": null,
            "max_width": null,
            "min_height": null,
            "min_width": null,
            "object_fit": null,
            "object_position": null,
            "order": null,
            "overflow": null,
            "overflow_x": null,
            "overflow_y": null,
            "padding": null,
            "right": null,
            "top": null,
            "visibility": null,
            "width": null
          }
        },
        "dcc0baaf0b7d49428223dee2246502ae": {
          "model_module": "@jupyter-widgets/controls",
          "model_name": "DescriptionStyleModel",
          "model_module_version": "1.5.0",
          "state": {
            "_model_module": "@jupyter-widgets/controls",
            "_model_module_version": "1.5.0",
            "_model_name": "DescriptionStyleModel",
            "_view_count": null,
            "_view_module": "@jupyter-widgets/base",
            "_view_module_version": "1.2.0",
            "_view_name": "StyleView",
            "description_width": ""
          }
        },
        "81de6fd0e5474eb4901996ed71d226dd": {
          "model_module": "@jupyter-widgets/base",
          "model_name": "LayoutModel",
          "model_module_version": "1.2.0",
          "state": {
            "_model_module": "@jupyter-widgets/base",
            "_model_module_version": "1.2.0",
            "_model_name": "LayoutModel",
            "_view_count": null,
            "_view_module": "@jupyter-widgets/base",
            "_view_module_version": "1.2.0",
            "_view_name": "LayoutView",
            "align_content": null,
            "align_items": null,
            "align_self": null,
            "border": null,
            "bottom": null,
            "display": null,
            "flex": null,
            "flex_flow": null,
            "grid_area": null,
            "grid_auto_columns": null,
            "grid_auto_flow": null,
            "grid_auto_rows": null,
            "grid_column": null,
            "grid_gap": null,
            "grid_row": null,
            "grid_template_areas": null,
            "grid_template_columns": null,
            "grid_template_rows": null,
            "height": null,
            "justify_content": null,
            "justify_items": null,
            "left": null,
            "margin": null,
            "max_height": null,
            "max_width": null,
            "min_height": null,
            "min_width": null,
            "object_fit": null,
            "object_position": null,
            "order": null,
            "overflow": null,
            "overflow_x": null,
            "overflow_y": null,
            "padding": null,
            "right": null,
            "top": null,
            "visibility": null,
            "width": null
          }
        },
        "e527d1eec5ee41abbed783254b9947df": {
          "model_module": "@jupyter-widgets/controls",
          "model_name": "ProgressStyleModel",
          "model_module_version": "1.5.0",
          "state": {
            "_model_module": "@jupyter-widgets/controls",
            "_model_module_version": "1.5.0",
            "_model_name": "ProgressStyleModel",
            "_view_count": null,
            "_view_module": "@jupyter-widgets/base",
            "_view_module_version": "1.2.0",
            "_view_name": "StyleView",
            "bar_color": null,
            "description_width": ""
          }
        },
        "6d1dbb9cb41d4820a06b1727210a85b5": {
          "model_module": "@jupyter-widgets/base",
          "model_name": "LayoutModel",
          "model_module_version": "1.2.0",
          "state": {
            "_model_module": "@jupyter-widgets/base",
            "_model_module_version": "1.2.0",
            "_model_name": "LayoutModel",
            "_view_count": null,
            "_view_module": "@jupyter-widgets/base",
            "_view_module_version": "1.2.0",
            "_view_name": "LayoutView",
            "align_content": null,
            "align_items": null,
            "align_self": null,
            "border": null,
            "bottom": null,
            "display": null,
            "flex": null,
            "flex_flow": null,
            "grid_area": null,
            "grid_auto_columns": null,
            "grid_auto_flow": null,
            "grid_auto_rows": null,
            "grid_column": null,
            "grid_gap": null,
            "grid_row": null,
            "grid_template_areas": null,
            "grid_template_columns": null,
            "grid_template_rows": null,
            "height": null,
            "justify_content": null,
            "justify_items": null,
            "left": null,
            "margin": null,
            "max_height": null,
            "max_width": null,
            "min_height": null,
            "min_width": null,
            "object_fit": null,
            "object_position": null,
            "order": null,
            "overflow": null,
            "overflow_x": null,
            "overflow_y": null,
            "padding": null,
            "right": null,
            "top": null,
            "visibility": null,
            "width": null
          }
        },
        "f664572bcc6a4c02b3c3b108be72034d": {
          "model_module": "@jupyter-widgets/controls",
          "model_name": "DescriptionStyleModel",
          "model_module_version": "1.5.0",
          "state": {
            "_model_module": "@jupyter-widgets/controls",
            "_model_module_version": "1.5.0",
            "_model_name": "DescriptionStyleModel",
            "_view_count": null,
            "_view_module": "@jupyter-widgets/base",
            "_view_module_version": "1.2.0",
            "_view_name": "StyleView",
            "description_width": ""
          }
        }
      }
    }
  },
  "cells": [
    {
      "cell_type": "code",
      "source": [
        "!pip install datasets"
      ],
      "metadata": {
        "collapsed": true,
        "colab": {
          "base_uri": "https://localhost:8080/"
        },
        "id": "L4HAmrksOI9M",
        "outputId": "b7e4b8ae-f2f3-4041-e592-25f389acc5e9"
      },
      "execution_count": null,
      "outputs": [
        {
          "output_type": "stream",
          "name": "stdout",
          "text": [
            "Collecting datasets\n",
            "  Downloading datasets-3.3.2-py3-none-any.whl.metadata (19 kB)\n",
            "Requirement already satisfied: filelock in /usr/local/lib/python3.11/dist-packages (from datasets) (3.17.0)\n",
            "Requirement already satisfied: numpy>=1.17 in /usr/local/lib/python3.11/dist-packages (from datasets) (1.26.4)\n",
            "Requirement already satisfied: pyarrow>=15.0.0 in /usr/local/lib/python3.11/dist-packages (from datasets) (18.1.0)\n",
            "Collecting dill<0.3.9,>=0.3.0 (from datasets)\n",
            "  Downloading dill-0.3.8-py3-none-any.whl.metadata (10 kB)\n",
            "Requirement already satisfied: pandas in /usr/local/lib/python3.11/dist-packages (from datasets) (2.2.2)\n",
            "Requirement already satisfied: requests>=2.32.2 in /usr/local/lib/python3.11/dist-packages (from datasets) (2.32.3)\n",
            "Requirement already satisfied: tqdm>=4.66.3 in /usr/local/lib/python3.11/dist-packages (from datasets) (4.67.1)\n",
            "Collecting xxhash (from datasets)\n",
            "  Downloading xxhash-3.5.0-cp311-cp311-manylinux_2_17_x86_64.manylinux2014_x86_64.whl.metadata (12 kB)\n",
            "Collecting multiprocess<0.70.17 (from datasets)\n",
            "  Downloading multiprocess-0.70.16-py311-none-any.whl.metadata (7.2 kB)\n",
            "Requirement already satisfied: fsspec<=2024.12.0,>=2023.1.0 in /usr/local/lib/python3.11/dist-packages (from fsspec[http]<=2024.12.0,>=2023.1.0->datasets) (2024.10.0)\n",
            "Requirement already satisfied: aiohttp in /usr/local/lib/python3.11/dist-packages (from datasets) (3.11.13)\n",
            "Requirement already satisfied: huggingface-hub>=0.24.0 in /usr/local/lib/python3.11/dist-packages (from datasets) (0.28.1)\n",
            "Requirement already satisfied: packaging in /usr/local/lib/python3.11/dist-packages (from datasets) (24.2)\n",
            "Requirement already satisfied: pyyaml>=5.1 in /usr/local/lib/python3.11/dist-packages (from datasets) (6.0.2)\n",
            "Requirement already satisfied: aiohappyeyeballs>=2.3.0 in /usr/local/lib/python3.11/dist-packages (from aiohttp->datasets) (2.4.6)\n",
            "Requirement already satisfied: aiosignal>=1.1.2 in /usr/local/lib/python3.11/dist-packages (from aiohttp->datasets) (1.3.2)\n",
            "Requirement already satisfied: attrs>=17.3.0 in /usr/local/lib/python3.11/dist-packages (from aiohttp->datasets) (25.1.0)\n",
            "Requirement already satisfied: frozenlist>=1.1.1 in /usr/local/lib/python3.11/dist-packages (from aiohttp->datasets) (1.5.0)\n",
            "Requirement already satisfied: multidict<7.0,>=4.5 in /usr/local/lib/python3.11/dist-packages (from aiohttp->datasets) (6.1.0)\n",
            "Requirement already satisfied: propcache>=0.2.0 in /usr/local/lib/python3.11/dist-packages (from aiohttp->datasets) (0.3.0)\n",
            "Requirement already satisfied: yarl<2.0,>=1.17.0 in /usr/local/lib/python3.11/dist-packages (from aiohttp->datasets) (1.18.3)\n",
            "Requirement already satisfied: typing-extensions>=3.7.4.3 in /usr/local/lib/python3.11/dist-packages (from huggingface-hub>=0.24.0->datasets) (4.12.2)\n",
            "Requirement already satisfied: charset-normalizer<4,>=2 in /usr/local/lib/python3.11/dist-packages (from requests>=2.32.2->datasets) (3.4.1)\n",
            "Requirement already satisfied: idna<4,>=2.5 in /usr/local/lib/python3.11/dist-packages (from requests>=2.32.2->datasets) (3.10)\n",
            "Requirement already satisfied: urllib3<3,>=1.21.1 in /usr/local/lib/python3.11/dist-packages (from requests>=2.32.2->datasets) (2.3.0)\n",
            "Requirement already satisfied: certifi>=2017.4.17 in /usr/local/lib/python3.11/dist-packages (from requests>=2.32.2->datasets) (2025.1.31)\n",
            "Requirement already satisfied: python-dateutil>=2.8.2 in /usr/local/lib/python3.11/dist-packages (from pandas->datasets) (2.8.2)\n",
            "Requirement already satisfied: pytz>=2020.1 in /usr/local/lib/python3.11/dist-packages (from pandas->datasets) (2025.1)\n",
            "Requirement already satisfied: tzdata>=2022.7 in /usr/local/lib/python3.11/dist-packages (from pandas->datasets) (2025.1)\n",
            "Requirement already satisfied: six>=1.5 in /usr/local/lib/python3.11/dist-packages (from python-dateutil>=2.8.2->pandas->datasets) (1.17.0)\n",
            "Downloading datasets-3.3.2-py3-none-any.whl (485 kB)\n",
            "\u001b[2K   \u001b[90m━━━━━━━━━━━━━━━━━━━━━━━━━━━━━━━━━━━━━━━━\u001b[0m \u001b[32m485.4/485.4 kB\u001b[0m \u001b[31m14.5 MB/s\u001b[0m eta \u001b[36m0:00:00\u001b[0m\n",
            "\u001b[?25hDownloading dill-0.3.8-py3-none-any.whl (116 kB)\n",
            "\u001b[2K   \u001b[90m━━━━━━━━━━━━━━━━━━━━━━━━━━━━━━━━━━━━━━━━\u001b[0m \u001b[32m116.3/116.3 kB\u001b[0m \u001b[31m11.7 MB/s\u001b[0m eta \u001b[36m0:00:00\u001b[0m\n",
            "\u001b[?25hDownloading multiprocess-0.70.16-py311-none-any.whl (143 kB)\n",
            "\u001b[2K   \u001b[90m━━━━━━━━━━━━━━━━━━━━━━━━━━━━━━━━━━━━━━━━\u001b[0m \u001b[32m143.5/143.5 kB\u001b[0m \u001b[31m12.7 MB/s\u001b[0m eta \u001b[36m0:00:00\u001b[0m\n",
            "\u001b[?25hDownloading xxhash-3.5.0-cp311-cp311-manylinux_2_17_x86_64.manylinux2014_x86_64.whl (194 kB)\n",
            "\u001b[2K   \u001b[90m━━━━━━━━━━━━━━━━━━━━━━━━━━━━━━━━━━━━━━━━\u001b[0m \u001b[32m194.8/194.8 kB\u001b[0m \u001b[31m12.1 MB/s\u001b[0m eta \u001b[36m0:00:00\u001b[0m\n",
            "\u001b[?25hInstalling collected packages: xxhash, dill, multiprocess, datasets\n",
            "Successfully installed datasets-3.3.2 dill-0.3.8 multiprocess-0.70.16 xxhash-3.5.0\n"
          ]
        }
      ]
    },
    {
      "cell_type": "code",
      "execution_count": null,
      "metadata": {
        "id": "6KfsvsgELbDF"
      },
      "outputs": [],
      "source": [
        "import torch\n",
        "import numpy as np\n",
        "from torch import nn\n",
        "from transformers import GPT2Tokenizer, GPT2Config, GPT2Model, GPT2PreTrainedModel\n",
        "from torch.optim import AdamW\n",
        "from datasets import load_dataset\n",
        "from tqdm import tqdm\n",
        "from torch.nn import functional as F\n",
        "import matplotlib.pyplot as plt\n",
        "import numpy as np"
      ]
    },
    {
      "cell_type": "code",
      "source": [
        "device = device = 'cuda' if torch.cuda.is_available() else 'mps' if torch.backends.mps.is_built() else 'cpu'\n",
        "print(device)"
      ],
      "metadata": {
        "colab": {
          "base_uri": "https://localhost:8080/"
        },
        "id": "l7EX5fNMNbCM",
        "outputId": "e50d1c89-1c3f-4b3c-ce72-4de4f2078e3b"
      },
      "execution_count": null,
      "outputs": [
        {
          "output_type": "stream",
          "name": "stdout",
          "text": [
            "cuda\n"
          ]
        }
      ]
    },
    {
      "cell_type": "code",
      "source": [
        "dataset = load_dataset(\"gigant/ted_descriptions\")\n",
        "print(dataset)\n",
        "print(len(dataset['train']))"
      ],
      "metadata": {
        "colab": {
          "base_uri": "https://localhost:8080/",
          "height": 387,
          "referenced_widgets": [
            "fba07216e61640e38e6b0e8c44bd610f",
            "c6b1d1924e3a417b954aaadad6e5f5a7",
            "c59461213ac5495e8fc05c330896d37b",
            "3639580f0bfb42bcaf51839ac4855b69",
            "d49944f2a5034636b8aa6cd0fafd00eb",
            "c494237e61ad46a4a39a5d895fbb37e9",
            "79b5bfca1772432aa8ec6c0d5de2279c",
            "6bfcd639f14b41ed9da250d6bfb15a1a",
            "e3d6e0e47f32484ca254d6cd13e80391",
            "e706c29682b0475c853479bb92217313",
            "f593f5900b5b4230a64acc1b49ba298f",
            "3d3ec9014fbb451aac18f4a2da027f60",
            "ebb6903876b6482e82541bbb1fa58de4",
            "86de6b99eb0d4009a43d416e1d62691b",
            "8c86f37f47cb467eba195d8950a977f4",
            "3493f0e411304344ab2606586cbba43c",
            "614a0e0c036c457c900f6665f17a8175",
            "51443b9b05e544f0af5912efb3242c96",
            "c0b1b4e0a52b4284a000029e209bc58d",
            "22fc0c4bc49b47fe98d774c492116db8",
            "a5e67332e5d94e1fb0ba993e12c02a3d",
            "c6ecd6ec4da948f99f5074ed99c5dfb0",
            "ee2fbc553ab54ca397fd49632f8be617",
            "7159a5ef9eb94befa5ffef93068802ff",
            "0d0ed647fe85462aba3e509da2a18ad5",
            "2cdb428ed19944c49a073c44ed445d75",
            "ec8c5b1571b243b9bef33696b36b532c",
            "816504fad0c5422a841082046c3fdf22",
            "d2b49cc21776487a8fc3a65971dfab73",
            "cf40cba4ed0d4faab93713836ccb71cc",
            "d00a26fe51a34961b55964c2669a4895",
            "ed11b11cb2df4189a6a1ccd778b63f91",
            "68e4b7b6a2334afc9de404b7b12bc0db"
          ]
        },
        "id": "ZD2Ayw9BQ_xc",
        "outputId": "156f3ab2-665b-4e1e-e288-5791587627d8"
      },
      "execution_count": null,
      "outputs": [
        {
          "output_type": "stream",
          "name": "stderr",
          "text": [
            "/usr/local/lib/python3.11/dist-packages/huggingface_hub/utils/_auth.py:94: UserWarning: \n",
            "The secret `HF_TOKEN` does not exist in your Colab secrets.\n",
            "To authenticate with the Hugging Face Hub, create a token in your settings tab (https://huggingface.co/settings/tokens), set it as secret in your Google Colab and restart your session.\n",
            "You will be able to reuse this secret in all of your notebooks.\n",
            "Please note that authentication is recommended but still optional to access public models or datasets.\n",
            "  warnings.warn(\n"
          ]
        },
        {
          "output_type": "display_data",
          "data": {
            "text/plain": [
              "README.md:   0%|          | 0.00/683 [00:00<?, ?B/s]"
            ],
            "application/vnd.jupyter.widget-view+json": {
              "version_major": 2,
              "version_minor": 0,
              "model_id": "fba07216e61640e38e6b0e8c44bd610f"
            }
          },
          "metadata": {}
        },
        {
          "output_type": "display_data",
          "data": {
            "text/plain": [
              "(…)-00000-of-00001-c35c348d686618cf.parquet:   0%|          | 0.00/1.67M [00:00<?, ?B/s]"
            ],
            "application/vnd.jupyter.widget-view+json": {
              "version_major": 2,
              "version_minor": 0,
              "model_id": "3d3ec9014fbb451aac18f4a2da027f60"
            }
          },
          "metadata": {}
        },
        {
          "output_type": "display_data",
          "data": {
            "text/plain": [
              "Generating train split:   0%|          | 0/5705 [00:00<?, ? examples/s]"
            ],
            "application/vnd.jupyter.widget-view+json": {
              "version_major": 2,
              "version_minor": 0,
              "model_id": "ee2fbc553ab54ca397fd49632f8be617"
            }
          },
          "metadata": {}
        },
        {
          "output_type": "stream",
          "name": "stdout",
          "text": [
            "DatasetDict({\n",
            "    train: Dataset({\n",
            "        features: ['url', 'descr'],\n",
            "        num_rows: 5705\n",
            "    })\n",
            "})\n",
            "5705\n"
          ]
        }
      ]
    },
    {
      "cell_type": "code",
      "source": [
        "for i in range(5):\n",
        "  print(dataset['train'][i])"
      ],
      "metadata": {
        "colab": {
          "base_uri": "https://localhost:8080/"
        },
        "id": "-mAwweSDSLCE",
        "outputId": "685b171d-fa90-448b-8164-417b186b0637"
      },
      "execution_count": null,
      "outputs": [
        {
          "output_type": "stream",
          "name": "stdout",
          "text": [
            "{'url': 'https://www.ted.com/talks/jen_gunter_how_your_sense_of_smell_helps_you_savor_flavor', 'descr': \"Eating pizza with a stuffy nose just isn't as satisfying -- and there's a reason for that. Dr. Jen Gunter explains how our ability to smell and taste work together to give us a full sensory experience. So whether you're sniffing the caramelized aroma of coffee, a whiff of trash or a trillion other things, your brain knows exactly what's under your nose. For more on how your body works, tune into her podcast, Body Stuff with Dr. Jen Gunter, from the TED Audio Collective.\"}\n",
            "{'url': 'https://www.ted.com/talks/ryan_heffington_how_dance_can_unleash_your_inner_joy', 'descr': '\"We all have our own beautiful ways of moving, and this is worth celebrating,\" says dancer and choreographer Ryan Heffington. Inviting you to reconsider your connection to dance, he shows how even everyday experiences -- tying your shoes, rocking a baby, whisking up some mac and cheese -- can offer choreographic inspiration and help you find joy and release when you need it most. After the talk, dancers Nico Lonetree and Ryan Spencer perform a dazzling routine infused with the humor and beauty of daily movements.'}\n",
            "{'url': 'https://www.ted.com/talks/gloria_chan_packer_work_is_not_your_family_sep_2022', 'descr': \"You may need to hear this (if you haven't already): your job is not your family. While you can develop meaningful relationships with your colleagues, calling work your family can actually breed burnout and be detrimental to your mental and emotional health. Mental wellness educator Gloria Chan Packer walks through the exercises you need to shift your perspective and redraw the boundaries between your work and personal life, so you can feel freer and more empowered.\"}\n",
            "{'url': 'https://www.ted.com/talks/soraya_field_fiorio_how_did_they_build_the_great_pyramid_of_giza', 'descr': \"As soon as Pharaoh Khufu ascended the throne circa 2575 BCE, work on his eternal resting place began. The structure's architect, Hemiunu, determined he would need 20 years to finish the royal tomb. But what he could not predict was that this monument would remain the world's tallest manmade structure for over 3,800 years. Soraya Field Fiorio digs into the construction of the Great Pyramid. [Directed by Luísa M H Copetti, Hype CG, narrated by Susan Zimmerman, music by Gabriel Maia].\"}\n",
            "{'url': 'https://www.ted.com/talks/nicholas_leeper_is_there_a_link_between_cancer_and_heart_disease', 'descr': \"Does the key to stopping cancer lie in the heart? Cardiologist Nicholas Leeper digs into emerging scientific research on the link between the world's two leading causes of death, heart disease and cancer, sharing how their biological origins may be connected -- and treatable with the same therapeutics. A call to challenge dogma and break down traditional silos in science, with the hope of saving lives.\"}\n"
          ]
        }
      ]
    },
    {
      "cell_type": "code",
      "source": [
        "text_corpus = [f\"{txt} <|endoftext|>\" for i, txt in enumerate(dataset['train']['descr'])]\n",
        "print(text_corpus[0])"
      ],
      "metadata": {
        "colab": {
          "base_uri": "https://localhost:8080/"
        },
        "id": "5wiGoot4S5mV",
        "outputId": "7273d0c6-eedf-46df-8e25-1d08bf9bdbae"
      },
      "execution_count": null,
      "outputs": [
        {
          "output_type": "stream",
          "name": "stdout",
          "text": [
            "Eating pizza with a stuffy nose just isn't as satisfying -- and there's a reason for that. Dr. Jen Gunter explains how our ability to smell and taste work together to give us a full sensory experience. So whether you're sniffing the caramelized aroma of coffee, a whiff of trash or a trillion other things, your brain knows exactly what's under your nose. For more on how your body works, tune into her podcast, Body Stuff with Dr. Jen Gunter, from the TED Audio Collective. <|endoftext|>\n"
          ]
        }
      ]
    },
    {
      "cell_type": "code",
      "source": [
        "tokenizer = GPT2Tokenizer.from_pretrained('gpt2', pad_token= '<|pad|>')"
      ],
      "metadata": {
        "colab": {
          "base_uri": "https://localhost:8080/",
          "height": 177,
          "referenced_widgets": [
            "863043fbc4e34590a04d5bbcbcfd053f",
            "d9f0bbc8ba8e452f8244f5661f80ee2b",
            "0113175b4a0b440f80bab003337bd837",
            "6c5ef9406d844dd09a66d4056a168246",
            "8488549bdce04dff8d9bdbd8c1cca38c",
            "a1e10e4de240402f9ffe96572105bd41",
            "bd1bc09894c344eabadb781e51288d5a",
            "fc5a0a368c804a4bb7bd6beee8affdd9",
            "62ce857a3c3946c789c104674b5e1bd4",
            "473845af3295442f96086f8feb8c724d",
            "6f475a6f79bc4a0a9ca7e477c6f5cf8f",
            "dea447a54fbf402aa00cc89320cce8e2",
            "31ad6101e4f043828e2afeba1aed059a",
            "d9830d63842d47059ea0db91f2ef11b4",
            "0803587d7979456785ae1503b097887b",
            "4ac485432c4c4f609c277aeead7178e6",
            "02a8dc5333574559b9121df41c62d23d",
            "2b66556b1b414e23a02472857922f58e",
            "27c682f11d5f4067932bff051e298cb0",
            "f0996832ff2844b9a337bbfa60384738",
            "9f4a5e2f0b4b4398952f34213f12c03b",
            "9b6e9af681584b3a9da8c1bfe7019d8d",
            "d6fd2814bac34deda1a33cb6645d3570",
            "d26251915bae4564b1ab9b2c18b74fdf",
            "abdafe60197a41d3ba4f6a031df631ba",
            "92e1c1a59cd14596a5d69be9b039dcdb",
            "dd65827d071c4d459d16b144b931275c",
            "f63d9475c0434309bc756ffa52e3596e",
            "a4c40bb79ecd47989f9ca037769d1e5a",
            "aa9540e3780d4e3ea449d13d0ab9a0d7",
            "9c457092442340bb9ec43a96a278c5be",
            "9c51505126864a4db81d5dd8015d4714",
            "b4dcc3c056904bd3a070b598c4cc2d7e",
            "0ca5b51eb6614884b0c01cced6edf638",
            "70c9f2ad599c4bdfb7c7c4455c34f2cf",
            "367cb14ca431494892b0054433b4a159",
            "e4918f8d483441a49565ab5c5eb59d36",
            "63317f8bfcf34207a9ea04258ee73b5b",
            "dd6a84c368c74064abf995e7bf33e358",
            "b750918becc24c26bd675420ad5f6699",
            "548b10cc8c2248e7af29b40cdf869d74",
            "7a8ded16d8894f6486caf67955da60a1",
            "f438af27d2d44f62b02472643a20209b",
            "9dfa0cb6e10449d699f9ffec18ed20a1",
            "5030b1157921482db8723ceca96f8590",
            "81f3f9f00e9a47289abe08395ffc1c6c",
            "86951f97e7a14b83a2e3af2f28485957",
            "4af6158894e44b9f91861392bc1cc5fe",
            "4d1f01dc46ae4792b8055c105ca28757",
            "791443b89c014d2fb84a82b311156677",
            "3192e4a641924004aa72335070a42599",
            "8ba6d0d416e448ed850ec79c730ccef7",
            "63c6327a5a034f849cc8c70f7ed541ca",
            "30d455dbece24ee8b12d41acef8ded95",
            "c9d58163215042e89bb0c8ef6af8848d"
          ]
        },
        "id": "yOgdq3W1T9Y0",
        "outputId": "c7d5c669-ee87-4e9e-b9bb-1302a27802d4"
      },
      "execution_count": null,
      "outputs": [
        {
          "output_type": "display_data",
          "data": {
            "text/plain": [
              "tokenizer_config.json:   0%|          | 0.00/26.0 [00:00<?, ?B/s]"
            ],
            "application/vnd.jupyter.widget-view+json": {
              "version_major": 2,
              "version_minor": 0,
              "model_id": "863043fbc4e34590a04d5bbcbcfd053f"
            }
          },
          "metadata": {}
        },
        {
          "output_type": "display_data",
          "data": {
            "text/plain": [
              "vocab.json:   0%|          | 0.00/1.04M [00:00<?, ?B/s]"
            ],
            "application/vnd.jupyter.widget-view+json": {
              "version_major": 2,
              "version_minor": 0,
              "model_id": "dea447a54fbf402aa00cc89320cce8e2"
            }
          },
          "metadata": {}
        },
        {
          "output_type": "display_data",
          "data": {
            "text/plain": [
              "merges.txt:   0%|          | 0.00/456k [00:00<?, ?B/s]"
            ],
            "application/vnd.jupyter.widget-view+json": {
              "version_major": 2,
              "version_minor": 0,
              "model_id": "d6fd2814bac34deda1a33cb6645d3570"
            }
          },
          "metadata": {}
        },
        {
          "output_type": "display_data",
          "data": {
            "text/plain": [
              "tokenizer.json:   0%|          | 0.00/1.36M [00:00<?, ?B/s]"
            ],
            "application/vnd.jupyter.widget-view+json": {
              "version_major": 2,
              "version_minor": 0,
              "model_id": "0ca5b51eb6614884b0c01cced6edf638"
            }
          },
          "metadata": {}
        },
        {
          "output_type": "display_data",
          "data": {
            "text/plain": [
              "config.json:   0%|          | 0.00/665 [00:00<?, ?B/s]"
            ],
            "application/vnd.jupyter.widget-view+json": {
              "version_major": 2,
              "version_minor": 0,
              "model_id": "5030b1157921482db8723ceca96f8590"
            }
          },
          "metadata": {}
        }
      ]
    },
    {
      "cell_type": "code",
      "source": [
        "input_text = \"Hello my country <|endoftext|><|endoftext|><|pad|><|pad|><|pad|>\"\n",
        "tokenizer_input_text = tokenizer(input_text)['input_ids']\n",
        "print(tokenizer_input_text)"
      ],
      "metadata": {
        "colab": {
          "base_uri": "https://localhost:8080/"
        },
        "id": "njKClnTYUMek",
        "outputId": "45a519f5-b971-4b0e-f71d-d9feb405828f"
      },
      "execution_count": null,
      "outputs": [
        {
          "output_type": "stream",
          "name": "stdout",
          "text": [
            "[15496, 616, 1499, 220, 50256, 50256, 50257, 50257, 50257]\n"
          ]
        }
      ]
    },
    {
      "cell_type": "code",
      "source": [
        "print(' '.join(tokenizer.convert_ids_to_tokens(tokenizer_input_text)))"
      ],
      "metadata": {
        "colab": {
          "base_uri": "https://localhost:8080/"
        },
        "id": "LbMVo2QlVDpc",
        "outputId": "35aece7b-6bc6-4d45-bb13-d76c8cd3eec5"
      },
      "execution_count": null,
      "outputs": [
        {
          "output_type": "stream",
          "name": "stdout",
          "text": [
            "Hello Ġmy Ġcountry Ġ <|endoftext|> <|endoftext|> <|pad|> <|pad|> <|pad|>\n"
          ]
        }
      ]
    },
    {
      "cell_type": "code",
      "source": [
        "class GPT2_model(GPT2PreTrainedModel):\n",
        "\n",
        "  def __init__(self, config):\n",
        "    super().__init__(config)\n",
        "    self.transformer = GPT2Model.from_pretrained('gpt2')\n",
        "    tokenizer = GPT2Tokenizer.from_pretrained('gpt2', pad_token= '<|pad|>')\n",
        "\n",
        "    self.transformer.resize_token_embeddings(len(tokenizer))\n",
        "    self.lm_head = nn.Linear(config.n_embd, len(tokenizer), bias=False)\n",
        "\n",
        "  def forward(self, input_ids, attention_mask=None, token_type_ids=None):\n",
        "\n",
        "    x = self.transformer(input_ids, attention_mask=attention_mask, token_type_ids=token_type_ids)[0]\n",
        "    x=self.lm_head(x)\n",
        "    return x\n"
      ],
      "metadata": {
        "id": "u-tVGSzsV2Bb"
      },
      "execution_count": null,
      "outputs": []
    },
    {
      "cell_type": "code",
      "source": [
        "tokenized_inp_len = [len(tokenizer(txt)['input_ids']) for txt in text_corpus]\n",
        "print(tokenized_inp_len)\n",
        "\n",
        "np.random.seed(42)\n",
        "x = np.asarray(tokenized_inp_len)\n",
        "\n",
        "plt.hist(x, density=False, bins=10)\n",
        "plt.ylabel('Count')\n",
        "plt.xlabel('Length')\n",
        "plt.show()"
      ],
      "metadata": {
        "colab": {
          "base_uri": "https://localhost:8080/",
          "height": 486
        },
        "id": "RDv8xla5wp9g",
        "outputId": "90d11965-3acc-424f-f6b8-7ced8a9517be"
      },
      "execution_count": null,
      "outputs": [
        {
          "output_type": "stream",
          "name": "stdout",
          "text": [
            "[108, 106, 90, 114, 80, 77, 56, 106, 82, 95, 89, 100, 93, 121, 38, 100, 98, 122, 71, 120, 60, 106, 49, 113, 111, 79, 77, 103, 34, 132, 71, 56, 97, 148, 106, 101, 91, 75, 107, 94, 86, 120, 104, 115, 125, 100, 65, 83, 116, 100, 119, 38, 116, 36, 76, 89, 113, 33, 102, 68, 207, 123, 105, 95, 35, 79, 115, 91, 116, 119, 88, 75, 52, 76, 73, 90, 92, 68, 61, 81, 120, 82, 106, 116, 110, 69, 77, 117, 109, 100, 98, 109, 70, 96, 116, 75, 110, 114, 101, 93, 65, 118, 100, 141, 80, 76, 112, 96, 113, 34, 157, 130, 84, 110, 82, 92, 119, 101, 84, 93, 108, 94, 83, 89, 98, 119, 99, 85, 81, 109, 99, 74, 92, 83, 56, 92, 73, 48, 93, 102, 117, 87, 88, 100, 149, 138, 152, 128, 112, 99, 65, 113, 49, 45, 61, 171, 164, 86, 86, 101, 93, 145, 119, 121, 146, 123, 101, 70, 153, 86, 117, 100, 100, 116, 96, 98, 66, 108, 129, 84, 51, 97, 63, 99, 114, 79, 59, 111, 81, 68, 52, 104, 107, 95, 108, 66, 108, 127, 99, 117, 87, 130, 67, 118, 106, 52, 126, 120, 90, 115, 50, 173, 46, 103, 154, 115, 91, 112, 108, 100, 89, 102, 113, 105, 109, 107, 81, 107, 72, 92, 108, 93, 77, 51, 60, 101, 40, 70, 114, 61, 81, 65, 111, 41, 89, 79, 114, 106, 115, 113, 124, 110, 78, 125, 103, 115, 71, 73, 115, 105, 106, 71, 96, 130, 83, 82, 105, 112, 139, 122, 110, 128, 121, 111, 81, 100, 92, 90, 121, 94, 40, 88, 58, 98, 82, 112, 89, 89, 139, 93, 91, 122, 83, 116, 103, 95, 79, 104, 105, 119, 46, 64, 75, 31, 31, 84, 109, 119, 106, 108, 73, 93, 70, 137, 114, 112, 20, 91, 48, 53, 83, 68, 124, 115, 103, 72, 104, 96, 63, 71, 52, 118, 61, 23, 86, 97, 77, 103, 79, 95, 98, 121, 86, 112, 87, 118, 39, 78, 108, 76, 93, 99, 76, 74, 163, 57, 81, 114, 64, 67, 115, 54, 142, 46, 49, 107, 110, 119, 101, 73, 89, 144, 98, 85, 92, 75, 97, 111, 95, 109, 87, 104, 125, 94, 117, 113, 120, 124, 93, 105, 59, 112, 120, 38, 85, 119, 121, 122, 108, 67, 65, 121, 87, 82, 93, 98, 97, 77, 121, 109, 65, 74, 95, 100, 95, 116, 81, 63, 119, 57, 49, 101, 89, 96, 136, 114, 92, 110, 81, 113, 82, 201, 99, 78, 131, 87, 70, 90, 96, 127, 103, 59, 108, 42, 125, 126, 114, 96, 106, 106, 116, 77, 54, 65, 89, 64, 68, 66, 91, 75, 60, 110, 154, 155, 76, 70, 116, 95, 88, 108, 115, 77, 66, 73, 102, 77, 118, 107, 55, 104, 123, 105, 119, 87, 73, 98, 120, 85, 110, 105, 70, 53, 95, 101, 118, 64, 102, 52, 73, 85, 90, 97, 72, 98, 104, 120, 102, 95, 113, 92, 67, 85, 105, 106, 60, 98, 75, 73, 89, 107, 126, 100, 111, 65, 117, 77, 118, 93, 152, 66, 75, 80, 106, 114, 103, 61, 130, 96, 88, 94, 86, 122, 108, 77, 117, 92, 102, 89, 87, 92, 115, 89, 117, 116, 94, 88, 98, 107, 99, 88, 80, 120, 117, 120, 111, 97, 77, 111, 98, 97, 75, 113, 95, 114, 74, 100, 108, 93, 84, 90, 101, 95, 107, 39, 117, 65, 84, 115, 106, 115, 111, 114, 79, 111, 124, 66, 114, 102, 112, 84, 70, 105, 67, 121, 44, 106, 102, 60, 108, 67, 82, 110, 103, 97, 91, 120, 79, 103, 111, 102, 54, 65, 97, 96, 63, 141, 94, 100, 129, 95, 105, 67, 74, 89, 74, 124, 117, 155, 111, 85, 132, 108, 118, 70, 98, 104, 107, 116, 106, 67, 76, 104, 103, 128, 113, 112, 123, 153, 85, 96, 109, 115, 126, 132, 76, 98, 63, 112, 113, 114, 91, 67, 117, 115, 124, 121, 111, 71, 108, 86, 88, 71, 94, 66, 71, 77, 97, 88, 74, 100, 117, 71, 42, 94, 109, 69, 70, 103, 60, 78, 112, 118, 56, 74, 52, 158, 74, 101, 81, 73, 117, 59, 106, 99, 58, 118, 103, 46, 88, 58, 66, 87, 104, 121, 73, 88, 61, 70, 97, 48, 105, 49, 42, 95, 56, 124, 63, 86, 117, 114, 57, 115, 149, 76, 89, 78, 87, 95, 115, 120, 247, 83, 99, 94, 83, 101, 92, 58, 93, 70, 93, 68, 107, 60, 108, 90, 64, 107, 106, 98, 70, 68, 118, 110, 108, 93, 71, 56, 78, 70, 62, 89, 82, 126, 74, 90, 68, 97, 113, 77, 116, 99, 86, 55, 89, 110, 84, 73, 80, 97, 92, 95, 98, 96, 93, 96, 65, 108, 55, 65, 104, 56, 102, 50, 57, 98, 84, 78, 104, 120, 108, 106, 90, 118, 45, 84, 111, 64, 104, 107, 69, 92, 66, 78, 66, 88, 102, 111, 88, 88, 63, 59, 119, 85, 129, 67, 104, 133, 77, 104, 97, 96, 102, 116, 88, 51, 44, 73, 77, 90, 91, 81, 100, 88, 134, 42, 103, 97, 79, 37, 99, 133, 102, 58, 102, 125, 104, 107, 65, 112, 100, 79, 76, 69, 117, 112, 35, 88, 128, 145, 49, 51, 89, 107, 40, 60, 72, 38, 135, 117, 90, 117, 105, 107, 81, 124, 65, 33, 72, 99, 116, 79, 74, 104, 56, 74, 82, 64, 104, 86, 80, 68, 104, 76, 69, 112, 74, 73, 91, 106, 71, 102, 86, 95, 107, 110, 98, 99, 90, 70, 63, 78, 45, 102, 107, 85, 65, 140, 98, 45, 125, 59, 91, 118, 91, 73, 106, 97, 98, 97, 40, 88, 34, 37, 77, 60, 52, 116, 79, 88, 109, 103, 82, 110, 99, 117, 80, 102, 48, 99, 42, 121, 106, 93, 78, 63, 77, 147, 74, 121, 51, 107, 68, 56, 92, 58, 44, 102, 102, 102, 126, 111, 116, 78, 33, 52, 64, 62, 99, 120, 97, 93, 112, 115, 60, 96, 70, 118, 105, 111, 74, 121, 113, 96, 111, 92, 73, 124, 110, 58, 137, 112, 93, 60, 86, 125, 111, 108, 103, 82, 92, 111, 41, 119, 70, 61, 104, 85, 77, 72, 96, 84, 80, 62, 138, 70, 79, 49, 107, 121, 94, 100, 94, 93, 97, 32, 76, 117, 115, 119, 102, 82, 106, 137, 83, 120, 102, 55, 84, 85, 61, 118, 87, 81, 109, 70, 52, 94, 55, 81, 101, 97, 152, 83, 157, 96, 110, 141, 220, 116, 90, 99, 93, 59, 54, 98, 139, 32, 107, 51, 93, 49, 160, 138, 98, 115, 131, 59, 77, 123, 90, 119, 51, 113, 84, 100, 60, 60, 105, 109, 150, 65, 101, 110, 82, 125, 108, 121, 51, 104, 85, 104, 71, 135, 67, 99, 60, 70, 102, 75, 47, 109, 112, 46, 91, 87, 82, 74, 106, 51, 107, 90, 98, 97, 68, 63, 96, 57, 58, 71, 63, 106, 71, 115, 108, 91, 63, 105, 116, 110, 124, 105, 110, 68, 124, 107, 70, 116, 120, 82, 86, 83, 65, 96, 83, 103, 95, 49, 47, 77, 116, 90, 99, 101, 122, 79, 55, 101, 114, 113, 96, 73, 73, 106, 73, 77, 213, 110, 88, 100, 65, 106, 106, 101, 102, 107, 84, 65, 78, 96, 70, 91, 80, 65, 82, 75, 94, 93, 77, 76, 76, 69, 65, 85, 112, 47, 77, 72, 114, 97, 110, 62, 96, 105, 87, 106, 96, 120, 87, 103, 87, 25, 28, 68, 98, 66, 73, 29, 83, 43, 85, 94, 42, 121, 28, 86, 65, 68, 56, 53, 101, 52, 35, 94, 74, 44, 52, 30, 39, 37, 97, 88, 98, 56, 110, 99, 65, 72, 82, 43, 67, 122, 143, 83, 90, 76, 57, 107, 63, 71, 62, 87, 49, 87, 39, 77, 99, 109, 125, 98, 63, 59, 60, 33, 79, 110, 88, 88, 31, 36, 78, 59, 100, 89, 86, 77, 70, 79, 88, 79, 74, 83, 80, 68, 99, 66, 78, 99, 56, 59, 90, 105, 40, 114, 82, 68, 99, 105, 102, 108, 110, 102, 113, 90, 107, 95, 97, 92, 85, 114, 70, 76, 51, 65, 78, 82, 53, 76, 68, 99, 72, 70, 79, 104, 98, 68, 54, 75, 53, 160, 92, 63, 62, 105, 89, 76, 70, 59, 48, 91, 59, 109, 118, 70, 103, 89, 94, 68, 82, 82, 73, 105, 72, 69, 111, 67, 59, 102, 79, 103, 79, 103, 43, 77, 83, 115, 48, 50, 90, 104, 124, 61, 80, 70, 68, 88, 73, 76, 62, 67, 101, 64, 97, 74, 61, 75, 51, 105, 107, 94, 118, 66, 81, 78, 63, 95, 61, 118, 84, 103, 64, 107, 85, 53, 36, 154, 65, 72, 54, 76, 101, 63, 102, 76, 103, 73, 48, 78, 75, 86, 50, 76, 62, 99, 73, 73, 82, 100, 101, 82, 94, 100, 76, 107, 113, 76, 83, 123, 97, 98, 48, 80, 85, 116, 93, 94, 78, 84, 93, 46, 97, 85, 98, 107, 67, 62, 79, 75, 67, 63, 97, 121, 91, 80, 103, 82, 47, 76, 68, 78, 81, 82, 69, 144, 106, 53, 103, 108, 86, 115, 127, 41, 80, 67, 68, 108, 101, 95, 92, 81, 79, 112, 118, 97, 90, 110, 121, 75, 113, 48, 92, 72, 121, 114, 102, 124, 89, 92, 72, 90, 89, 109, 36, 83, 64, 63, 119, 74, 77, 122, 115, 91, 59, 48, 98, 118, 104, 58, 99, 60, 85, 95, 78, 49, 68, 97, 45, 59, 96, 80, 122, 77, 109, 92, 103, 52, 63, 35, 106, 114, 107, 44, 108, 86, 68, 51, 80, 71, 80, 68, 114, 116, 72, 53, 90, 95, 37, 101, 46, 100, 114, 99, 83, 70, 66, 113, 80, 61, 102, 107, 106, 66, 92, 101, 54, 100, 62, 110, 89, 104, 86, 62, 46, 66, 63, 90, 94, 109, 40, 58, 126, 55, 63, 69, 62, 103, 114, 91, 109, 59, 101, 101, 114, 73, 82, 134, 37, 54, 61, 131, 63, 53, 76, 92, 62, 73, 77, 87, 102, 119, 99, 107, 116, 91, 80, 61, 116, 120, 67, 95, 90, 60, 108, 45, 103, 66, 85, 53, 106, 78, 55, 61, 86, 74, 70, 58, 75, 80, 64, 59, 93, 72, 64, 63, 44, 55, 58, 74, 58, 115, 37, 99, 113, 118, 133, 98, 71, 70, 70, 109, 103, 73, 64, 100, 57, 82, 90, 112, 120, 87, 62, 126, 93, 106, 90, 117, 64, 94, 102, 85, 88, 105, 77, 100, 105, 102, 41, 110, 97, 112, 68, 72, 103, 94, 72, 88, 89, 83, 86, 44, 68, 108, 115, 74, 93, 82, 83, 96, 75, 105, 110, 112, 117, 108, 72, 106, 58, 104, 66, 81, 80, 73, 101, 117, 95, 74, 79, 114, 46, 78, 86, 76, 76, 51, 63, 123, 25, 74, 110, 104, 89, 73, 87, 109, 97, 81, 87, 91, 67, 85, 64, 115, 73, 79, 95, 62, 76, 98, 92, 118, 65, 142, 110, 103, 105, 113, 94, 61, 125, 106, 105, 89, 121, 63, 2, 116, 40, 93, 45, 105, 77, 72, 63, 62, 58, 114, 75, 145, 112, 109, 44, 49, 88, 59, 115, 34, 106, 106, 108, 78, 65, 102, 87, 106, 109, 75, 70, 88, 89, 72, 77, 98, 72, 91, 84, 99, 105, 106, 97, 108, 92, 70, 106, 69, 101, 75, 103, 106, 100, 97, 68, 112, 73, 64, 84, 106, 98, 118, 73, 78, 97, 92, 78, 114, 96, 73, 42, 84, 95, 79, 100, 71, 110, 92, 80, 76, 36, 73, 98, 95, 104, 63, 98, 75, 89, 109, 82, 94, 83, 74, 73, 69, 83, 50, 104, 65, 64, 92, 45, 92, 75, 90, 78, 58, 62, 89, 83, 88, 73, 77, 121, 94, 42, 115, 62, 82, 73, 50, 89, 83, 114, 78, 104, 106, 66, 128, 130, 89, 69, 36, 72, 47, 49, 101, 79, 98, 69, 82, 61, 106, 104, 69, 110, 113, 53, 77, 72, 91, 97, 48, 95, 106, 98, 150, 49, 90, 112, 66, 99, 98, 101, 103, 106, 98, 107, 105, 168, 77, 45, 99, 93, 161, 85, 91, 119, 103, 67, 120, 98, 115, 81, 95, 114, 82, 55, 98, 116, 99, 96, 106, 123, 67, 83, 29, 107, 81, 100, 86, 102, 83, 109, 59, 82, 91, 69, 91, 118, 61, 69, 77, 67, 81, 106, 89, 74, 128, 106, 80, 113, 85, 81, 103, 68, 57, 56, 43, 110, 74, 69, 71, 95, 62, 49, 132, 79, 71, 70, 82, 81, 85, 71, 80, 54, 71, 87, 87, 68, 73, 63, 62, 78, 78, 77, 106, 67, 85, 93, 103, 91, 83, 127, 120, 70, 85, 62, 74, 64, 74, 70, 79, 73, 106, 150, 39, 74, 85, 40, 85, 64, 107, 88, 73, 93, 90, 91, 93, 87, 64, 93, 86, 98, 52, 59, 70, 98, 74, 62, 66, 91, 69, 90, 67, 70, 78, 66, 96, 69, 116, 89, 82, 72, 75, 107, 84, 99, 89, 98, 90, 94, 103, 92, 71, 53, 117, 89, 92, 100, 126, 101, 112, 87, 70, 106, 122, 70, 94, 76, 97, 139, 74, 90, 62, 73, 31, 76, 80, 92, 88, 75, 122, 73, 89, 63, 83, 68, 92, 66, 94, 78, 85, 50, 54, 71, 77, 87, 94, 53, 91, 82, 96, 102, 41, 83, 105, 70, 102, 69, 159, 95, 71, 104, 88, 93, 68, 82, 127, 109, 75, 90, 140, 48, 61, 109, 89, 30, 83, 98, 90, 58, 137, 68, 65, 65, 81, 96, 151, 115, 80, 45, 105, 99, 72, 131, 134, 74, 141, 151, 107, 71, 132, 152, 106, 78, 71, 83, 78, 65, 28, 71, 65, 61, 89, 101, 112, 89, 83, 78, 52, 79, 120, 90, 84, 87, 89, 62, 59, 96, 90, 64, 130, 96, 72, 132, 113, 73, 87, 95, 128, 90, 54, 89, 88, 106, 87, 132, 111, 74, 35, 40, 77, 118, 85, 138, 97, 142, 104, 88, 149, 91, 93, 93, 117, 110, 99, 81, 98, 105, 75, 81, 73, 56, 139, 118, 101, 56, 129, 97, 55, 91, 128, 93, 118, 136, 95, 50, 42, 75, 151, 116, 65, 88, 61, 98, 74, 62, 103, 99, 82, 92, 100, 59, 84, 143, 162, 66, 77, 76, 121, 43, 95, 91, 72, 44, 70, 103, 137, 67, 96, 152, 80, 66, 128, 89, 93, 119, 103, 68, 137, 84, 58, 86, 86, 121, 50, 113, 54, 71, 61, 65, 80, 79, 68, 74, 94, 115, 73, 62, 111, 49, 64, 77, 69, 113, 120, 94, 105, 78, 113, 52, 52, 110, 60, 52, 110, 84, 72, 82, 46, 37, 128, 101, 31, 126, 102, 91, 80, 65, 88, 62, 87, 30, 59, 67, 171, 31, 84, 31, 106, 35, 35, 87, 100, 61, 88, 135, 70, 19, 77, 148, 101, 51, 67, 96, 40, 108, 84, 65, 73, 143, 102, 126, 48, 27, 58, 62, 92, 78, 48, 55, 30, 132, 69, 89, 109, 50, 101, 64, 63, 101, 129, 29, 58, 102, 100, 91, 76, 59, 114, 86, 70, 55, 56, 84, 85, 89, 56, 112, 88, 76, 51, 77, 67, 50, 101, 49, 65, 83, 52, 73, 55, 56, 71, 26, 61, 60, 50, 43, 83, 73, 70, 76, 57, 57, 74, 48, 68, 87, 92, 69, 78, 82, 124, 100, 81, 109, 105, 56, 100, 67, 80, 91, 86, 86, 79, 109, 81, 111, 90, 75, 123, 88, 137, 86, 153, 69, 76, 87, 78, 98, 140, 99, 56, 104, 102, 73, 106, 72, 65, 88, 101, 115, 93, 91, 118, 104, 84, 90, 89, 74, 84, 121, 95, 94, 98, 117, 48, 107, 115, 130, 110, 81, 141, 116, 85, 82, 125, 128, 78, 103, 58, 84, 129, 101, 77, 151, 105, 115, 115, 77, 112, 74, 85, 133, 95, 70, 131, 77, 67, 119, 104, 89, 129, 463, 59, 136, 102, 117, 75, 74, 102, 110, 104, 80, 100, 73, 115, 107, 103, 65, 114, 104, 100, 89, 83, 73, 136, 99, 88, 103, 107, 103, 77, 60, 92, 114, 79, 94, 57, 69, 98, 84, 77, 72, 94, 89, 121, 56, 117, 136, 94, 121, 92, 101, 70, 97, 83, 69, 82, 95, 93, 106, 51, 99, 97, 89, 106, 71, 96, 143, 89, 73, 87, 66, 103, 133, 91, 108, 100, 133, 114, 87, 117, 122, 83, 106, 107, 86, 99, 66, 95, 106, 128, 61, 109, 88, 58, 124, 89, 97, 91, 92, 75, 99, 106, 106, 106, 80, 90, 96, 83, 77, 104, 67, 96, 78, 106, 88, 99, 94, 103, 92, 62, 55, 74, 94, 91, 103, 88, 63, 89, 98, 112, 80, 105, 111, 101, 70, 116, 56, 84, 72, 99, 119, 67, 92, 43, 95, 72, 91, 105, 121, 49, 97, 115, 68, 82, 69, 98, 68, 71, 86, 73, 95, 99, 73, 94, 94, 66, 73, 79, 39, 109, 68, 78, 84, 79, 74, 89, 96, 103, 84, 92, 92, 82, 86, 74, 87, 72, 58, 95, 56, 89, 83, 76, 106, 69, 89, 107, 93, 78, 101, 89, 71, 106, 66, 80, 89, 63, 87, 78, 72, 122, 81, 101, 72, 85, 76, 111, 96, 102, 95, 70, 73, 67, 58, 68, 41, 84, 57, 82, 69, 102, 69, 78, 90, 89, 51, 121, 106, 87, 101, 41, 49, 80, 73, 99, 63, 86, 82, 65, 52, 73, 76, 83, 87, 103, 87, 78, 70, 107, 71, 70, 91, 97, 85, 64, 84, 47, 100, 61, 71, 108, 93, 78, 66, 54, 124, 72, 70, 68, 76, 103, 79, 89, 99, 80, 91, 85, 75, 52, 60, 106, 85, 90, 73, 79, 63, 91, 78, 66, 73, 94, 70, 89, 105, 55, 67, 94, 107, 110, 91, 71, 89, 92, 53, 81, 107, 117, 70, 105, 91, 48, 91, 101, 83, 127, 86, 96, 99, 83, 102, 105, 99, 107, 97, 97, 66, 77, 54, 100, 102, 84, 72, 88, 103, 83, 72, 103, 70, 94, 88, 114, 55, 80, 88, 60, 87, 81, 75, 71, 97, 86, 61, 88, 63, 101, 71, 67, 81, 130, 100, 41, 72, 106, 88, 89, 90, 94, 82, 96, 102, 72, 97, 110, 57, 119, 41, 91, 66, 85, 98, 72, 66, 99, 101, 90, 87, 74, 76, 85, 50, 58, 101, 59, 97, 78, 95, 53, 92, 83, 78, 66, 84, 73, 77, 70, 77, 67, 144, 36, 67, 106, 104, 57, 76, 82, 76, 123, 93, 83, 77, 102, 68, 65, 89, 80, 101, 73, 79, 87, 73, 81, 68, 116, 49, 85, 126, 73, 56, 95, 79, 129, 103, 94, 103, 77, 90, 87, 93, 75, 114, 95, 67, 71, 70, 58, 48, 101, 120, 90, 89, 78, 55, 110, 65, 101, 60, 97, 91, 60, 97, 89, 71, 88, 100, 97, 71, 90, 88, 82, 61, 123, 98, 123, 106, 104, 80, 117, 114, 106, 84, 99, 81, 95, 128, 106, 102, 107, 94, 91, 86, 100, 116, 107, 135, 111, 88, 96, 104, 90, 71, 106, 96, 59, 85, 129, 82, 120, 100, 107, 90, 95, 109, 51, 109, 63, 112, 109, 86, 140, 106, 114, 95, 99, 83, 69, 109, 94, 94, 95, 108, 60, 90, 101, 70, 55, 90, 74, 76, 162, 118, 138, 101, 90, 85, 78, 80, 69, 75, 109, 84, 88, 125, 119, 103, 62, 83, 95, 92, 86, 126, 74, 67, 88, 78, 114, 69, 74, 101, 87, 127, 71, 115, 125, 142, 72, 122, 125, 85, 124, 140, 85, 99, 139, 84, 82, 108, 83, 81, 68, 73, 122, 123, 106, 87, 98, 172, 82, 96, 117, 124, 89, 115, 95, 57, 105, 66, 136, 94, 134, 135, 110, 93, 145, 97, 8, 76, 103, 77, 76, 107, 98, 119, 115, 77, 117, 110, 120, 102, 111, 74, 110, 116, 92, 96, 62, 77, 95, 104, 93, 64, 86, 93, 132, 67, 89, 133, 110, 83, 54, 68, 87, 119, 63, 106, 87, 59, 95, 135, 74, 53, 135, 72, 87, 63, 91, 67, 55, 57, 69, 107, 88, 82, 81, 90, 56, 95, 78, 83, 84, 105, 90, 128, 100, 80, 69, 105, 62, 93, 58, 107, 101, 145, 65, 75, 42, 95, 95, 92, 76, 63, 65, 88, 107, 70, 124, 74, 83, 72, 40, 84, 70, 85, 83, 89, 65, 74, 72, 68, 49, 103, 91, 92, 112, 65, 47, 81, 58, 101, 118, 76, 117, 100, 93, 72, 91, 96, 91, 79, 83, 83, 92, 94, 60, 88, 49, 66, 89, 72, 62, 64, 87, 89, 81, 60, 75, 160, 65, 61, 92, 102, 86, 94, 110, 37, 91, 63, 81, 93, 77, 86, 96, 66, 97, 88, 85, 80, 75, 108, 126, 102, 119, 64, 68, 93, 77, 84, 126, 102, 100, 69, 108, 94, 105, 68, 79, 88, 81, 49, 77, 108, 61, 106, 108, 61, 76, 55, 113, 84, 70, 90, 155, 84, 55, 93, 81, 57, 88, 73, 72, 97, 111, 94, 62, 94, 80, 75, 122, 65, 112, 73, 86, 93, 95, 85, 83, 89, 60, 63, 56, 70, 80, 99, 92, 80, 102, 80, 68, 101, 58, 93, 67, 80, 70, 109, 81, 70, 112, 91, 56, 71, 83, 103, 83, 94, 108, 78, 81, 92, 91, 110, 47, 93, 105, 92, 80, 77, 53, 76, 75, 90, 110, 98, 104, 90, 111, 96, 76, 76, 88, 87, 45, 76, 55, 83, 78, 82, 108, 91, 88, 98, 89, 108, 72, 77, 76, 62, 90, 103, 95, 75, 84, 107, 82, 107, 150, 78, 93, 89, 92, 93, 80, 53, 67, 70, 86, 62, 84, 89, 52, 77, 111, 63, 51, 95, 77, 90, 63, 70, 74, 99, 109, 58, 93, 94, 103, 81, 102, 55, 78, 74, 101, 101, 97, 81, 72, 96, 84, 68, 91, 103, 81, 86, 58, 70, 69, 51, 71, 62, 124, 74, 105, 87, 69, 65, 91, 81, 69, 82, 75, 83, 51, 65, 79, 79, 61, 39, 83, 116, 71, 68, 91, 85, 97, 43, 99, 83, 88, 96, 92, 76, 97, 76, 69, 65, 57, 87, 56, 52, 127, 47, 75, 83, 60, 64, 56, 80, 66, 92, 51, 106, 68, 90, 43, 75, 86, 53, 69, 47, 50, 95, 89, 57, 69, 89, 78, 89, 99, 70, 68, 63, 92, 69, 80, 95, 55, 43, 52, 80, 86, 89, 113, 46, 111, 76, 36, 79, 61, 82, 56, 83, 86, 54, 87, 77, 101, 77, 78, 52, 82, 58, 76, 47, 104, 133, 46, 109, 92, 89, 85, 76, 79, 65, 30, 94, 65, 60, 78, 64, 58, 89, 80, 96, 70, 83, 66, 88, 70, 66, 92, 37, 54, 72, 74, 88, 65, 64, 59, 56, 88, 71, 88, 95, 83, 95, 76, 97, 83, 75, 76, 80, 79, 53, 65, 88, 63, 104, 93, 52, 91, 67, 96, 71, 101, 82, 68, 71, 61, 86, 70, 90, 74, 73, 94, 60, 84, 105, 64, 106, 102, 71, 99, 89, 83, 64, 78, 86, 50, 85, 78, 72, 79, 63, 101, 84, 82, 77, 95, 87, 82, 79, 77, 60, 80, 77, 73, 80, 103, 74, 110, 73, 85, 96, 84, 76, 82, 74, 93, 92, 74, 62, 56, 69, 99, 98, 87, 71, 72, 55, 86, 41, 82, 59, 70, 88, 76, 87, 59, 93, 86, 78, 77, 103, 72, 47, 70, 92, 73, 94, 83, 98, 86, 49, 65, 47, 102, 53, 68, 101, 90, 69, 57, 98, 78, 47, 89, 50, 90, 100, 91, 95, 104, 99, 58, 91, 59, 94, 90, 61, 109, 76, 47, 56, 51, 97, 71, 88, 70, 101, 79, 90, 57, 90, 104, 74, 102, 95, 75, 63, 65, 69, 75, 68, 83, 77, 56, 86, 87, 81, 68, 77, 96, 65, 82, 86, 115, 107, 104, 69, 101, 92, 58, 95, 68, 62, 101, 89, 87, 76, 77, 96, 59, 82, 52, 56, 79, 66, 80, 92, 92, 103, 81, 85, 82, 82, 61, 55, 48, 37, 66, 49, 70, 85, 50, 84, 61, 94, 83, 96, 93, 77, 108, 78, 96, 87, 74, 79, 102, 104, 99, 76, 65, 70, 108, 72, 86, 64, 67, 102, 100, 87, 70, 110, 50, 77, 85, 76, 86, 95, 94, 47, 89, 90, 90, 92, 91, 78, 85, 91, 70, 96, 69, 94, 54, 94, 70, 59, 92, 128, 81, 94, 99, 77, 70, 87, 101, 97, 85, 70, 79, 83, 104, 40, 56, 115, 100, 95, 78, 81, 45, 94, 99, 64, 97, 106, 84, 81, 61, 69, 85, 60, 96, 70, 62, 98, 78, 92, 93, 96, 61, 60, 71, 63, 73, 88, 31, 86, 94, 67, 102, 75, 70, 83, 75, 84, 68, 90, 68, 100, 53, 70, 73, 58, 80, 59, 49, 80, 62, 66, 51, 70, 84, 61, 61, 66, 87, 77, 78, 63, 70, 86, 78, 95, 94, 81, 65, 84, 83, 76, 72, 68, 84, 77, 70, 81, 66, 93, 69, 89, 46, 76, 85, 72, 74, 86, 74, 46, 71, 70, 101, 68, 71, 88, 70, 58, 88, 83, 80, 72, 85, 78, 77, 65, 54, 98, 86, 62, 60, 57, 49, 65, 55, 92, 62, 88, 63, 59, 67, 94, 61, 94, 60, 43, 76, 88, 64, 55, 83, 61, 64, 76, 61, 55, 88, 54, 67, 51, 59, 88, 54, 61, 91, 47, 85, 89, 71, 97, 64, 65, 69, 76, 59, 54, 55, 69, 69, 81, 55, 100, 54, 60, 52, 75, 69, 45, 74, 80, 91, 56, 127, 70, 56, 43, 64, 57, 79, 87, 69, 58, 60, 73, 89, 64, 113, 74, 78, 89, 85, 88, 84, 68, 58, 67, 82, 75, 90, 69, 74, 79, 60, 60, 75, 59, 52, 100, 85, 58, 74, 86, 69, 62, 88, 57, 72, 63, 49, 71, 60, 82, 58, 62, 72, 64, 94, 59, 51, 69, 59, 63, 78, 56, 84, 81, 74, 67, 82, 48, 82, 77, 59, 61, 61, 80, 48, 70, 73, 68, 82, 66, 65, 70, 60, 60, 64, 65, 57, 91, 68, 83, 56, 77, 55, 73, 74, 98, 89, 44, 50, 55, 86, 60, 104, 82, 73, 74, 93, 67, 71, 78, 114, 69, 54, 80, 60, 82, 59, 77, 70, 57, 53, 54, 65, 67, 96, 70, 47, 67, 69, 53, 52, 62, 67, 53, 63, 70, 64, 76, 59, 56, 104, 59, 62, 69, 52, 57, 36, 94, 67, 55, 68, 62, 46, 71, 83, 73, 105, 64, 58, 53, 45, 63, 61, 75, 81, 66, 72, 54, 59, 65, 77, 66, 77, 66, 72, 85, 60, 69, 81, 70, 90, 71, 67, 62, 77, 68, 64, 71, 76, 52, 54, 77, 70, 56, 47, 34, 53, 55, 48, 43, 62, 70, 92, 72, 37, 48, 46, 78, 62, 38, 57, 54, 68, 63, 38, 58, 78, 72, 58, 27, 58, 58, 65, 51, 59, 48, 47, 57, 43, 82, 33, 63, 43, 78, 71, 42, 66, 66, 50, 81, 65, 63, 63, 46, 70, 61, 50, 68, 63, 50, 71, 91, 60, 52, 64, 65, 70, 44, 78, 61, 84, 51, 62, 71, 72, 55, 58, 52, 71, 98, 48, 53, 71, 58, 47, 31, 71, 83, 81, 57, 54, 69, 55, 39, 91, 50, 94, 49, 51, 58, 55, 61, 70, 96, 54, 83, 52, 70, 56, 47, 66, 42, 45, 73, 36, 53, 51, 28, 21, 62, 42, 68, 60, 42, 47, 52, 59, 94, 31, 53, 43, 43, 49, 35, 47, 50, 38, 51, 100, 59, 30, 50, 60, 71, 59, 39, 50, 43, 51, 60, 43, 47, 54, 55, 43, 50, 38, 36, 73, 46, 45, 47, 100, 56, 60, 52, 38, 51, 49, 78, 52, 57, 48, 46, 53, 53, 49, 44, 35, 50, 42, 42, 78, 46, 42, 45, 38, 53, 52, 57, 43, 52, 61, 68, 58, 55, 61, 42, 49, 54, 77, 51, 81, 67, 47, 48, 48, 64, 84, 55, 56, 59, 59, 43, 60, 62, 60, 48, 61, 65, 52, 73, 65, 64, 49, 58, 45, 58, 42, 81, 45, 74, 41, 30, 62, 32, 41, 57, 43, 72, 56, 60, 65, 59, 33, 65, 58, 54, 79, 44, 54, 70, 53, 55, 83, 45, 74, 52, 55, 42, 77, 69, 80, 46, 34, 61, 79, 64, 56, 51, 90, 49, 51, 85, 35, 61, 56, 43, 65, 61, 47, 70, 28, 57, 41, 63, 72, 69, 77, 62, 73, 54, 57, 56, 79, 40, 49, 72, 69, 51, 40, 72, 51, 53, 62, 53, 62, 67, 75, 66, 64, 63, 83, 66, 85, 80, 84, 49, 56, 64, 53, 75, 53, 47, 86, 79, 62, 35, 73, 68, 78, 71, 71, 82, 85, 70, 47, 57, 67, 58, 57, 42, 64, 59, 69, 60, 88, 70, 60, 57, 69, 47, 59, 84, 76, 94, 49, 50, 67, 72, 50, 60, 45, 79, 67, 73, 65, 60, 54, 63, 83, 51, 59, 77, 62, 82, 40, 85, 35, 47, 93, 66, 58, 59, 77, 43, 44, 44, 75, 63, 69, 66, 128, 50, 71, 67, 75, 69, 66, 55, 69, 68, 79, 65, 36, 60, 76, 78, 62, 70, 54, 69, 60, 75, 81, 47, 71, 43, 66, 74, 65, 53, 65, 75, 68, 101, 67, 73, 118, 50, 52, 46, 50, 73, 71, 60, 62, 68, 61, 77, 75, 55, 26, 59, 64, 77, 49, 51, 69, 78, 43, 97, 74, 63, 52, 56, 37, 49, 34, 61, 29, 45, 101, 57, 59, 54, 54, 67, 48, 59, 66, 35, 60, 49, 63, 58, 77, 66, 46, 68, 38, 49, 36, 41, 33, 60, 42, 83, 78, 58, 52, 63, 61, 38, 63, 49, 62, 60, 64, 58, 57, 66, 58, 64, 52, 61, 53, 63, 45, 63, 53, 72, 72, 51, 44, 57, 67, 72, 57, 50, 63, 77, 75, 59, 51, 81, 85, 67, 58, 78, 54, 67, 33, 51, 59, 48, 57, 61, 60, 51, 55, 68, 65, 52, 51, 43, 68, 45, 54, 51, 36, 46, 52, 62, 69, 43, 46, 46, 53, 111, 58, 48, 71, 58, 60, 64, 55, 66, 50, 50, 45, 45, 57, 50, 43, 51, 53, 56, 51, 34, 38, 53, 69, 73, 40, 114, 55, 72, 61, 44, 53, 56, 63, 41, 64, 57, 58, 41, 62, 51, 55, 61, 65, 43, 61, 54, 31, 50, 68, 50, 48, 54, 59, 49, 62, 59, 61, 52, 56, 75, 59, 78, 44, 45, 66, 61, 55, 56, 67, 62, 52, 56, 55, 84, 27, 72, 54, 50, 56, 57, 72, 59, 65, 68, 65, 64, 71, 31, 36, 55, 56, 60, 82, 41, 40, 58, 62, 68, 57, 51, 56, 75, 51, 40, 67, 40, 77, 66, 70, 58, 56, 49, 76, 59, 50, 61, 47, 59, 63, 58, 60, 79, 52, 49, 64, 82, 53, 67, 59, 59, 67, 58, 64, 62, 73, 62, 31, 33, 62, 65, 53, 49, 47, 49, 50, 67, 26, 59, 56, 65, 68, 52, 52, 54, 73, 56, 62, 57, 60, 59, 44, 49, 76, 56, 58, 57, 54, 58, 50, 53, 46, 46, 53, 57, 60, 44, 65, 44, 62, 58, 63, 56, 50, 52, 62, 35, 51, 47, 51, 57, 61, 49, 61, 60, 36, 55, 56, 54, 62, 57, 52, 51, 63, 63, 62, 44, 48, 45, 49, 53, 54, 28, 50, 56, 50, 62, 52, 63, 57, 45, 51, 76, 53, 91, 50, 50, 58, 48, 41, 54, 33, 62, 94, 33, 82, 48, 61, 60, 58, 52, 51, 53, 59, 52, 53, 58, 54, 46, 41, 52, 46, 48, 40, 60, 58, 62, 47, 40, 58, 62, 53, 61, 51, 61, 44, 46, 43, 55, 54, 54, 54, 52, 59, 42, 49, 58, 45, 51, 46, 62, 44, 48, 38, 34, 45, 46, 50, 48, 47, 57, 41, 52, 45, 53, 54, 44, 52, 58, 47, 38, 50, 38, 41, 46, 49, 52, 38, 52, 40, 40, 46, 56, 49, 47, 59, 47, 45, 65, 59, 73, 53, 51, 52, 54, 92, 51, 51, 60, 56, 55, 68, 53, 60, 48, 61, 50, 46, 51, 46, 55, 55, 38, 50, 60, 49, 51, 58, 46, 60, 57, 51, 48, 50, 45, 55, 53, 52, 61, 50, 39, 24, 52, 45, 60, 55, 52, 53, 65, 53, 45, 42, 43, 56, 44, 55, 68, 45, 53, 56, 17, 51, 51, 51, 38, 59, 35, 44, 60, 52, 47, 53, 54, 42, 44, 51, 46, 24, 30, 33, 40, 48, 54, 59, 49, 32, 36, 31, 47, 54, 62, 42, 53, 35, 38, 55, 59, 39, 41, 54, 60, 48, 62, 47, 59, 38, 57, 32, 64, 57, 58, 45, 47, 61, 38, 53, 46, 56, 39, 44, 48, 52, 33, 40, 50, 48, 36, 53, 38, 55, 56, 45, 44, 40, 42, 28, 49, 45, 38, 43, 38, 40, 51, 51, 58, 53, 55, 49, 29, 35, 34, 31, 48, 54, 42, 53, 47, 45, 38, 53, 50, 47, 57, 47, 60, 86, 43, 49, 47, 49, 53, 43, 50, 42, 51, 62, 34, 62, 46, 60, 57, 43, 52, 35, 55, 36, 51, 48, 50, 22, 49, 24, 53, 51, 44, 57, 49, 38, 48, 58, 30, 41, 45, 59, 23, 63, 76, 65, 30, 46, 59, 75, 40, 51, 26, 40, 28, 52, 55, 29, 39, 52, 39, 34, 37, 57, 46, 44, 48, 37, 45, 41, 50, 44, 38, 32, 53, 49, 25, 48, 79, 44, 43, 42, 58, 39, 43, 23, 55, 42, 31, 35, 39, 49, 50, 44, 45, 47, 34, 50, 33, 34, 47, 48, 37, 51, 51, 50, 37, 48, 35, 58, 56, 42, 54, 31, 56, 52, 35, 40, 35, 31, 46, 37, 38, 41, 54, 33, 56, 35, 48, 49, 48, 39, 23, 45, 37, 51, 60, 39, 54, 43, 27, 46, 35, 39, 46, 50, 34, 39, 41, 34, 43, 49, 42, 37, 43, 28, 67, 44, 42, 49, 36, 43, 47, 46, 43, 36, 14, 43, 44, 51, 48, 49, 43, 36, 33, 39, 44, 54, 48, 47, 53, 53, 34, 57, 41, 43, 48, 37, 59, 33, 35, 38, 48, 33, 31, 54, 55, 35, 54, 42, 37, 45, 47, 46, 31, 42, 43, 31, 42, 51, 47, 46, 47, 35, 49, 33, 43, 54, 44, 32, 43, 38, 32, 43, 58, 44, 50, 35, 44, 40, 43, 33, 38, 27, 57]\n"
          ]
        },
        {
          "output_type": "display_data",
          "data": {
            "text/plain": [
              "<Figure size 640x480 with 1 Axes>"
            ],
            "image/png": "[encoded data removed]"
          },
          "metadata": {}
        }
      ]
    },
    {
      "cell_type": "code",
      "source": [
        "class TedDataset(torch.utils.data.Dataset):\n",
        "  def __init__(self, input_data, tokenizer, gpt2_type=\"gpt2\", max_length=256):\n",
        "    self.texts = [tokenizer(data, truncation=True, max_length=max_length, padding=\"max_length\", return_tensors=\"pt\" )]\n",
        "\n",
        "  def __len__(self):\n",
        "    return len(self.texts)\n",
        "\n",
        "  def __getitem__(self, idx):\n",
        "    return self.texts[idx]"
      ],
      "metadata": {
        "id": "ciZw05D0yfCA"
      },
      "execution_count": null,
      "outputs": []
    },
    {
      "cell_type": "code",
      "source": [
        "data = [\"Hello, how are you?\", \"This is a test sentence\"]\n",
        "dataset = TedDataset(data, tokenizer)\n",
        "print(len(dataset))\n",
        "print(dataset[0])\n",
        "print(data[1])"
      ],
      "metadata": {
        "colab": {
          "base_uri": "https://localhost:8080/"
        },
        "collapsed": true,
        "id": "0yIsEOut0doA",
        "outputId": "7653bc0a-d36f-4d9d-a7a5-240ef99cf72b"
      },
      "execution_count": null,
      "outputs": [
        {
          "output_type": "stream",
          "name": "stdout",
          "text": [
            "1\n",
            "{'input_ids': tensor([[15496,    11,   703,   389,   345,    30, 50257, 50257, 50257, 50257,\n",
            "         50257, 50257, 50257, 50257, 50257, 50257, 50257, 50257, 50257, 50257,\n",
            "         50257, 50257, 50257, 50257, 50257, 50257, 50257, 50257, 50257, 50257,\n",
            "         50257, 50257, 50257, 50257, 50257, 50257, 50257, 50257, 50257, 50257,\n",
            "         50257, 50257, 50257, 50257, 50257, 50257, 50257, 50257, 50257, 50257,\n",
            "         50257, 50257, 50257, 50257, 50257, 50257, 50257, 50257, 50257, 50257,\n",
            "         50257, 50257, 50257, 50257, 50257, 50257, 50257, 50257, 50257, 50257,\n",
            "         50257, 50257, 50257, 50257, 50257, 50257, 50257, 50257, 50257, 50257,\n",
            "         50257, 50257, 50257, 50257, 50257, 50257, 50257, 50257, 50257, 50257,\n",
            "         50257, 50257, 50257, 50257, 50257, 50257, 50257, 50257, 50257, 50257,\n",
            "         50257, 50257, 50257, 50257, 50257, 50257, 50257, 50257, 50257, 50257,\n",
            "         50257, 50257, 50257, 50257, 50257, 50257, 50257, 50257, 50257, 50257,\n",
            "         50257, 50257, 50257, 50257, 50257, 50257, 50257, 50257, 50257, 50257,\n",
            "         50257, 50257, 50257, 50257, 50257, 50257, 50257, 50257, 50257, 50257,\n",
            "         50257, 50257, 50257, 50257, 50257, 50257, 50257, 50257, 50257, 50257,\n",
            "         50257, 50257, 50257, 50257, 50257, 50257, 50257, 50257, 50257, 50257,\n",
            "         50257, 50257, 50257, 50257, 50257, 50257, 50257, 50257, 50257, 50257,\n",
            "         50257, 50257, 50257, 50257, 50257, 50257, 50257, 50257, 50257, 50257,\n",
            "         50257, 50257, 50257, 50257, 50257, 50257, 50257, 50257, 50257, 50257,\n",
            "         50257, 50257, 50257, 50257, 50257, 50257, 50257, 50257, 50257, 50257,\n",
            "         50257, 50257, 50257, 50257, 50257, 50257, 50257, 50257, 50257, 50257,\n",
            "         50257, 50257, 50257, 50257, 50257, 50257, 50257, 50257, 50257, 50257,\n",
            "         50257, 50257, 50257, 50257, 50257, 50257, 50257, 50257, 50257, 50257,\n",
            "         50257, 50257, 50257, 50257, 50257, 50257, 50257, 50257, 50257, 50257,\n",
            "         50257, 50257, 50257, 50257, 50257, 50257, 50257, 50257, 50257, 50257,\n",
            "         50257, 50257, 50257, 50257, 50257, 50257],\n",
            "        [ 1212,   318,   257,  1332,  6827, 50257, 50257, 50257, 50257, 50257,\n",
            "         50257, 50257, 50257, 50257, 50257, 50257, 50257, 50257, 50257, 50257,\n",
            "         50257, 50257, 50257, 50257, 50257, 50257, 50257, 50257, 50257, 50257,\n",
            "         50257, 50257, 50257, 50257, 50257, 50257, 50257, 50257, 50257, 50257,\n",
            "         50257, 50257, 50257, 50257, 50257, 50257, 50257, 50257, 50257, 50257,\n",
            "         50257, 50257, 50257, 50257, 50257, 50257, 50257, 50257, 50257, 50257,\n",
            "         50257, 50257, 50257, 50257, 50257, 50257, 50257, 50257, 50257, 50257,\n",
            "         50257, 50257, 50257, 50257, 50257, 50257, 50257, 50257, 50257, 50257,\n",
            "         50257, 50257, 50257, 50257, 50257, 50257, 50257, 50257, 50257, 50257,\n",
            "         50257, 50257, 50257, 50257, 50257, 50257, 50257, 50257, 50257, 50257,\n",
            "         50257, 50257, 50257, 50257, 50257, 50257, 50257, 50257, 50257, 50257,\n",
            "         50257, 50257, 50257, 50257, 50257, 50257, 50257, 50257, 50257, 50257,\n",
            "         50257, 50257, 50257, 50257, 50257, 50257, 50257, 50257, 50257, 50257,\n",
            "         50257, 50257, 50257, 50257, 50257, 50257, 50257, 50257, 50257, 50257,\n",
            "         50257, 50257, 50257, 50257, 50257, 50257, 50257, 50257, 50257, 50257,\n",
            "         50257, 50257, 50257, 50257, 50257, 50257, 50257, 50257, 50257, 50257,\n",
            "         50257, 50257, 50257, 50257, 50257, 50257, 50257, 50257, 50257, 50257,\n",
            "         50257, 50257, 50257, 50257, 50257, 50257, 50257, 50257, 50257, 50257,\n",
            "         50257, 50257, 50257, 50257, 50257, 50257, 50257, 50257, 50257, 50257,\n",
            "         50257, 50257, 50257, 50257, 50257, 50257, 50257, 50257, 50257, 50257,\n",
            "         50257, 50257, 50257, 50257, 50257, 50257, 50257, 50257, 50257, 50257,\n",
            "         50257, 50257, 50257, 50257, 50257, 50257, 50257, 50257, 50257, 50257,\n",
            "         50257, 50257, 50257, 50257, 50257, 50257, 50257, 50257, 50257, 50257,\n",
            "         50257, 50257, 50257, 50257, 50257, 50257, 50257, 50257, 50257, 50257,\n",
            "         50257, 50257, 50257, 50257, 50257, 50257, 50257, 50257, 50257, 50257,\n",
            "         50257, 50257, 50257, 50257, 50257, 50257]]), 'attention_mask': tensor([[1, 1, 1, 1, 1, 1, 0, 0, 0, 0, 0, 0, 0, 0, 0, 0, 0, 0, 0, 0, 0, 0, 0, 0,\n",
            "         0, 0, 0, 0, 0, 0, 0, 0, 0, 0, 0, 0, 0, 0, 0, 0, 0, 0, 0, 0, 0, 0, 0, 0,\n",
            "         0, 0, 0, 0, 0, 0, 0, 0, 0, 0, 0, 0, 0, 0, 0, 0, 0, 0, 0, 0, 0, 0, 0, 0,\n",
            "         0, 0, 0, 0, 0, 0, 0, 0, 0, 0, 0, 0, 0, 0, 0, 0, 0, 0, 0, 0, 0, 0, 0, 0,\n",
            "         0, 0, 0, 0, 0, 0, 0, 0, 0, 0, 0, 0, 0, 0, 0, 0, 0, 0, 0, 0, 0, 0, 0, 0,\n",
            "         0, 0, 0, 0, 0, 0, 0, 0, 0, 0, 0, 0, 0, 0, 0, 0, 0, 0, 0, 0, 0, 0, 0, 0,\n",
            "         0, 0, 0, 0, 0, 0, 0, 0, 0, 0, 0, 0, 0, 0, 0, 0, 0, 0, 0, 0, 0, 0, 0, 0,\n",
            "         0, 0, 0, 0, 0, 0, 0, 0, 0, 0, 0, 0, 0, 0, 0, 0, 0, 0, 0, 0, 0, 0, 0, 0,\n",
            "         0, 0, 0, 0, 0, 0, 0, 0, 0, 0, 0, 0, 0, 0, 0, 0, 0, 0, 0, 0, 0, 0, 0, 0,\n",
            "         0, 0, 0, 0, 0, 0, 0, 0, 0, 0, 0, 0, 0, 0, 0, 0, 0, 0, 0, 0, 0, 0, 0, 0,\n",
            "         0, 0, 0, 0, 0, 0, 0, 0, 0, 0, 0, 0, 0, 0, 0, 0],\n",
            "        [1, 1, 1, 1, 1, 0, 0, 0, 0, 0, 0, 0, 0, 0, 0, 0, 0, 0, 0, 0, 0, 0, 0, 0,\n",
            "         0, 0, 0, 0, 0, 0, 0, 0, 0, 0, 0, 0, 0, 0, 0, 0, 0, 0, 0, 0, 0, 0, 0, 0,\n",
            "         0, 0, 0, 0, 0, 0, 0, 0, 0, 0, 0, 0, 0, 0, 0, 0, 0, 0, 0, 0, 0, 0, 0, 0,\n",
            "         0, 0, 0, 0, 0, 0, 0, 0, 0, 0, 0, 0, 0, 0, 0, 0, 0, 0, 0, 0, 0, 0, 0, 0,\n",
            "         0, 0, 0, 0, 0, 0, 0, 0, 0, 0, 0, 0, 0, 0, 0, 0, 0, 0, 0, 0, 0, 0, 0, 0,\n",
            "         0, 0, 0, 0, 0, 0, 0, 0, 0, 0, 0, 0, 0, 0, 0, 0, 0, 0, 0, 0, 0, 0, 0, 0,\n",
            "         0, 0, 0, 0, 0, 0, 0, 0, 0, 0, 0, 0, 0, 0, 0, 0, 0, 0, 0, 0, 0, 0, 0, 0,\n",
            "         0, 0, 0, 0, 0, 0, 0, 0, 0, 0, 0, 0, 0, 0, 0, 0, 0, 0, 0, 0, 0, 0, 0, 0,\n",
            "         0, 0, 0, 0, 0, 0, 0, 0, 0, 0, 0, 0, 0, 0, 0, 0, 0, 0, 0, 0, 0, 0, 0, 0,\n",
            "         0, 0, 0, 0, 0, 0, 0, 0, 0, 0, 0, 0, 0, 0, 0, 0, 0, 0, 0, 0, 0, 0, 0, 0,\n",
            "         0, 0, 0, 0, 0, 0, 0, 0, 0, 0, 0, 0, 0, 0, 0, 0]])}\n",
            "This is a test sentence\n"
          ]
        }
      ]
    },
    {
      "cell_type": "code",
      "source": [
        "class CrossEntropyLossFunction(nn.Module):\n",
        "  def __init__(self):\n",
        "\n",
        "    super(CrossEntropyLossFunction, self).__init__()\n",
        "    self.loss_fct = nn.CrossEntropyLoss()\n",
        "\n",
        "  def forward(self, lm_logits, labels):\n",
        "\n",
        "        shift_logits = lm_logits[..., :-1, :].contiguous()\n",
        "        shift_labels = labels[..., 1:].contiguous()\n",
        "\n",
        "        loss = self.loss_fct(shift_logits.view(-1, shift_logits.size(-1)), shift_labels.view(-1))\n",
        "\n",
        "        return loss"
      ],
      "metadata": {
        "id": "UTQnoPXv1Xkp"
      },
      "execution_count": null,
      "outputs": []
    },
    {
      "cell_type": "code",
      "source": [
        "def train(model, tokenizer, train_data, epochs, learning_rate, epsilon=1e-8):\n",
        "\n",
        "  train = TedDataset(train_data, tokenizer)\n",
        "  train_dataloader = torch.utils.data.DataLoader(train, batch_size=2,shuffle=True)\n",
        "\n",
        "  optimizer = AdamW(model.parameters(), lr = learning_rate, eps = epsilon)\n",
        "  criterion = CrossEntropyLossFunction().to(device)\n",
        "  model = model.to(device)\n",
        "\n",
        "  best_loss = 1000\n",
        "\n",
        "  for epoch_i in range(0,epochs):\n",
        "\n",
        "    total_train_loss = 0\n",
        "    total_val_loss = 0\n",
        "    for train_input in tqdm(train_dataloader):\n",
        "\n",
        "      mask = train_input['attention_mask'].to(device)\n",
        "      input_id = train_input['input_ids'].to(device)\n",
        "\n",
        "      outputs = model(input_id, attention_mask= mask,\n",
        "                      token_type_ids=None)\n",
        "      loss = criterion(outputs, input_id)\n",
        "      batch_loss = loss.item()\n",
        "      total_train_loss += batch_loss\n",
        "      model.zero_grad()\n",
        "      loss.backward()\n",
        "      optimizer.step()\n",
        "      model.zero_grad()\n",
        "    avg_train_loss = total_train_loss / len(train_dataloader)\n",
        "\n",
        "    print(f\"Epoch: {epoch_i}, Avg  train loss: {np.round(avg_train_loss,2)}\")\n"
      ],
      "metadata": {
        "id": "4u58BmGy2FEJ"
      },
      "execution_count": null,
      "outputs": []
    },
    {
      "cell_type": "code",
      "source": [
        "epochs = 100\n",
        "learning_rate = 1e-5\n",
        "configuration = GPT2Config()\n",
        "gpt_model = GPT2_model(configuration).to(device)\n",
        "print(configuration)"
      ],
      "metadata": {
        "colab": {
          "base_uri": "https://localhost:8080/",
          "height": 590,
          "referenced_widgets": [
            "1274c62f00d84b3992d5409ddbef3d2f",
            "aaecf463e3a34b569d505ef6ba01e9c3",
            "062a6dfa249d47dc847ca28a72565d40",
            "3d4816cbe4c24358888619e5aed8de72",
            "8630d86e71d240349f1198df2602ae45",
            "13a34c3740644579a2ac79f15a18c450",
            "dcc0baaf0b7d49428223dee2246502ae",
            "81de6fd0e5474eb4901996ed71d226dd",
            "e527d1eec5ee41abbed783254b9947df",
            "6d1dbb9cb41d4820a06b1727210a85b5",
            "f664572bcc6a4c02b3c3b108be72034d"
          ]
        },
        "collapsed": true,
        "id": "tuDjcs897KVZ",
        "outputId": "831b49ff-0feb-48a6-a09e-97e36b4bcb8b"
      },
      "execution_count": null,
      "outputs": [
        {
          "output_type": "display_data",
          "data": {
            "text/plain": [
              "model.safetensors:   0%|          | 0.00/548M [00:00<?, ?B/s]"
            ],
            "application/vnd.jupyter.widget-view+json": {
              "version_major": 2,
              "version_minor": 0,
              "model_id": "1274c62f00d84b3992d5409ddbef3d2f"
            }
          },
          "metadata": {}
        },
        {
          "output_type": "stream",
          "name": "stderr",
          "text": [
            "The new embeddings will be initialized from a multivariate normal distribution that has old embeddings' mean and covariance. As described in this article: https://nlp.stanford.edu/~johnhew/vocab-expansion.html. To disable this, use `mean_resizing=False`\n"
          ]
        },
        {
          "output_type": "stream",
          "name": "stdout",
          "text": [
            "GPT2Config {\n",
            "  \"_attn_implementation_autoset\": true,\n",
            "  \"activation_function\": \"gelu_new\",\n",
            "  \"attn_pdrop\": 0.1,\n",
            "  \"bos_token_id\": 50256,\n",
            "  \"embd_pdrop\": 0.1,\n",
            "  \"eos_token_id\": 50256,\n",
            "  \"initializer_range\": 0.02,\n",
            "  \"layer_norm_epsilon\": 1e-05,\n",
            "  \"model_type\": \"gpt2\",\n",
            "  \"n_embd\": 768,\n",
            "  \"n_head\": 12,\n",
            "  \"n_inner\": null,\n",
            "  \"n_layer\": 12,\n",
            "  \"n_positions\": 1024,\n",
            "  \"reorder_and_upcast_attn\": false,\n",
            "  \"resid_pdrop\": 0.1,\n",
            "  \"scale_attn_by_inverse_layer_idx\": false,\n",
            "  \"scale_attn_weights\": true,\n",
            "  \"summary_activation\": null,\n",
            "  \"summary_first_dropout\": 0.1,\n",
            "  \"summary_proj_to_labels\": true,\n",
            "  \"summary_type\": \"cls_index\",\n",
            "  \"summary_use_proj\": true,\n",
            "  \"transformers_version\": \"4.48.3\",\n",
            "  \"use_cache\": true,\n",
            "  \"vocab_size\": 50257\n",
            "}\n",
            "\n"
          ]
        }
      ]
    },
    {
      "cell_type": "code",
      "source": [
        "print(gpt_model)"
      ],
      "metadata": {
        "colab": {
          "base_uri": "https://localhost:8080/"
        },
        "id": "5oKHqKDJ7rlp",
        "outputId": "69819f4e-63c3-433e-809f-724be10056b4"
      },
      "execution_count": null,
      "outputs": [
        {
          "output_type": "stream",
          "name": "stdout",
          "text": [
            "GPT2_model(\n",
            "  (transformer): GPT2Model(\n",
            "    (wte): Embedding(50258, 768)\n",
            "    (wpe): Embedding(1024, 768)\n",
            "    (drop): Dropout(p=0.1, inplace=False)\n",
            "    (h): ModuleList(\n",
            "      (0-11): 12 x GPT2Block(\n",
            "        (ln_1): LayerNorm((768,), eps=1e-05, elementwise_affine=True)\n",
            "        (attn): GPT2Attention(\n",
            "          (c_attn): Conv1D(nf=2304, nx=768)\n",
            "          (c_proj): Conv1D(nf=768, nx=768)\n",
            "          (attn_dropout): Dropout(p=0.1, inplace=False)\n",
            "          (resid_dropout): Dropout(p=0.1, inplace=False)\n",
            "        )\n",
            "        (ln_2): LayerNorm((768,), eps=1e-05, elementwise_affine=True)\n",
            "        (mlp): GPT2MLP(\n",
            "          (c_fc): Conv1D(nf=3072, nx=768)\n",
            "          (c_proj): Conv1D(nf=768, nx=3072)\n",
            "          (act): NewGELUActivation()\n",
            "          (dropout): Dropout(p=0.1, inplace=False)\n",
            "        )\n",
            "      )\n",
            "    )\n",
            "    (ln_f): LayerNorm((768,), eps=1e-05, elementwise_affine=True)\n",
            "  )\n",
            "  (lm_head): Linear(in_features=768, out_features=50258, bias=False)\n",
            ")\n"
          ]
        }
      ]
    },
    {
      "cell_type": "code",
      "source": [
        "train(gpt_model, tokenizer, text_corpus, epochs, learning_rate)"
      ],
      "metadata": {
        "colab": {
          "base_uri": "https://localhost:8080/"
        },
        "id": "aNNu4DIZ7wnR",
        "outputId": "0aa4b555-7f83-48d9-8f24-0b64441b0eae"
      },
      "execution_count": null,
      "outputs": [
        {
          "output_type": "stream",
          "name": "stderr",
          "text": [
            "100%|██████████| 1/1 [00:00<00:00,  2.54it/s]\n"
          ]
        },
        {
          "output_type": "stream",
          "name": "stdout",
          "text": [
            "Epoch: 0, Avg  train loss: 10.81\n"
          ]
        },
        {
          "output_type": "stream",
          "name": "stderr",
          "text": [
            "100%|██████████| 1/1 [00:00<00:00, 14.49it/s]\n"
          ]
        },
        {
          "output_type": "stream",
          "name": "stdout",
          "text": [
            "Epoch: 1, Avg  train loss: 10.24\n"
          ]
        },
        {
          "output_type": "stream",
          "name": "stderr",
          "text": [
            "100%|██████████| 1/1 [00:00<00:00,  5.73it/s]\n"
          ]
        },
        {
          "output_type": "stream",
          "name": "stdout",
          "text": [
            "Epoch: 2, Avg  train loss: 9.8\n"
          ]
        },
        {
          "output_type": "stream",
          "name": "stderr",
          "text": [
            "100%|██████████| 1/1 [00:00<00:00,  5.16it/s]\n"
          ]
        },
        {
          "output_type": "stream",
          "name": "stdout",
          "text": [
            "Epoch: 3, Avg  train loss: 9.43\n"
          ]
        },
        {
          "output_type": "stream",
          "name": "stderr",
          "text": [
            "100%|██████████| 1/1 [00:00<00:00,  5.01it/s]\n"
          ]
        },
        {
          "output_type": "stream",
          "name": "stdout",
          "text": [
            "Epoch: 4, Avg  train loss: 9.1\n"
          ]
        },
        {
          "output_type": "stream",
          "name": "stderr",
          "text": [
            "100%|██████████| 1/1 [00:00<00:00,  5.49it/s]\n"
          ]
        },
        {
          "output_type": "stream",
          "name": "stdout",
          "text": [
            "Epoch: 5, Avg  train loss: 8.77\n"
          ]
        },
        {
          "output_type": "stream",
          "name": "stderr",
          "text": [
            "100%|██████████| 1/1 [00:00<00:00,  6.36it/s]\n"
          ]
        },
        {
          "output_type": "stream",
          "name": "stdout",
          "text": [
            "Epoch: 6, Avg  train loss: 8.39\n"
          ]
        },
        {
          "output_type": "stream",
          "name": "stderr",
          "text": [
            "100%|██████████| 1/1 [00:00<00:00,  6.86it/s]\n"
          ]
        },
        {
          "output_type": "stream",
          "name": "stdout",
          "text": [
            "Epoch: 7, Avg  train loss: 7.98\n"
          ]
        },
        {
          "output_type": "stream",
          "name": "stderr",
          "text": [
            "100%|██████████| 1/1 [00:00<00:00,  5.74it/s]\n"
          ]
        },
        {
          "output_type": "stream",
          "name": "stdout",
          "text": [
            "Epoch: 8, Avg  train loss: 8.0\n"
          ]
        },
        {
          "output_type": "stream",
          "name": "stderr",
          "text": [
            "100%|██████████| 1/1 [00:00<00:00,  5.17it/s]\n"
          ]
        },
        {
          "output_type": "stream",
          "name": "stdout",
          "text": [
            "Epoch: 9, Avg  train loss: 7.38\n"
          ]
        },
        {
          "output_type": "stream",
          "name": "stderr",
          "text": [
            "100%|██████████| 1/1 [00:00<00:00,  5.98it/s]\n"
          ]
        },
        {
          "output_type": "stream",
          "name": "stdout",
          "text": [
            "Epoch: 10, Avg  train loss: 7.17\n"
          ]
        },
        {
          "output_type": "stream",
          "name": "stderr",
          "text": [
            "100%|██████████| 1/1 [00:00<00:00,  5.63it/s]\n"
          ]
        },
        {
          "output_type": "stream",
          "name": "stdout",
          "text": [
            "Epoch: 11, Avg  train loss: 6.94\n"
          ]
        },
        {
          "output_type": "stream",
          "name": "stderr",
          "text": [
            "100%|██████████| 1/1 [00:00<00:00,  5.17it/s]\n"
          ]
        },
        {
          "output_type": "stream",
          "name": "stdout",
          "text": [
            "Epoch: 12, Avg  train loss: 6.68\n"
          ]
        },
        {
          "output_type": "stream",
          "name": "stderr",
          "text": [
            "100%|██████████| 1/1 [00:00<00:00,  7.27it/s]\n"
          ]
        },
        {
          "output_type": "stream",
          "name": "stdout",
          "text": [
            "Epoch: 13, Avg  train loss: 6.38\n"
          ]
        },
        {
          "output_type": "stream",
          "name": "stderr",
          "text": [
            "100%|██████████| 1/1 [00:00<00:00,  6.05it/s]\n"
          ]
        },
        {
          "output_type": "stream",
          "name": "stdout",
          "text": [
            "Epoch: 14, Avg  train loss: 6.02\n"
          ]
        },
        {
          "output_type": "stream",
          "name": "stderr",
          "text": [
            "100%|██████████| 1/1 [00:00<00:00,  5.62it/s]\n"
          ]
        },
        {
          "output_type": "stream",
          "name": "stdout",
          "text": [
            "Epoch: 15, Avg  train loss: 5.58\n"
          ]
        },
        {
          "output_type": "stream",
          "name": "stderr",
          "text": [
            "100%|██████████| 1/1 [00:00<00:00,  3.96it/s]\n"
          ]
        },
        {
          "output_type": "stream",
          "name": "stdout",
          "text": [
            "Epoch: 16, Avg  train loss: 5.07\n"
          ]
        },
        {
          "output_type": "stream",
          "name": "stderr",
          "text": [
            "100%|██████████| 1/1 [00:00<00:00,  6.44it/s]\n"
          ]
        },
        {
          "output_type": "stream",
          "name": "stdout",
          "text": [
            "Epoch: 17, Avg  train loss: 4.51\n"
          ]
        },
        {
          "output_type": "stream",
          "name": "stderr",
          "text": [
            "100%|██████████| 1/1 [00:00<00:00,  6.25it/s]\n"
          ]
        },
        {
          "output_type": "stream",
          "name": "stdout",
          "text": [
            "Epoch: 18, Avg  train loss: 3.91\n"
          ]
        },
        {
          "output_type": "stream",
          "name": "stderr",
          "text": [
            "100%|██████████| 1/1 [00:00<00:00,  6.48it/s]\n"
          ]
        },
        {
          "output_type": "stream",
          "name": "stdout",
          "text": [
            "Epoch: 19, Avg  train loss: 3.31\n"
          ]
        },
        {
          "output_type": "stream",
          "name": "stderr",
          "text": [
            "100%|██████████| 1/1 [00:00<00:00,  5.70it/s]\n"
          ]
        },
        {
          "output_type": "stream",
          "name": "stdout",
          "text": [
            "Epoch: 20, Avg  train loss: 2.74\n"
          ]
        },
        {
          "output_type": "stream",
          "name": "stderr",
          "text": [
            "100%|██████████| 1/1 [00:00<00:00,  5.66it/s]\n"
          ]
        },
        {
          "output_type": "stream",
          "name": "stdout",
          "text": [
            "Epoch: 21, Avg  train loss: 2.26\n"
          ]
        },
        {
          "output_type": "stream",
          "name": "stderr",
          "text": [
            "100%|██████████| 1/1 [00:00<00:00,  5.80it/s]\n"
          ]
        },
        {
          "output_type": "stream",
          "name": "stdout",
          "text": [
            "Epoch: 22, Avg  train loss: 1.85\n"
          ]
        },
        {
          "output_type": "stream",
          "name": "stderr",
          "text": [
            "100%|██████████| 1/1 [00:00<00:00,  5.75it/s]\n"
          ]
        },
        {
          "output_type": "stream",
          "name": "stdout",
          "text": [
            "Epoch: 23, Avg  train loss: 1.5\n"
          ]
        },
        {
          "output_type": "stream",
          "name": "stderr",
          "text": [
            "100%|██████████| 1/1 [00:00<00:00,  5.75it/s]\n"
          ]
        },
        {
          "output_type": "stream",
          "name": "stdout",
          "text": [
            "Epoch: 24, Avg  train loss: 1.2\n"
          ]
        },
        {
          "output_type": "stream",
          "name": "stderr",
          "text": [
            "100%|██████████| 1/1 [00:00<00:00,  5.72it/s]\n"
          ]
        },
        {
          "output_type": "stream",
          "name": "stdout",
          "text": [
            "Epoch: 25, Avg  train loss: 0.96\n"
          ]
        },
        {
          "output_type": "stream",
          "name": "stderr",
          "text": [
            "100%|██████████| 1/1 [00:00<00:00,  5.64it/s]\n"
          ]
        },
        {
          "output_type": "stream",
          "name": "stdout",
          "text": [
            "Epoch: 26, Avg  train loss: 0.76\n"
          ]
        },
        {
          "output_type": "stream",
          "name": "stderr",
          "text": [
            "100%|██████████| 1/1 [00:00<00:00,  5.52it/s]\n"
          ]
        },
        {
          "output_type": "stream",
          "name": "stdout",
          "text": [
            "Epoch: 27, Avg  train loss: 0.63\n"
          ]
        },
        {
          "output_type": "stream",
          "name": "stderr",
          "text": [
            "100%|██████████| 1/1 [00:00<00:00,  5.98it/s]\n"
          ]
        },
        {
          "output_type": "stream",
          "name": "stdout",
          "text": [
            "Epoch: 28, Avg  train loss: 0.54\n"
          ]
        },
        {
          "output_type": "stream",
          "name": "stderr",
          "text": [
            "100%|██████████| 1/1 [00:00<00:00,  5.75it/s]\n"
          ]
        },
        {
          "output_type": "stream",
          "name": "stdout",
          "text": [
            "Epoch: 29, Avg  train loss: 0.48\n"
          ]
        },
        {
          "output_type": "stream",
          "name": "stderr",
          "text": [
            "100%|██████████| 1/1 [00:00<00:00,  5.74it/s]\n"
          ]
        },
        {
          "output_type": "stream",
          "name": "stdout",
          "text": [
            "Epoch: 30, Avg  train loss: 0.44\n"
          ]
        },
        {
          "output_type": "stream",
          "name": "stderr",
          "text": [
            "100%|██████████| 1/1 [00:00<00:00,  6.13it/s]\n"
          ]
        },
        {
          "output_type": "stream",
          "name": "stdout",
          "text": [
            "Epoch: 31, Avg  train loss: 0.41\n"
          ]
        },
        {
          "output_type": "stream",
          "name": "stderr",
          "text": [
            "100%|██████████| 1/1 [00:00<00:00,  5.53it/s]\n"
          ]
        },
        {
          "output_type": "stream",
          "name": "stdout",
          "text": [
            "Epoch: 32, Avg  train loss: 0.39\n"
          ]
        },
        {
          "output_type": "stream",
          "name": "stderr",
          "text": [
            "100%|██████████| 1/1 [00:00<00:00,  5.58it/s]\n"
          ]
        },
        {
          "output_type": "stream",
          "name": "stdout",
          "text": [
            "Epoch: 33, Avg  train loss: 0.38\n"
          ]
        },
        {
          "output_type": "stream",
          "name": "stderr",
          "text": [
            "100%|██████████| 1/1 [00:00<00:00,  5.62it/s]\n"
          ]
        },
        {
          "output_type": "stream",
          "name": "stdout",
          "text": [
            "Epoch: 34, Avg  train loss: 0.37\n"
          ]
        },
        {
          "output_type": "stream",
          "name": "stderr",
          "text": [
            "100%|██████████| 1/1 [00:00<00:00,  5.62it/s]\n"
          ]
        },
        {
          "output_type": "stream",
          "name": "stdout",
          "text": [
            "Epoch: 35, Avg  train loss: 0.36\n"
          ]
        },
        {
          "output_type": "stream",
          "name": "stderr",
          "text": [
            "100%|██████████| 1/1 [00:00<00:00,  5.67it/s]\n"
          ]
        },
        {
          "output_type": "stream",
          "name": "stdout",
          "text": [
            "Epoch: 36, Avg  train loss: 0.35\n"
          ]
        },
        {
          "output_type": "stream",
          "name": "stderr",
          "text": [
            "100%|██████████| 1/1 [00:00<00:00,  5.47it/s]\n"
          ]
        },
        {
          "output_type": "stream",
          "name": "stdout",
          "text": [
            "Epoch: 37, Avg  train loss: 0.34\n"
          ]
        },
        {
          "output_type": "stream",
          "name": "stderr",
          "text": [
            "100%|██████████| 1/1 [00:00<00:00,  5.54it/s]\n"
          ]
        },
        {
          "output_type": "stream",
          "name": "stdout",
          "text": [
            "Epoch: 38, Avg  train loss: 0.33\n"
          ]
        },
        {
          "output_type": "stream",
          "name": "stderr",
          "text": [
            "100%|██████████| 1/1 [00:00<00:00,  5.90it/s]\n"
          ]
        },
        {
          "output_type": "stream",
          "name": "stdout",
          "text": [
            "Epoch: 39, Avg  train loss: 0.33\n"
          ]
        },
        {
          "output_type": "stream",
          "name": "stderr",
          "text": [
            "100%|██████████| 1/1 [00:00<00:00,  5.70it/s]\n"
          ]
        },
        {
          "output_type": "stream",
          "name": "stdout",
          "text": [
            "Epoch: 40, Avg  train loss: 0.32\n"
          ]
        },
        {
          "output_type": "stream",
          "name": "stderr",
          "text": [
            "100%|██████████| 1/1 [00:00<00:00,  5.74it/s]\n"
          ]
        },
        {
          "output_type": "stream",
          "name": "stdout",
          "text": [
            "Epoch: 41, Avg  train loss: 0.32\n"
          ]
        },
        {
          "output_type": "stream",
          "name": "stderr",
          "text": [
            "100%|██████████| 1/1 [00:00<00:00,  5.80it/s]\n"
          ]
        },
        {
          "output_type": "stream",
          "name": "stdout",
          "text": [
            "Epoch: 42, Avg  train loss: 0.31\n"
          ]
        },
        {
          "output_type": "stream",
          "name": "stderr",
          "text": [
            "100%|██████████| 1/1 [00:00<00:00,  5.65it/s]\n"
          ]
        },
        {
          "output_type": "stream",
          "name": "stdout",
          "text": [
            "Epoch: 43, Avg  train loss: 0.31\n"
          ]
        },
        {
          "output_type": "stream",
          "name": "stderr",
          "text": [
            "100%|██████████| 1/1 [00:00<00:00,  5.64it/s]\n"
          ]
        },
        {
          "output_type": "stream",
          "name": "stdout",
          "text": [
            "Epoch: 44, Avg  train loss: 0.31\n"
          ]
        },
        {
          "output_type": "stream",
          "name": "stderr",
          "text": [
            "100%|██████████| 1/1 [00:00<00:00,  5.64it/s]\n"
          ]
        },
        {
          "output_type": "stream",
          "name": "stdout",
          "text": [
            "Epoch: 45, Avg  train loss: 0.31\n"
          ]
        },
        {
          "output_type": "stream",
          "name": "stderr",
          "text": [
            "100%|██████████| 1/1 [00:00<00:00,  5.66it/s]\n"
          ]
        },
        {
          "output_type": "stream",
          "name": "stdout",
          "text": [
            "Epoch: 46, Avg  train loss: 0.3\n"
          ]
        },
        {
          "output_type": "stream",
          "name": "stderr",
          "text": [
            "100%|██████████| 1/1 [00:00<00:00,  5.57it/s]\n"
          ]
        },
        {
          "output_type": "stream",
          "name": "stdout",
          "text": [
            "Epoch: 47, Avg  train loss: 0.3\n"
          ]
        },
        {
          "output_type": "stream",
          "name": "stderr",
          "text": [
            "100%|██████████| 1/1 [00:00<00:00,  5.65it/s]\n"
          ]
        },
        {
          "output_type": "stream",
          "name": "stdout",
          "text": [
            "Epoch: 48, Avg  train loss: 0.3\n"
          ]
        },
        {
          "output_type": "stream",
          "name": "stderr",
          "text": [
            "100%|██████████| 1/1 [00:00<00:00,  5.64it/s]\n"
          ]
        },
        {
          "output_type": "stream",
          "name": "stdout",
          "text": [
            "Epoch: 49, Avg  train loss: 0.3\n"
          ]
        },
        {
          "output_type": "stream",
          "name": "stderr",
          "text": [
            "100%|██████████| 1/1 [00:00<00:00,  5.84it/s]\n"
          ]
        },
        {
          "output_type": "stream",
          "name": "stdout",
          "text": [
            "Epoch: 50, Avg  train loss: 0.3\n"
          ]
        },
        {
          "output_type": "stream",
          "name": "stderr",
          "text": [
            "100%|██████████| 1/1 [00:00<00:00,  5.73it/s]\n"
          ]
        },
        {
          "output_type": "stream",
          "name": "stdout",
          "text": [
            "Epoch: 51, Avg  train loss: 0.3\n"
          ]
        },
        {
          "output_type": "stream",
          "name": "stderr",
          "text": [
            "100%|██████████| 1/1 [00:00<00:00,  5.66it/s]\n"
          ]
        },
        {
          "output_type": "stream",
          "name": "stdout",
          "text": [
            "Epoch: 52, Avg  train loss: 0.29\n"
          ]
        },
        {
          "output_type": "stream",
          "name": "stderr",
          "text": [
            "100%|██████████| 1/1 [00:00<00:00,  5.32it/s]\n"
          ]
        },
        {
          "output_type": "stream",
          "name": "stdout",
          "text": [
            "Epoch: 53, Avg  train loss: 0.29\n"
          ]
        },
        {
          "output_type": "stream",
          "name": "stderr",
          "text": [
            "100%|██████████| 1/1 [00:00<00:00,  5.52it/s]\n"
          ]
        },
        {
          "output_type": "stream",
          "name": "stdout",
          "text": [
            "Epoch: 54, Avg  train loss: 0.29\n"
          ]
        },
        {
          "output_type": "stream",
          "name": "stderr",
          "text": [
            "100%|██████████| 1/1 [00:00<00:00,  5.84it/s]\n"
          ]
        },
        {
          "output_type": "stream",
          "name": "stdout",
          "text": [
            "Epoch: 55, Avg  train loss: 0.29\n"
          ]
        },
        {
          "output_type": "stream",
          "name": "stderr",
          "text": [
            "100%|██████████| 1/1 [00:00<00:00,  5.66it/s]\n"
          ]
        },
        {
          "output_type": "stream",
          "name": "stdout",
          "text": [
            "Epoch: 56, Avg  train loss: 0.29\n"
          ]
        },
        {
          "output_type": "stream",
          "name": "stderr",
          "text": [
            "100%|██████████| 1/1 [00:00<00:00,  5.70it/s]\n"
          ]
        },
        {
          "output_type": "stream",
          "name": "stdout",
          "text": [
            "Epoch: 57, Avg  train loss: 0.29\n"
          ]
        },
        {
          "output_type": "stream",
          "name": "stderr",
          "text": [
            "100%|██████████| 1/1 [00:00<00:00,  5.56it/s]\n"
          ]
        },
        {
          "output_type": "stream",
          "name": "stdout",
          "text": [
            "Epoch: 58, Avg  train loss: 0.29\n"
          ]
        },
        {
          "output_type": "stream",
          "name": "stderr",
          "text": [
            "100%|██████████| 1/1 [00:00<00:00,  5.54it/s]\n"
          ]
        },
        {
          "output_type": "stream",
          "name": "stdout",
          "text": [
            "Epoch: 59, Avg  train loss: 0.29\n"
          ]
        },
        {
          "output_type": "stream",
          "name": "stderr",
          "text": [
            "100%|██████████| 1/1 [00:00<00:00,  5.46it/s]\n"
          ]
        },
        {
          "output_type": "stream",
          "name": "stdout",
          "text": [
            "Epoch: 60, Avg  train loss: 0.29\n"
          ]
        },
        {
          "output_type": "stream",
          "name": "stderr",
          "text": [
            "100%|██████████| 1/1 [00:00<00:00,  5.70it/s]\n"
          ]
        },
        {
          "output_type": "stream",
          "name": "stdout",
          "text": [
            "Epoch: 61, Avg  train loss: 0.29\n"
          ]
        },
        {
          "output_type": "stream",
          "name": "stderr",
          "text": [
            "100%|██████████| 1/1 [00:00<00:00,  5.45it/s]\n"
          ]
        },
        {
          "output_type": "stream",
          "name": "stdout",
          "text": [
            "Epoch: 62, Avg  train loss: 0.28\n"
          ]
        },
        {
          "output_type": "stream",
          "name": "stderr",
          "text": [
            "100%|██████████| 1/1 [00:00<00:00,  5.55it/s]\n"
          ]
        },
        {
          "output_type": "stream",
          "name": "stdout",
          "text": [
            "Epoch: 63, Avg  train loss: 0.28\n"
          ]
        },
        {
          "output_type": "stream",
          "name": "stderr",
          "text": [
            "100%|██████████| 1/1 [00:00<00:00,  5.96it/s]\n"
          ]
        },
        {
          "output_type": "stream",
          "name": "stdout",
          "text": [
            "Epoch: 64, Avg  train loss: 0.28\n"
          ]
        },
        {
          "output_type": "stream",
          "name": "stderr",
          "text": [
            "100%|██████████| 1/1 [00:00<00:00,  5.67it/s]\n"
          ]
        },
        {
          "output_type": "stream",
          "name": "stdout",
          "text": [
            "Epoch: 65, Avg  train loss: 0.28\n"
          ]
        },
        {
          "output_type": "stream",
          "name": "stderr",
          "text": [
            "100%|██████████| 1/1 [00:00<00:00,  5.59it/s]\n"
          ]
        },
        {
          "output_type": "stream",
          "name": "stdout",
          "text": [
            "Epoch: 66, Avg  train loss: 0.28\n"
          ]
        },
        {
          "output_type": "stream",
          "name": "stderr",
          "text": [
            "100%|██████████| 1/1 [00:00<00:00,  5.64it/s]\n"
          ]
        },
        {
          "output_type": "stream",
          "name": "stdout",
          "text": [
            "Epoch: 67, Avg  train loss: 0.28\n"
          ]
        },
        {
          "output_type": "stream",
          "name": "stderr",
          "text": [
            "100%|██████████| 1/1 [00:00<00:00,  5.63it/s]\n"
          ]
        },
        {
          "output_type": "stream",
          "name": "stdout",
          "text": [
            "Epoch: 68, Avg  train loss: 0.28\n"
          ]
        },
        {
          "output_type": "stream",
          "name": "stderr",
          "text": [
            "100%|██████████| 1/1 [00:00<00:00,  5.63it/s]\n"
          ]
        },
        {
          "output_type": "stream",
          "name": "stdout",
          "text": [
            "Epoch: 69, Avg  train loss: 0.28\n"
          ]
        },
        {
          "output_type": "stream",
          "name": "stderr",
          "text": [
            "100%|██████████| 1/1 [00:00<00:00,  5.50it/s]\n"
          ]
        },
        {
          "output_type": "stream",
          "name": "stdout",
          "text": [
            "Epoch: 70, Avg  train loss: 0.28\n"
          ]
        },
        {
          "output_type": "stream",
          "name": "stderr",
          "text": [
            "100%|██████████| 1/1 [00:00<00:00,  5.59it/s]\n"
          ]
        },
        {
          "output_type": "stream",
          "name": "stdout",
          "text": [
            "Epoch: 71, Avg  train loss: 0.28\n"
          ]
        },
        {
          "output_type": "stream",
          "name": "stderr",
          "text": [
            "100%|██████████| 1/1 [00:00<00:00,  5.71it/s]\n"
          ]
        },
        {
          "output_type": "stream",
          "name": "stdout",
          "text": [
            "Epoch: 72, Avg  train loss: 0.28\n"
          ]
        },
        {
          "output_type": "stream",
          "name": "stderr",
          "text": [
            "100%|██████████| 1/1 [00:00<00:00,  5.67it/s]\n"
          ]
        },
        {
          "output_type": "stream",
          "name": "stdout",
          "text": [
            "Epoch: 73, Avg  train loss: 0.28\n"
          ]
        },
        {
          "output_type": "stream",
          "name": "stderr",
          "text": [
            "100%|██████████| 1/1 [00:00<00:00,  5.61it/s]\n"
          ]
        },
        {
          "output_type": "stream",
          "name": "stdout",
          "text": [
            "Epoch: 74, Avg  train loss: 0.28\n"
          ]
        },
        {
          "output_type": "stream",
          "name": "stderr",
          "text": [
            "100%|██████████| 1/1 [00:00<00:00,  5.56it/s]\n"
          ]
        },
        {
          "output_type": "stream",
          "name": "stdout",
          "text": [
            "Epoch: 75, Avg  train loss: 0.27\n"
          ]
        },
        {
          "output_type": "stream",
          "name": "stderr",
          "text": [
            "100%|██████████| 1/1 [00:00<00:00,  5.64it/s]\n"
          ]
        },
        {
          "output_type": "stream",
          "name": "stdout",
          "text": [
            "Epoch: 76, Avg  train loss: 0.27\n"
          ]
        },
        {
          "output_type": "stream",
          "name": "stderr",
          "text": [
            "100%|██████████| 1/1 [00:00<00:00,  5.62it/s]\n"
          ]
        },
        {
          "output_type": "stream",
          "name": "stdout",
          "text": [
            "Epoch: 77, Avg  train loss: 0.27\n"
          ]
        },
        {
          "output_type": "stream",
          "name": "stderr",
          "text": [
            "100%|██████████| 1/1 [00:00<00:00,  5.64it/s]\n"
          ]
        },
        {
          "output_type": "stream",
          "name": "stdout",
          "text": [
            "Epoch: 78, Avg  train loss: 0.27\n"
          ]
        },
        {
          "output_type": "stream",
          "name": "stderr",
          "text": [
            "100%|██████████| 1/1 [00:00<00:00,  5.89it/s]\n"
          ]
        },
        {
          "output_type": "stream",
          "name": "stdout",
          "text": [
            "Epoch: 79, Avg  train loss: 0.27\n"
          ]
        },
        {
          "output_type": "stream",
          "name": "stderr",
          "text": [
            "100%|██████████| 1/1 [00:00<00:00,  5.64it/s]\n"
          ]
        },
        {
          "output_type": "stream",
          "name": "stdout",
          "text": [
            "Epoch: 80, Avg  train loss: 0.27\n"
          ]
        },
        {
          "output_type": "stream",
          "name": "stderr",
          "text": [
            "100%|██████████| 1/1 [00:00<00:00,  5.73it/s]\n"
          ]
        },
        {
          "output_type": "stream",
          "name": "stdout",
          "text": [
            "Epoch: 81, Avg  train loss: 0.27\n"
          ]
        },
        {
          "output_type": "stream",
          "name": "stderr",
          "text": [
            "100%|██████████| 1/1 [00:00<00:00,  5.63it/s]\n"
          ]
        },
        {
          "output_type": "stream",
          "name": "stdout",
          "text": [
            "Epoch: 82, Avg  train loss: 0.27\n"
          ]
        },
        {
          "output_type": "stream",
          "name": "stderr",
          "text": [
            "100%|██████████| 1/1 [00:00<00:00,  5.65it/s]\n"
          ]
        },
        {
          "output_type": "stream",
          "name": "stdout",
          "text": [
            "Epoch: 83, Avg  train loss: 0.27\n"
          ]
        },
        {
          "output_type": "stream",
          "name": "stderr",
          "text": [
            "100%|██████████| 1/1 [00:00<00:00,  5.60it/s]\n"
          ]
        },
        {
          "output_type": "stream",
          "name": "stdout",
          "text": [
            "Epoch: 84, Avg  train loss: 0.27\n"
          ]
        },
        {
          "output_type": "stream",
          "name": "stderr",
          "text": [
            "100%|██████████| 1/1 [00:00<00:00,  5.69it/s]\n"
          ]
        },
        {
          "output_type": "stream",
          "name": "stdout",
          "text": [
            "Epoch: 85, Avg  train loss: 0.27\n"
          ]
        },
        {
          "output_type": "stream",
          "name": "stderr",
          "text": [
            "100%|██████████| 1/1 [00:00<00:00,  5.61it/s]\n"
          ]
        },
        {
          "output_type": "stream",
          "name": "stdout",
          "text": [
            "Epoch: 86, Avg  train loss: 0.27\n"
          ]
        },
        {
          "output_type": "stream",
          "name": "stderr",
          "text": [
            "100%|██████████| 1/1 [00:00<00:00,  5.62it/s]\n"
          ]
        },
        {
          "output_type": "stream",
          "name": "stdout",
          "text": [
            "Epoch: 87, Avg  train loss: 0.27\n"
          ]
        },
        {
          "output_type": "stream",
          "name": "stderr",
          "text": [
            "100%|██████████| 1/1 [00:00<00:00,  5.57it/s]\n"
          ]
        },
        {
          "output_type": "stream",
          "name": "stdout",
          "text": [
            "Epoch: 88, Avg  train loss: 0.27\n"
          ]
        },
        {
          "output_type": "stream",
          "name": "stderr",
          "text": [
            "100%|██████████| 1/1 [00:00<00:00,  5.60it/s]\n"
          ]
        },
        {
          "output_type": "stream",
          "name": "stdout",
          "text": [
            "Epoch: 89, Avg  train loss: 0.27\n"
          ]
        },
        {
          "output_type": "stream",
          "name": "stderr",
          "text": [
            "100%|██████████| 1/1 [00:00<00:00,  5.59it/s]\n"
          ]
        },
        {
          "output_type": "stream",
          "name": "stdout",
          "text": [
            "Epoch: 90, Avg  train loss: 0.27\n"
          ]
        },
        {
          "output_type": "stream",
          "name": "stderr",
          "text": [
            "100%|██████████| 1/1 [00:00<00:00,  5.64it/s]\n"
          ]
        },
        {
          "output_type": "stream",
          "name": "stdout",
          "text": [
            "Epoch: 91, Avg  train loss: 0.26\n"
          ]
        },
        {
          "output_type": "stream",
          "name": "stderr",
          "text": [
            "100%|██████████| 1/1 [00:00<00:00,  5.55it/s]\n"
          ]
        },
        {
          "output_type": "stream",
          "name": "stdout",
          "text": [
            "Epoch: 92, Avg  train loss: 0.26\n"
          ]
        },
        {
          "output_type": "stream",
          "name": "stderr",
          "text": [
            "100%|██████████| 1/1 [00:00<00:00,  5.59it/s]\n"
          ]
        },
        {
          "output_type": "stream",
          "name": "stdout",
          "text": [
            "Epoch: 93, Avg  train loss: 0.26\n"
          ]
        },
        {
          "output_type": "stream",
          "name": "stderr",
          "text": [
            "100%|██████████| 1/1 [00:00<00:00,  5.67it/s]\n"
          ]
        },
        {
          "output_type": "stream",
          "name": "stdout",
          "text": [
            "Epoch: 94, Avg  train loss: 0.26\n"
          ]
        },
        {
          "output_type": "stream",
          "name": "stderr",
          "text": [
            "100%|██████████| 1/1 [00:00<00:00,  5.69it/s]\n"
          ]
        },
        {
          "output_type": "stream",
          "name": "stdout",
          "text": [
            "Epoch: 95, Avg  train loss: 0.26\n"
          ]
        },
        {
          "output_type": "stream",
          "name": "stderr",
          "text": [
            "100%|██████████| 1/1 [00:00<00:00,  5.68it/s]\n"
          ]
        },
        {
          "output_type": "stream",
          "name": "stdout",
          "text": [
            "Epoch: 96, Avg  train loss: 0.26\n"
          ]
        },
        {
          "output_type": "stream",
          "name": "stderr",
          "text": [
            "100%|██████████| 1/1 [00:00<00:00,  5.60it/s]\n"
          ]
        },
        {
          "output_type": "stream",
          "name": "stdout",
          "text": [
            "Epoch: 97, Avg  train loss: 0.26\n"
          ]
        },
        {
          "output_type": "stream",
          "name": "stderr",
          "text": [
            "100%|██████████| 1/1 [00:00<00:00,  6.00it/s]\n"
          ]
        },
        {
          "output_type": "stream",
          "name": "stdout",
          "text": [
            "Epoch: 98, Avg  train loss: 0.26\n"
          ]
        },
        {
          "output_type": "stream",
          "name": "stderr",
          "text": [
            "100%|██████████| 1/1 [00:00<00:00,  5.55it/s]"
          ]
        },
        {
          "output_type": "stream",
          "name": "stdout",
          "text": [
            "Epoch: 99, Avg  train loss: 0.26\n"
          ]
        },
        {
          "output_type": "stream",
          "name": "stderr",
          "text": [
            "\n"
          ]
        }
      ]
    },
    {
      "cell_type": "code",
      "source": [
        "from google.colab import drive\n",
        "import torch\n",
        "from transformers import GPT2Config, GPT2LMHeadModel\n",
        "\n",
        "# Mount Google Drive\n",
        "drive.mount('/content/drive')\n",
        "\n",
        "# Define the correct model path\n",
        "model_dir = \"/content/drive/My Drive\"  # Update this with your actual path\n",
        "\n",
        "# Load GPT-2 model\n",
        "configuration = GPT2Config()\n",
        "gpt_model = GPT2LMHeadModel(configuration).to(device)  # Ensure correct model class\n",
        "\n",
        "# Load state dictionary safely\n",
        "try:\n",
        "    gpt_model.load_state_dict(torch.load(model_dir, map_location=device))\n",
        "    print(\"Model loaded successfully!\")\n",
        "except FileNotFoundError:\n",
        "    print(f\"Error: Model file not found at {model_dir}. Check the path.\")\n",
        "\n",
        "# Set to evaluation mode\n",
        "gpt_model.eval()\n"
      ],
      "metadata": {
        "colab": {
          "base_uri": "https://localhost:8080/",
          "height": 445
        },
        "collapsed": true,
        "id": "Ot9RLjer9G0Q",
        "outputId": "308b4f06-9603-4504-8305-bb9ce2a36dc6"
      },
      "execution_count": null,
      "outputs": [
        {
          "output_type": "stream",
          "name": "stdout",
          "text": [
            "Drive already mounted at /content/drive; to attempt to forcibly remount, call drive.mount(\"/content/drive\", force_remount=True).\n"
          ]
        },
        {
          "output_type": "stream",
          "name": "stderr",
          "text": [
            "<ipython-input-34-fbd8bd8ccd45>:17: FutureWarning: You are using `torch.load` with `weights_only=False` (the current default value), which uses the default pickle module implicitly. It is possible to construct malicious pickle data which will execute arbitrary code during unpickling (See https://github.com/pytorch/pytorch/blob/main/SECURITY.md#untrusted-models for more details). In a future release, the default value for `weights_only` will be flipped to `True`. This limits the functions that could be executed during unpickling. Arbitrary objects will no longer be allowed to be loaded via this mode unless they are explicitly allowlisted by the user via `torch.serialization.add_safe_globals`. We recommend you start setting `weights_only=True` for any use case where you don't have full control of the loaded file. Please open an issue on GitHub for any issues related to this experimental feature.\n",
            "  gpt_model.load_state_dict(torch.load(model_dir, map_location=device))\n"
          ]
        },
        {
          "output_type": "error",
          "ename": "IsADirectoryError",
          "evalue": "[Errno 21] Is a directory: '/content/drive/My Drive'",
          "traceback": [
            "\u001b[0;31m---------------------------------------------------------------------------\u001b[0m",
            "\u001b[0;31mIsADirectoryError\u001b[0m                         Traceback (most recent call last)",
            "\u001b[0;32m<ipython-input-34-fbd8bd8ccd45>\u001b[0m in \u001b[0;36m<cell line: 0>\u001b[0;34m()\u001b[0m\n\u001b[1;32m     15\u001b[0m \u001b[0;31m# Load state dictionary safely\u001b[0m\u001b[0;34m\u001b[0m\u001b[0;34m\u001b[0m\u001b[0m\n\u001b[1;32m     16\u001b[0m \u001b[0;32mtry\u001b[0m\u001b[0;34m:\u001b[0m\u001b[0;34m\u001b[0m\u001b[0;34m\u001b[0m\u001b[0m\n\u001b[0;32m---> 17\u001b[0;31m     \u001b[0mgpt_model\u001b[0m\u001b[0;34m.\u001b[0m\u001b[0mload_state_dict\u001b[0m\u001b[0;34m(\u001b[0m\u001b[0mtorch\u001b[0m\u001b[0;34m.\u001b[0m\u001b[0mload\u001b[0m\u001b[0;34m(\u001b[0m\u001b[0mmodel_dir\u001b[0m\u001b[0;34m,\u001b[0m \u001b[0mmap_location\u001b[0m\u001b[0;34m=\u001b[0m\u001b[0mdevice\u001b[0m\u001b[0;34m)\u001b[0m\u001b[0;34m)\u001b[0m\u001b[0;34m\u001b[0m\u001b[0;34m\u001b[0m\u001b[0m\n\u001b[0m\u001b[1;32m     18\u001b[0m     \u001b[0mprint\u001b[0m\u001b[0;34m(\u001b[0m\u001b[0;34m\"Model loaded successfully!\"\u001b[0m\u001b[0;34m)\u001b[0m\u001b[0;34m\u001b[0m\u001b[0;34m\u001b[0m\u001b[0m\n\u001b[1;32m     19\u001b[0m \u001b[0;32mexcept\u001b[0m \u001b[0mFileNotFoundError\u001b[0m\u001b[0;34m:\u001b[0m\u001b[0;34m\u001b[0m\u001b[0;34m\u001b[0m\u001b[0m\n",
            "\u001b[0;32m/usr/local/lib/python3.11/dist-packages/torch/serialization.py\u001b[0m in \u001b[0;36mload\u001b[0;34m(f, map_location, pickle_module, weights_only, mmap, **pickle_load_args)\u001b[0m\n\u001b[1;32m   1317\u001b[0m         \u001b[0mpickle_load_args\u001b[0m\u001b[0;34m[\u001b[0m\u001b[0;34m\"encoding\"\u001b[0m\u001b[0;34m]\u001b[0m \u001b[0;34m=\u001b[0m \u001b[0;34m\"utf-8\"\u001b[0m\u001b[0;34m\u001b[0m\u001b[0;34m\u001b[0m\u001b[0m\n\u001b[1;32m   1318\u001b[0m \u001b[0;34m\u001b[0m\u001b[0m\n\u001b[0;32m-> 1319\u001b[0;31m     \u001b[0;32mwith\u001b[0m \u001b[0m_open_file_like\u001b[0m\u001b[0;34m(\u001b[0m\u001b[0mf\u001b[0m\u001b[0;34m,\u001b[0m \u001b[0;34m\"rb\"\u001b[0m\u001b[0;34m)\u001b[0m \u001b[0;32mas\u001b[0m \u001b[0mopened_file\u001b[0m\u001b[0;34m:\u001b[0m\u001b[0;34m\u001b[0m\u001b[0;34m\u001b[0m\u001b[0m\n\u001b[0m\u001b[1;32m   1320\u001b[0m         \u001b[0;32mif\u001b[0m \u001b[0m_is_zipfile\u001b[0m\u001b[0;34m(\u001b[0m\u001b[0mopened_file\u001b[0m\u001b[0;34m)\u001b[0m\u001b[0;34m:\u001b[0m\u001b[0;34m\u001b[0m\u001b[0;34m\u001b[0m\u001b[0m\n\u001b[1;32m   1321\u001b[0m             \u001b[0;31m# The zipfile reader is going to advance the current file position.\u001b[0m\u001b[0;34m\u001b[0m\u001b[0;34m\u001b[0m\u001b[0m\n",
            "\u001b[0;32m/usr/local/lib/python3.11/dist-packages/torch/serialization.py\u001b[0m in \u001b[0;36m_open_file_like\u001b[0;34m(name_or_buffer, mode)\u001b[0m\n\u001b[1;32m    657\u001b[0m \u001b[0;32mdef\u001b[0m \u001b[0m_open_file_like\u001b[0m\u001b[0;34m(\u001b[0m\u001b[0mname_or_buffer\u001b[0m\u001b[0;34m,\u001b[0m \u001b[0mmode\u001b[0m\u001b[0;34m)\u001b[0m\u001b[0;34m:\u001b[0m\u001b[0;34m\u001b[0m\u001b[0;34m\u001b[0m\u001b[0m\n\u001b[1;32m    658\u001b[0m     \u001b[0;32mif\u001b[0m \u001b[0m_is_path\u001b[0m\u001b[0;34m(\u001b[0m\u001b[0mname_or_buffer\u001b[0m\u001b[0;34m)\u001b[0m\u001b[0;34m:\u001b[0m\u001b[0;34m\u001b[0m\u001b[0;34m\u001b[0m\u001b[0m\n\u001b[0;32m--> 659\u001b[0;31m         \u001b[0;32mreturn\u001b[0m \u001b[0m_open_file\u001b[0m\u001b[0;34m(\u001b[0m\u001b[0mname_or_buffer\u001b[0m\u001b[0;34m,\u001b[0m \u001b[0mmode\u001b[0m\u001b[0;34m)\u001b[0m\u001b[0;34m\u001b[0m\u001b[0;34m\u001b[0m\u001b[0m\n\u001b[0m\u001b[1;32m    660\u001b[0m     \u001b[0;32melse\u001b[0m\u001b[0;34m:\u001b[0m\u001b[0;34m\u001b[0m\u001b[0;34m\u001b[0m\u001b[0m\n\u001b[1;32m    661\u001b[0m         \u001b[0;32mif\u001b[0m \u001b[0;34m\"w\"\u001b[0m \u001b[0;32min\u001b[0m \u001b[0mmode\u001b[0m\u001b[0;34m:\u001b[0m\u001b[0;34m\u001b[0m\u001b[0;34m\u001b[0m\u001b[0m\n",
            "\u001b[0;32m/usr/local/lib/python3.11/dist-packages/torch/serialization.py\u001b[0m in \u001b[0;36m__init__\u001b[0;34m(self, name, mode)\u001b[0m\n\u001b[1;32m    638\u001b[0m \u001b[0;32mclass\u001b[0m \u001b[0m_open_file\u001b[0m\u001b[0;34m(\u001b[0m\u001b[0m_opener\u001b[0m\u001b[0;34m)\u001b[0m\u001b[0;34m:\u001b[0m\u001b[0;34m\u001b[0m\u001b[0;34m\u001b[0m\u001b[0m\n\u001b[1;32m    639\u001b[0m     \u001b[0;32mdef\u001b[0m \u001b[0m__init__\u001b[0m\u001b[0;34m(\u001b[0m\u001b[0mself\u001b[0m\u001b[0;34m,\u001b[0m \u001b[0mname\u001b[0m\u001b[0;34m,\u001b[0m \u001b[0mmode\u001b[0m\u001b[0;34m)\u001b[0m\u001b[0;34m:\u001b[0m\u001b[0;34m\u001b[0m\u001b[0;34m\u001b[0m\u001b[0m\n\u001b[0;32m--> 640\u001b[0;31m         \u001b[0msuper\u001b[0m\u001b[0;34m(\u001b[0m\u001b[0;34m)\u001b[0m\u001b[0;34m.\u001b[0m\u001b[0m__init__\u001b[0m\u001b[0;34m(\u001b[0m\u001b[0mopen\u001b[0m\u001b[0;34m(\u001b[0m\u001b[0mname\u001b[0m\u001b[0;34m,\u001b[0m \u001b[0mmode\u001b[0m\u001b[0;34m)\u001b[0m\u001b[0;34m)\u001b[0m\u001b[0;34m\u001b[0m\u001b[0;34m\u001b[0m\u001b[0m\n\u001b[0m\u001b[1;32m    641\u001b[0m \u001b[0;34m\u001b[0m\u001b[0m\n\u001b[1;32m    642\u001b[0m     \u001b[0;32mdef\u001b[0m \u001b[0m__exit__\u001b[0m\u001b[0;34m(\u001b[0m\u001b[0mself\u001b[0m\u001b[0;34m,\u001b[0m \u001b[0;34m*\u001b[0m\u001b[0margs\u001b[0m\u001b[0;34m)\u001b[0m\u001b[0;34m:\u001b[0m\u001b[0;34m\u001b[0m\u001b[0;34m\u001b[0m\u001b[0m\n",
            "\u001b[0;31mIsADirectoryError\u001b[0m: [Errno 21] Is a directory: '/content/drive/My Drive'"
          ]
        }
      ]
    },
    {
      "cell_type": "code",
      "source": [
        "import torch\n",
        "import torch.nn.functional as F\n",
        "\n",
        "def generate(idx, max_new_tokens, context_size, tokenizer, model, top_k=10, top_p=0.95):\n",
        "    for _ in range(max_new_tokens):\n",
        "        # Stop if the last token is the EOS token\n",
        "        if idx[:, -1].item() == tokenizer.encode(tokenizer.eos_token, add_special_tokens=False)[0]:\n",
        "            break\n",
        "\n",
        "        # Crop idx to the last `context_size` tokens\n",
        "        idx_cond = idx[:, -context_size:]\n",
        "\n",
        "        # Get model predictions (logits)\n",
        "        # The model may return a tuple, we only need the logits which is the first element in the tuple\n",
        "        outputs = model(idx_cond)\n",
        "        logits = outputs.logits  # Assuming the logits are available as outputs.logits for GPT2LMHeadModel\n",
        "\n",
        "        # Select logits of the last token\n",
        "        logits = logits[:, -1, :]\n",
        "\n",
        "        # Apply softmax to get probabilities\n",
        "        probs = F.softmax(logits, dim=-1)\n",
        "\n",
        "        # Apply top-k filtering\n",
        "        if top_k > 0:\n",
        "            top_k_values, top_k_indices = torch.topk(probs, top_k)\n",
        "            probs = top_k_values\n",
        "            indices = top_k_indices\n",
        "        else:\n",
        "            sorted_probs, indices = torch.sort(probs, descending=True)\n",
        "\n",
        "        # Apply top-p (nucleus) sampling\n",
        "        sorted_probs, indices = torch.sort(probs, descending=True)\n",
        "        cumulative_probs = torch.cumsum(sorted_probs, dim=-1)\n",
        "\n",
        "        # Keep only tokens with cumulative probability mass <= top_p\n",
        "        filtered_indices = cumulative_probs <= top_p\n",
        "        sorted_probs = sorted_probs[:, filtered_indices[0]]\n",
        "        indices = indices[:, filtered_indices[0]]\n",
        "\n",
        "        # Normalize the remaining probabilities\n",
        "        sorted_probs = F.softmax(sorted_probs, dim=-1)\n",
        "\n",
        "        # Sample the next token\n",
        "        idx_next = indices[:, torch.multinomial(sorted_probs, num_samples=1)]\n",
        "\n",
        "        # Append new token ids\n",
        "        # The issue was with the shape of idx_next, which was (1, 1, 1)\n",
        "        # We need to squeeze it to (1, 1) before concatenating\n",
        "        idx = torch.cat((idx, idx_next.squeeze(-1)), dim=1)\n",
        "\n",
        "    return idx  # Ensure only the token tensor is returned\n"
      ],
      "metadata": {
        "id": "4lr0dfa_EPbB"
      },
      "execution_count": null,
      "outputs": []
    },
    {
      "cell_type": "code",
      "source": [
        "gpt_model.eval()\n",
        "\n",
        "prompt = \"How will AI impact\"\n",
        "generated = tokenizer.encode(prompt, return_tensors=\"pt\").to(device)\n",
        "\n",
        "generated_tokens = generate(\n",
        "    generated,\n",
        "    max_new_tokens=100,\n",
        "    context_size=256,\n",
        "    tokenizer=tokenizer,\n",
        "    model=gpt_model,\n",
        "    top_k=10,\n",
        "    top_p=0.95\n",
        ")\n",
        "\n",
        "# Decode and print the generated text\n",
        "print(tokenizer.decode(generated_tokens[0].cpu().numpy(), skip_special_tokens=True))\n"
      ],
      "metadata": {
        "colab": {
          "base_uri": "https://localhost:8080/"
        },
        "id": "9nkC6dJoEYXA",
        "outputId": "5522d6a4-8a3b-430e-cdef-7b40e524dd1d"
      },
      "execution_count": null,
      "outputs": [
        {
          "output_type": "stream",
          "name": "stdout",
          "text": [
            "How will AI impact%\"\"'##'\"!#\"$&'$)!()*\")((&&%&*#!*\"%($*&&'&))\"&*!#***'\"#%&**$&*$!\"&\"%'\"*#)&%)\"))%('($\"'\"!#!(%!#!')!\"#*\n"
          ]
        }
      ]
    },
    {
      "cell_type": "code",
      "source": [
        "gpt_model.eval()\n",
        "\n",
        "prompt = \"How will AI impact\"\n",
        "generated = torch.tensor(tokenizer.encode(prompt)).unsqueeze(0)\n",
        "generated = generated.to(device)\n",
        "\n",
        "sample_outputs = generate(generated,\n",
        "                         max_new_tokens=100,\n",
        "                         context_size=256,\n",
        "                         tokenizer=tokenizer,\n",
        "                         model=gpt_model,\n",
        "                         top_k=10,\n",
        "                         top_p=0.95)\n",
        "\n",
        "for i, sample_output in enumerate(sample_outputs):\n",
        "    print(f\"{tokenizer.decode(sample_output, skip_special_tokens=True)}\")"
      ],
      "metadata": {
        "colab": {
          "base_uri": "https://localhost:8080/"
        },
        "id": "FPfwnZK7FOtp",
        "outputId": "84ef7a3b-3c82-4a13-985c-c1c70d2f6c82"
      },
      "execution_count": null,
      "outputs": [
        {
          "output_type": "stream",
          "name": "stdout",
          "text": [
            "How will AI impact*%\")**$#*(%\"%)$\"!))!)%!%\"!)###!)%\")#)\"!\"%(&\"#)$*&#!(!*#**&\"\"&!(!(!)'*#'\"*#'#%*&(!#(%$'(#)%\"(\"!*'\")&&\n"
          ]
        }
      ]
    }
  ]
}